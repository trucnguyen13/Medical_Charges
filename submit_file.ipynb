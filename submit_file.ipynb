{
 "cells": [
  {
   "cell_type": "markdown",
   "metadata": {
    "id": "pKp3-X4lnyrO"
   },
   "source": [
    "# Import thư viện"
   ]
  },
  {
   "cell_type": "code",
   "execution_count": 1,
   "metadata": {
    "executionInfo": {
     "elapsed": 1636,
     "status": "ok",
     "timestamp": 1620876201565,
     "user": {
      "displayName": "Trực Nguyễn",
      "photoUrl": "https://lh3.googleusercontent.com/a-/AOh14GjUPsjUbu0f_lzSAntKKiOnFaebaoIUcQjmJuSHgA=s64",
      "userId": "05506473588895822423"
     },
     "user_tz": -420
    },
    "id": "rY5BNMzrnyrV"
   },
   "outputs": [],
   "source": [
    "%matplotlib inline\n",
    "import warnings\n",
    "import matplotlib.pyplot as plt\n",
    "import seaborn as sns # seaborn là thư viện được xây trên matplotlib, giúp việc visualization đỡ khổ hơn\n",
    "import pandas as pd\n",
    "import numpy as np\n",
    "\n",
    "from sklearn.model_selection import train_test_split\n",
    "from sklearn.model_selection import GridSearchCV\n",
    "from sklearn.preprocessing import OneHotEncoder, StandardScaler\n",
    "from sklearn.impute import SimpleImputer\n",
    "from sklearn.base import BaseEstimator, TransformerMixin\n",
    "from sklearn.pipeline import Pipeline, make_pipeline\n",
    "from sklearn.compose import ColumnTransformer, make_column_transformer\n",
    "\n",
    "from sklearn import set_config\n",
    "from mpl_toolkits.mplot3d import Axes3D\n",
    "\n",
    "from sklearn.linear_model import LinearRegression\n",
    "from sklearn.neural_network import MLPRegressor\n",
    "from sklearn.ensemble import RandomForestRegressor\n",
    "set_config() # Để trực quan hóa pipeline\n",
    "warnings.filterwarnings('ignore')\n"
   ]
  },
  {
   "cell_type": "markdown",
   "metadata": {
    "id": "aHQtNgd3nyrX"
   },
   "source": [
    "# I. Xử lý dữ liệu đầu vô"
   ]
  },
  {
   "cell_type": "code",
   "execution_count": 2,
   "metadata": {
    "colab": {
     "base_uri": "https://localhost:8080/"
    },
    "executionInfo": {
     "elapsed": 2741,
     "status": "ok",
     "timestamp": 1620876202682,
     "user": {
      "displayName": "Trực Nguyễn",
      "photoUrl": "https://lh3.googleusercontent.com/a-/AOh14GjUPsjUbu0f_lzSAntKKiOnFaebaoIUcQjmJuSHgA=s64",
      "userId": "05506473588895822423"
     },
     "user_tz": -420
    },
    "id": "GU1iodnIn0Mr",
    "outputId": "ceb4de09-6609-4792-e8b8-3055afc3eaed"
   },
   "outputs": [
    {
     "name": "stdout",
     "output_type": "stream",
     "text": [
      "Drive already mounted at /content/drive; to attempt to forcibly remount, call drive.mount(\"/content/drive\", force_remount=True).\n"
     ]
    }
   ],
   "source": [
    "from google.colab import drive\n",
    "drive.mount('/content/drive')"
   ]
  },
  {
   "cell_type": "markdown",
   "metadata": {
    "id": "j4A1QAUCnyrX"
   },
   "source": [
    "## 1. Đọc dữ liệu"
   ]
  },
  {
   "cell_type": "code",
   "execution_count": 3,
   "metadata": {
    "colab": {
     "base_uri": "https://localhost:8080/",
     "height": 343
    },
    "executionInfo": {
     "elapsed": 2729,
     "status": "ok",
     "timestamp": 1620876202683,
     "user": {
      "displayName": "Trực Nguyễn",
      "photoUrl": "https://lh3.googleusercontent.com/a-/AOh14GjUPsjUbu0f_lzSAntKKiOnFaebaoIUcQjmJuSHgA=s64",
      "userId": "05506473588895822423"
     },
     "user_tz": -420
    },
    "id": "8Xpc-K5wnyrX",
    "outputId": "54eb5593-1cf0-453f-8d69-9293c8487469"
   },
   "outputs": [
    {
     "data": {
      "text/html": [
       "<div>\n",
       "<style scoped>\n",
       "    .dataframe tbody tr th:only-of-type {\n",
       "        vertical-align: middle;\n",
       "    }\n",
       "\n",
       "    .dataframe tbody tr th {\n",
       "        vertical-align: top;\n",
       "    }\n",
       "\n",
       "    .dataframe thead th {\n",
       "        text-align: right;\n",
       "    }\n",
       "</style>\n",
       "<table border=\"1\" class=\"dataframe\">\n",
       "  <thead>\n",
       "    <tr style=\"text-align: right;\">\n",
       "      <th></th>\n",
       "      <th>age</th>\n",
       "      <th>sex</th>\n",
       "      <th>bmi</th>\n",
       "      <th>children</th>\n",
       "      <th>smoker</th>\n",
       "      <th>region</th>\n",
       "      <th>charges</th>\n",
       "    </tr>\n",
       "  </thead>\n",
       "  <tbody>\n",
       "    <tr>\n",
       "      <th>0</th>\n",
       "      <td>24</td>\n",
       "      <td>male</td>\n",
       "      <td>23.655</td>\n",
       "      <td>0</td>\n",
       "      <td>no</td>\n",
       "      <td>northwest</td>\n",
       "      <td>2352.96845</td>\n",
       "    </tr>\n",
       "    <tr>\n",
       "      <th>1</th>\n",
       "      <td>28</td>\n",
       "      <td>female</td>\n",
       "      <td>26.510</td>\n",
       "      <td>2</td>\n",
       "      <td>no</td>\n",
       "      <td>southeast</td>\n",
       "      <td>4340.44090</td>\n",
       "    </tr>\n",
       "    <tr>\n",
       "      <th>2</th>\n",
       "      <td>51</td>\n",
       "      <td>male</td>\n",
       "      <td>39.700</td>\n",
       "      <td>1</td>\n",
       "      <td>no</td>\n",
       "      <td>southwest</td>\n",
       "      <td>9391.34600</td>\n",
       "    </tr>\n",
       "    <tr>\n",
       "      <th>3</th>\n",
       "      <td>47</td>\n",
       "      <td>male</td>\n",
       "      <td>36.080</td>\n",
       "      <td>1</td>\n",
       "      <td>yes</td>\n",
       "      <td>southeast</td>\n",
       "      <td>42211.13820</td>\n",
       "    </tr>\n",
       "    <tr>\n",
       "      <th>4</th>\n",
       "      <td>46</td>\n",
       "      <td>female</td>\n",
       "      <td>28.900</td>\n",
       "      <td>2</td>\n",
       "      <td>no</td>\n",
       "      <td>southwest</td>\n",
       "      <td>8823.27900</td>\n",
       "    </tr>\n",
       "    <tr>\n",
       "      <th>5</th>\n",
       "      <td>63</td>\n",
       "      <td>female</td>\n",
       "      <td>26.220</td>\n",
       "      <td>0</td>\n",
       "      <td>no</td>\n",
       "      <td>northwest</td>\n",
       "      <td>14256.19280</td>\n",
       "    </tr>\n",
       "    <tr>\n",
       "      <th>6</th>\n",
       "      <td>38</td>\n",
       "      <td>female</td>\n",
       "      <td>19.950</td>\n",
       "      <td>2</td>\n",
       "      <td>no</td>\n",
       "      <td>northeast</td>\n",
       "      <td>7133.90250</td>\n",
       "    </tr>\n",
       "    <tr>\n",
       "      <th>7</th>\n",
       "      <td>28</td>\n",
       "      <td>female</td>\n",
       "      <td>26.315</td>\n",
       "      <td>3</td>\n",
       "      <td>no</td>\n",
       "      <td>northwest</td>\n",
       "      <td>5312.16985</td>\n",
       "    </tr>\n",
       "    <tr>\n",
       "      <th>8</th>\n",
       "      <td>25</td>\n",
       "      <td>male</td>\n",
       "      <td>26.800</td>\n",
       "      <td>3</td>\n",
       "      <td>no</td>\n",
       "      <td>southwest</td>\n",
       "      <td>3906.12700</td>\n",
       "    </tr>\n",
       "    <tr>\n",
       "      <th>9</th>\n",
       "      <td>18</td>\n",
       "      <td>female</td>\n",
       "      <td>30.115</td>\n",
       "      <td>0</td>\n",
       "      <td>no</td>\n",
       "      <td>northeast</td>\n",
       "      <td>2203.47185</td>\n",
       "    </tr>\n",
       "  </tbody>\n",
       "</table>\n",
       "</div>"
      ],
      "text/plain": [
       "   age     sex     bmi  children smoker     region      charges\n",
       "0   24    male  23.655         0     no  northwest   2352.96845\n",
       "1   28  female  26.510         2     no  southeast   4340.44090\n",
       "2   51    male  39.700         1     no  southwest   9391.34600\n",
       "3   47    male  36.080         1    yes  southeast  42211.13820\n",
       "4   46  female  28.900         2     no  southwest   8823.27900\n",
       "5   63  female  26.220         0     no  northwest  14256.19280\n",
       "6   38  female  19.950         2     no  northeast   7133.90250\n",
       "7   28  female  26.315         3     no  northwest   5312.16985\n",
       "8   25    male  26.800         3     no  southwest   3906.12700\n",
       "9   18  female  30.115         0     no  northeast   2203.47185"
      ]
     },
     "execution_count": 3,
     "metadata": {
      "tags": []
     },
     "output_type": "execute_result"
    }
   ],
   "source": [
    "data_df = pd.read_csv('/train.csv')\n",
    "data_df.head(10)"
   ]
  },
  {
   "cell_type": "markdown",
   "metadata": {
    "id": "yzHdTbjnnyrZ"
   },
   "source": [
    "## 2. Khám phá dữ liệu"
   ]
  },
  {
   "cell_type": "markdown",
   "metadata": {
    "id": "tSEbm6YKnyrZ"
   },
   "source": [
    "### Kiểu dữ liệu của các thuộc tính"
   ]
  },
  {
   "cell_type": "code",
   "execution_count": 4,
   "metadata": {
    "colab": {
     "base_uri": "https://localhost:8080/"
    },
    "executionInfo": {
     "elapsed": 2720,
     "status": "ok",
     "timestamp": 1620876202684,
     "user": {
      "displayName": "Trực Nguyễn",
      "photoUrl": "https://lh3.googleusercontent.com/a-/AOh14GjUPsjUbu0f_lzSAntKKiOnFaebaoIUcQjmJuSHgA=s64",
      "userId": "05506473588895822423"
     },
     "user_tz": -420
    },
    "id": "4AVGCDwrnyra",
    "outputId": "ea10413e-7f10-4a9e-e475-ac7cba03901a"
   },
   "outputs": [
    {
     "data": {
      "text/plain": [
       "age           int64\n",
       "sex          object\n",
       "bmi         float64\n",
       "children      int64\n",
       "smoker       object\n",
       "region       object\n",
       "charges     float64\n",
       "dtype: object"
      ]
     },
     "execution_count": 4,
     "metadata": {
      "tags": []
     },
     "output_type": "execute_result"
    }
   ],
   "source": [
    "data_df.dtypes"
   ]
  },
  {
   "cell_type": "markdown",
   "metadata": {
    "id": "j53W2sqZnyra"
   },
   "source": [
    "### Dữ liệu có bị thiếu hay không "
   ]
  },
  {
   "cell_type": "code",
   "execution_count": 5,
   "metadata": {
    "colab": {
     "base_uri": "https://localhost:8080/"
    },
    "executionInfo": {
     "elapsed": 2708,
     "status": "ok",
     "timestamp": 1620876202684,
     "user": {
      "displayName": "Trực Nguyễn",
      "photoUrl": "https://lh3.googleusercontent.com/a-/AOh14GjUPsjUbu0f_lzSAntKKiOnFaebaoIUcQjmJuSHgA=s64",
      "userId": "05506473588895822423"
     },
     "user_tz": -420
    },
    "id": "VDZf3Wqvnyrb",
    "outputId": "c504e152-18c1-4fd7-9364-dda29115e87e",
    "scrolled": true
   },
   "outputs": [
    {
     "data": {
      "text/plain": [
       "age         0\n",
       "sex         0\n",
       "bmi         0\n",
       "children    0\n",
       "smoker      0\n",
       "region      0\n",
       "charges     0\n",
       "dtype: int64"
      ]
     },
     "execution_count": 5,
     "metadata": {
      "tags": []
     },
     "output_type": "execute_result"
    }
   ],
   "source": [
    "data_df.isna().sum()"
   ]
  },
  {
   "cell_type": "markdown",
   "metadata": {
    "id": "6zdqmPR-nyrb"
   },
   "source": [
    "### Thống kê các thuộc tính số"
   ]
  },
  {
   "cell_type": "code",
   "execution_count": 6,
   "metadata": {
    "colab": {
     "base_uri": "https://localhost:8080/",
     "height": 284
    },
    "executionInfo": {
     "elapsed": 2697,
     "status": "ok",
     "timestamp": 1620876202685,
     "user": {
      "displayName": "Trực Nguyễn",
      "photoUrl": "https://lh3.googleusercontent.com/a-/AOh14GjUPsjUbu0f_lzSAntKKiOnFaebaoIUcQjmJuSHgA=s64",
      "userId": "05506473588895822423"
     },
     "user_tz": -420
    },
    "id": "5ivS64Vynyrc",
    "outputId": "587e42ee-aa26-4692-c8e0-9a195979e7db"
   },
   "outputs": [
    {
     "data": {
      "text/html": [
       "<div>\n",
       "<style scoped>\n",
       "    .dataframe tbody tr th:only-of-type {\n",
       "        vertical-align: middle;\n",
       "    }\n",
       "\n",
       "    .dataframe tbody tr th {\n",
       "        vertical-align: top;\n",
       "    }\n",
       "\n",
       "    .dataframe thead th {\n",
       "        text-align: right;\n",
       "    }\n",
       "</style>\n",
       "<table border=\"1\" class=\"dataframe\">\n",
       "  <thead>\n",
       "    <tr style=\"text-align: right;\">\n",
       "      <th></th>\n",
       "      <th>age</th>\n",
       "      <th>bmi</th>\n",
       "      <th>children</th>\n",
       "      <th>charges</th>\n",
       "    </tr>\n",
       "  </thead>\n",
       "  <tbody>\n",
       "    <tr>\n",
       "      <th>count</th>\n",
       "      <td>1003.000000</td>\n",
       "      <td>1003.000000</td>\n",
       "      <td>1003.000000</td>\n",
       "      <td>1003.000000</td>\n",
       "    </tr>\n",
       "    <tr>\n",
       "      <th>mean</th>\n",
       "      <td>39.255234</td>\n",
       "      <td>30.511780</td>\n",
       "      <td>1.104686</td>\n",
       "      <td>13267.935817</td>\n",
       "    </tr>\n",
       "    <tr>\n",
       "      <th>std</th>\n",
       "      <td>14.039105</td>\n",
       "      <td>6.013107</td>\n",
       "      <td>1.204619</td>\n",
       "      <td>12051.356547</td>\n",
       "    </tr>\n",
       "    <tr>\n",
       "      <th>min</th>\n",
       "      <td>18.000000</td>\n",
       "      <td>15.960000</td>\n",
       "      <td>0.000000</td>\n",
       "      <td>1121.873900</td>\n",
       "    </tr>\n",
       "    <tr>\n",
       "      <th>25%</th>\n",
       "      <td>27.000000</td>\n",
       "      <td>26.210000</td>\n",
       "      <td>0.000000</td>\n",
       "      <td>4780.839400</td>\n",
       "    </tr>\n",
       "    <tr>\n",
       "      <th>50%</th>\n",
       "      <td>39.000000</td>\n",
       "      <td>30.200000</td>\n",
       "      <td>1.000000</td>\n",
       "      <td>9447.382400</td>\n",
       "    </tr>\n",
       "    <tr>\n",
       "      <th>75%</th>\n",
       "      <td>51.000000</td>\n",
       "      <td>34.430000</td>\n",
       "      <td>2.000000</td>\n",
       "      <td>16840.667970</td>\n",
       "    </tr>\n",
       "    <tr>\n",
       "      <th>max</th>\n",
       "      <td>64.000000</td>\n",
       "      <td>53.130000</td>\n",
       "      <td>5.000000</td>\n",
       "      <td>62592.873090</td>\n",
       "    </tr>\n",
       "  </tbody>\n",
       "</table>\n",
       "</div>"
      ],
      "text/plain": [
       "               age          bmi     children       charges\n",
       "count  1003.000000  1003.000000  1003.000000   1003.000000\n",
       "mean     39.255234    30.511780     1.104686  13267.935817\n",
       "std      14.039105     6.013107     1.204619  12051.356547\n",
       "min      18.000000    15.960000     0.000000   1121.873900\n",
       "25%      27.000000    26.210000     0.000000   4780.839400\n",
       "50%      39.000000    30.200000     1.000000   9447.382400\n",
       "75%      51.000000    34.430000     2.000000  16840.667970\n",
       "max      64.000000    53.130000     5.000000  62592.873090"
      ]
     },
     "execution_count": 6,
     "metadata": {
      "tags": []
     },
     "output_type": "execute_result"
    }
   ],
   "source": [
    "data_df.describe()"
   ]
  },
  {
   "cell_type": "markdown",
   "metadata": {
    "id": "JSxahmdfnyrc"
   },
   "source": [
    "# II. Trực quan dữ liệu và trình bày các thông tin hữu ích (insights) "
   ]
  },
  {
   "cell_type": "markdown",
   "metadata": {
    "id": "zCUBwwJDnyrc"
   },
   "source": [
    "### Heatmap thể hiện sự tương quan giữa các thuộc tính"
   ]
  },
  {
   "cell_type": "code",
   "execution_count": 7,
   "metadata": {
    "colab": {
     "base_uri": "https://localhost:8080/",
     "height": 300
    },
    "executionInfo": {
     "elapsed": 3413,
     "status": "ok",
     "timestamp": 1620876203415,
     "user": {
      "displayName": "Trực Nguyễn",
      "photoUrl": "https://lh3.googleusercontent.com/a-/AOh14GjUPsjUbu0f_lzSAntKKiOnFaebaoIUcQjmJuSHgA=s64",
      "userId": "05506473588895822423"
     },
     "user_tz": -420
    },
    "id": "Zlyc2hGrnyrd",
    "outputId": "1c5f5f39-01b5-4d2c-997b-4b6da1ce1993",
    "scrolled": true
   },
   "outputs": [
    {
     "data": {
      "image/png": "[encoded data removed]",
      "text/plain": [
       "<Figure size 432x288 with 2 Axes>"
      ]
     },
     "metadata": {
      "needs_background": "light",
      "tags": []
     },
     "output_type": "display_data"
    }
   ],
   "source": [
    "corr = data_df.copy()\n",
    "corr.replace(['female','male'],[0,1],inplace=True)\n",
    "corr.replace(['no','yes'],[0,1],inplace=True)\n",
    "corr.replace(['0','1','2','3','4','5'],[0,1,2,3,4,5],inplace=True)\n",
    "corr.replace(['southeast','northeast','southwest','northwest'],[0,1,2,3],inplace=True)\n",
    "\n",
    "sns.heatmap(corr.corr(), annot=True, cbar=True, cmap='YlGnBu')\n",
    "plt.show()"
   ]
  },
  {
   "cell_type": "markdown",
   "metadata": {
    "id": "N1YAcIw8nyrd"
   },
   "source": [
    "- **Ta thấy những màu xanh đậm hơn thể hiện sự tương quan mạnh hơn giữa các thuộc tính**"
   ]
  },
  {
   "cell_type": "markdown",
   "metadata": {
    "id": "T3VbjYoanyre"
   },
   "source": [
    "### Cái nhìn tổng quan về dữ liệu"
   ]
  },
  {
   "cell_type": "code",
   "execution_count": 8,
   "metadata": {
    "colab": {
     "base_uri": "https://localhost:8080/",
     "height": 0
    },
    "executionInfo": {
     "elapsed": 3958,
     "status": "ok",
     "timestamp": 1620876203971,
     "user": {
      "displayName": "Trực Nguyễn",
      "photoUrl": "https://lh3.googleusercontent.com/a-/AOh14GjUPsjUbu0f_lzSAntKKiOnFaebaoIUcQjmJuSHgA=s64",
      "userId": "05506473588895822423"
     },
     "user_tz": -420
    },
    "id": "pgBsqmQZnyre",
    "outputId": "9e118a1b-9bc8-4263-d9fb-8233a789b44e"
   },
   "outputs": [
    {
     "data": {
      "text/plain": [
       "<matplotlib.axes._subplots.AxesSubplot at 0x7f2328c5d890>"
      ]
     },
     "execution_count": 8,
     "metadata": {
      "tags": []
     },
     "output_type": "execute_result"
    },
    {
     "data": {
      "image/png": "[encoded data removed]",
      "text/plain": [
       "<Figure size 432x288 with 1 Axes>"
      ]
     },
     "metadata": {
      "needs_background": "light",
      "tags": []
     },
     "output_type": "display_data"
    }
   ],
   "source": [
    "data_df['age'].value_counts().sort_index().plot.bar()"
   ]
  },
  {
   "cell_type": "code",
   "execution_count": 9,
   "metadata": {
    "colab": {
     "base_uri": "https://localhost:8080/",
     "height": 0
    },
    "executionInfo": {
     "elapsed": 3950,
     "status": "ok",
     "timestamp": 1620876203972,
     "user": {
      "displayName": "Trực Nguyễn",
      "photoUrl": "https://lh3.googleusercontent.com/a-/AOh14GjUPsjUbu0f_lzSAntKKiOnFaebaoIUcQjmJuSHgA=s64",
      "userId": "05506473588895822423"
     },
     "user_tz": -420
    },
    "id": "DWVs0Xmpnyre",
    "outputId": "ba3f20d9-1f03-44df-e25e-acae3e1730fd"
   },
   "outputs": [
    {
     "data": {
      "text/plain": [
       "<matplotlib.axes._subplots.AxesSubplot at 0x7f2331270f50>"
      ]
     },
     "execution_count": 9,
     "metadata": {
      "tags": []
     },
     "output_type": "execute_result"
    },
    {
     "data": {
      "image/png": "[encoded data removed]",
      "text/plain": [
       "<Figure size 432x288 with 1 Axes>"
      ]
     },
     "metadata": {
      "needs_background": "light",
      "tags": []
     },
     "output_type": "display_data"
    }
   ],
   "source": [
    "data_df['sex'].value_counts().sort_index().plot.bar()"
   ]
  },
  {
   "cell_type": "code",
   "execution_count": 10,
   "metadata": {
    "colab": {
     "base_uri": "https://localhost:8080/",
     "height": 0
    },
    "executionInfo": {
     "elapsed": 3943,
     "status": "ok",
     "timestamp": 1620876203973,
     "user": {
      "displayName": "Trực Nguyễn",
      "photoUrl": "https://lh3.googleusercontent.com/a-/AOh14GjUPsjUbu0f_lzSAntKKiOnFaebaoIUcQjmJuSHgA=s64",
      "userId": "05506473588895822423"
     },
     "user_tz": -420
    },
    "id": "Ool4AWAunyrf",
    "outputId": "3ca00de5-006e-40c8-81f9-587865809cb4"
   },
   "outputs": [
    {
     "data": {
      "text/plain": [
       "<matplotlib.axes._subplots.AxesSubplot at 0x7f233120f090>"
      ]
     },
     "execution_count": 10,
     "metadata": {
      "tags": []
     },
     "output_type": "execute_result"
    },
    {
     "data": {
      "image/png": "[encoded data removed]",
      "text/plain": [
       "<Figure size 432x288 with 1 Axes>"
      ]
     },
     "metadata": {
      "needs_background": "light",
      "tags": []
     },
     "output_type": "display_data"
    }
   ],
   "source": [
    "data_df['children'].value_counts().sort_index().plot.bar()"
   ]
  },
  {
   "cell_type": "code",
   "execution_count": 11,
   "metadata": {
    "colab": {
     "base_uri": "https://localhost:8080/",
     "height": 0
    },
    "executionInfo": {
     "elapsed": 3935,
     "status": "ok",
     "timestamp": 1620876203973,
     "user": {
      "displayName": "Trực Nguyễn",
      "photoUrl": "https://lh3.googleusercontent.com/a-/AOh14GjUPsjUbu0f_lzSAntKKiOnFaebaoIUcQjmJuSHgA=s64",
      "userId": "05506473588895822423"
     },
     "user_tz": -420
    },
    "id": "iXyyAI2Nnyrf",
    "outputId": "e24105e6-10c1-4342-878e-e27058a1ff55"
   },
   "outputs": [
    {
     "data": {
      "text/plain": [
       "<matplotlib.axes._subplots.AxesSubplot at 0x7f2328b2a110>"
      ]
     },
     "execution_count": 11,
     "metadata": {
      "tags": []
     },
     "output_type": "execute_result"
    },
    {
     "data": {
      "image/png": "[encoded data removed]",
      "text/plain": [
       "<Figure size 432x288 with 1 Axes>"
      ]
     },
     "metadata": {
      "needs_background": "light",
      "tags": []
     },
     "output_type": "display_data"
    }
   ],
   "source": [
    "data_df['smoker'].value_counts().sort_index().plot.bar()"
   ]
  },
  {
   "cell_type": "code",
   "execution_count": 12,
   "metadata": {
    "colab": {
     "base_uri": "https://localhost:8080/",
     "height": 0
    },
    "executionInfo": {
     "elapsed": 4643,
     "status": "ok",
     "timestamp": 1620876204690,
     "user": {
      "displayName": "Trực Nguyễn",
      "photoUrl": "https://lh3.googleusercontent.com/a-/AOh14GjUPsjUbu0f_lzSAntKKiOnFaebaoIUcQjmJuSHgA=s64",
      "userId": "05506473588895822423"
     },
     "user_tz": -420
    },
    "id": "1PV93F50nyrg",
    "outputId": "fd0c7e17-55a5-456f-cdb9-4b5d3591c08c"
   },
   "outputs": [
    {
     "data": {
      "text/plain": [
       "<matplotlib.axes._subplots.AxesSubplot at 0x7f2328a87fd0>"
      ]
     },
     "execution_count": 12,
     "metadata": {
      "tags": []
     },
     "output_type": "execute_result"
    },
    {
     "data": {
      "image/png": "[encoded data removed]",
      "text/plain": [
       "<Figure size 432x288 with 1 Axes>"
      ]
     },
     "metadata": {
      "needs_background": "light",
      "tags": []
     },
     "output_type": "display_data"
    }
   ],
   "source": [
    "data_df['region'].value_counts().sort_index().plot.bar()"
   ]
  },
  {
   "cell_type": "code",
   "execution_count": 13,
   "metadata": {
    "colab": {
     "base_uri": "https://localhost:8080/",
     "height": 0
    },
    "executionInfo": {
     "elapsed": 4635,
     "status": "ok",
     "timestamp": 1620876204692,
     "user": {
      "displayName": "Trực Nguyễn",
      "photoUrl": "https://lh3.googleusercontent.com/a-/AOh14GjUPsjUbu0f_lzSAntKKiOnFaebaoIUcQjmJuSHgA=s64",
      "userId": "05506473588895822423"
     },
     "user_tz": -420
    },
    "id": "pzD7vC40nyrg",
    "outputId": "28bb4654-1b33-46a7-f3f3-c532348a83e7"
   },
   "outputs": [
    {
     "data": {
      "text/html": [
       "<div>\n",
       "<style scoped>\n",
       "    .dataframe tbody tr th:only-of-type {\n",
       "        vertical-align: middle;\n",
       "    }\n",
       "\n",
       "    .dataframe tbody tr th {\n",
       "        vertical-align: top;\n",
       "    }\n",
       "\n",
       "    .dataframe thead th {\n",
       "        text-align: right;\n",
       "    }\n",
       "</style>\n",
       "<table border=\"1\" class=\"dataframe\">\n",
       "  <thead>\n",
       "    <tr style=\"text-align: right;\">\n",
       "      <th></th>\n",
       "      <th>age</th>\n",
       "      <th>bmi</th>\n",
       "      <th>children</th>\n",
       "      <th>charges</th>\n",
       "    </tr>\n",
       "  </thead>\n",
       "  <tbody>\n",
       "    <tr>\n",
       "      <th>count</th>\n",
       "      <td>1003.000000</td>\n",
       "      <td>1003.000000</td>\n",
       "      <td>1003.000000</td>\n",
       "      <td>1003.000000</td>\n",
       "    </tr>\n",
       "    <tr>\n",
       "      <th>mean</th>\n",
       "      <td>39.255234</td>\n",
       "      <td>30.511780</td>\n",
       "      <td>1.104686</td>\n",
       "      <td>13267.935817</td>\n",
       "    </tr>\n",
       "    <tr>\n",
       "      <th>std</th>\n",
       "      <td>14.039105</td>\n",
       "      <td>6.013107</td>\n",
       "      <td>1.204619</td>\n",
       "      <td>12051.356547</td>\n",
       "    </tr>\n",
       "    <tr>\n",
       "      <th>min</th>\n",
       "      <td>18.000000</td>\n",
       "      <td>15.960000</td>\n",
       "      <td>0.000000</td>\n",
       "      <td>1121.873900</td>\n",
       "    </tr>\n",
       "    <tr>\n",
       "      <th>25%</th>\n",
       "      <td>27.000000</td>\n",
       "      <td>26.210000</td>\n",
       "      <td>0.000000</td>\n",
       "      <td>4780.839400</td>\n",
       "    </tr>\n",
       "    <tr>\n",
       "      <th>50%</th>\n",
       "      <td>39.000000</td>\n",
       "      <td>30.200000</td>\n",
       "      <td>1.000000</td>\n",
       "      <td>9447.382400</td>\n",
       "    </tr>\n",
       "    <tr>\n",
       "      <th>75%</th>\n",
       "      <td>51.000000</td>\n",
       "      <td>34.430000</td>\n",
       "      <td>2.000000</td>\n",
       "      <td>16840.667970</td>\n",
       "    </tr>\n",
       "    <tr>\n",
       "      <th>max</th>\n",
       "      <td>64.000000</td>\n",
       "      <td>53.130000</td>\n",
       "      <td>5.000000</td>\n",
       "      <td>62592.873090</td>\n",
       "    </tr>\n",
       "  </tbody>\n",
       "</table>\n",
       "</div>"
      ],
      "text/plain": [
       "               age          bmi     children       charges\n",
       "count  1003.000000  1003.000000  1003.000000   1003.000000\n",
       "mean     39.255234    30.511780     1.104686  13267.935817\n",
       "std      14.039105     6.013107     1.204619  12051.356547\n",
       "min      18.000000    15.960000     0.000000   1121.873900\n",
       "25%      27.000000    26.210000     0.000000   4780.839400\n",
       "50%      39.000000    30.200000     1.000000   9447.382400\n",
       "75%      51.000000    34.430000     2.000000  16840.667970\n",
       "max      64.000000    53.130000     5.000000  62592.873090"
      ]
     },
     "execution_count": 13,
     "metadata": {
      "tags": []
     },
     "output_type": "execute_result"
    }
   ],
   "source": [
    "data_df.describe()"
   ]
  },
  {
   "cell_type": "code",
   "execution_count": 14,
   "metadata": {
    "colab": {
     "base_uri": "https://localhost:8080/"
    },
    "executionInfo": {
     "elapsed": 4629,
     "status": "ok",
     "timestamp": 1620876204693,
     "user": {
      "displayName": "Trực Nguyễn",
      "photoUrl": "https://lh3.googleusercontent.com/a-/AOh14GjUPsjUbu0f_lzSAntKKiOnFaebaoIUcQjmJuSHgA=s64",
      "userId": "05506473588895822423"
     },
     "user_tz": -420
    },
    "id": "_MIsKeBxnyrg",
    "outputId": "610f1e71-a77e-4dfb-f1dd-ed092260abf3"
   },
   "outputs": [
    {
     "data": {
      "text/plain": [
       "age         0\n",
       "sex         0\n",
       "bmi         0\n",
       "children    0\n",
       "smoker      0\n",
       "region      0\n",
       "charges     0\n",
       "dtype: int64"
      ]
     },
     "execution_count": 14,
     "metadata": {
      "tags": []
     },
     "output_type": "execute_result"
    }
   ],
   "source": [
    "data_df.isna().sum()   #missing"
   ]
  },
  {
   "cell_type": "markdown",
   "metadata": {
    "id": "jJK1nx9Cnyrh"
   },
   "source": [
    "- Vùng miền nào có chi phí nhiều nhất và vùng nào có chi phí từng người cao nhất."
   ]
  },
  {
   "cell_type": "code",
   "execution_count": 15,
   "metadata": {
    "colab": {
     "base_uri": "https://localhost:8080/"
    },
    "executionInfo": {
     "elapsed": 4620,
     "status": "ok",
     "timestamp": 1620876204693,
     "user": {
      "displayName": "Trực Nguyễn",
      "photoUrl": "https://lh3.googleusercontent.com/a-/AOh14GjUPsjUbu0f_lzSAntKKiOnFaebaoIUcQjmJuSHgA=s64",
      "userId": "05506473588895822423"
     },
     "user_tz": -420
    },
    "id": "Gwwmwltenyrh",
    "outputId": "a1efdabe-15a8-465a-9c58-beb7a92dd23f"
   },
   "outputs": [
    {
     "data": {
      "text/plain": [
       "region\n",
       "northwest    3.108129e+06\n",
       "southwest    3.124289e+06\n",
       "northeast    3.358865e+06\n",
       "southeast    3.716457e+06\n",
       "Name: charges, dtype: float64"
      ]
     },
     "execution_count": 15,
     "metadata": {
      "tags": []
     },
     "output_type": "execute_result"
    }
   ],
   "source": [
    "data_df.groupby('region')['charges'].sum().sort_values()"
   ]
  },
  {
   "cell_type": "code",
   "execution_count": 16,
   "metadata": {
    "colab": {
     "base_uri": "https://localhost:8080/",
     "height": 0
    },
    "executionInfo": {
     "elapsed": 4613,
     "status": "ok",
     "timestamp": 1620876204694,
     "user": {
      "displayName": "Trực Nguyễn",
      "photoUrl": "https://lh3.googleusercontent.com/a-/AOh14GjUPsjUbu0f_lzSAntKKiOnFaebaoIUcQjmJuSHgA=s64",
      "userId": "05506473588895822423"
     },
     "user_tz": -420
    },
    "id": "j8d7GLZKnyrh",
    "outputId": "f86ae457-7041-40cf-f45e-c2393cfd6fe1"
   },
   "outputs": [
    {
     "data": {
      "text/plain": [
       "<matplotlib.axes._subplots.AxesSubplot at 0x7f2328a14690>"
      ]
     },
     "execution_count": 16,
     "metadata": {
      "tags": []
     },
     "output_type": "execute_result"
    },
    {
     "data": {
      "image/png": "[encoded data removed]",
      "text/plain": [
       "<Figure size 432x288 with 1 Axes>"
      ]
     },
     "metadata": {
      "needs_background": "light",
      "tags": []
     },
     "output_type": "display_data"
    }
   ],
   "source": [
    "data_df.groupby('region')['charges'].mean().sort_values().plot.barh()"
   ]
  },
  {
   "cell_type": "markdown",
   "metadata": {
    "id": "c0UkA2F1nyri"
   },
   "source": [
    "## Đầu tiên ta hãy quan sát sự phân bố của charges như thế nào?"
   ]
  },
  {
   "cell_type": "code",
   "execution_count": 17,
   "metadata": {
    "colab": {
     "base_uri": "https://localhost:8080/",
     "height": 0
    },
    "executionInfo": {
     "elapsed": 4602,
     "status": "ok",
     "timestamp": 1620876204694,
     "user": {
      "displayName": "Trực Nguyễn",
      "photoUrl": "https://lh3.googleusercontent.com/a-/AOh14GjUPsjUbu0f_lzSAntKKiOnFaebaoIUcQjmJuSHgA=s64",
      "userId": "05506473588895822423"
     },
     "user_tz": -420
    },
    "id": "HYWgFVFmnyri",
    "outputId": "af0713cf-68ff-4778-dbfc-3534439cd3ff"
   },
   "outputs": [
    {
     "data": {
      "image/png": "[encoded data removed]",
      "text/plain": [
       "<Figure size 432x288 with 1 Axes>"
      ]
     },
     "metadata": {
      "needs_background": "light",
      "tags": []
     },
     "output_type": "display_data"
    }
   ],
   "source": [
    "data_df.charges.plot(kind='hist')\n",
    "plt.xlabel('Amount in $')\n",
    "plt.legend()\n",
    "plt.show()"
   ]
  },
  {
   "cell_type": "markdown",
   "metadata": {
    "id": "uoXOJImgnyri"
   },
   "source": [
    "- **Từ đồ thị ta có thể nhận thấy phần lớn chi phí y tế rơi vào khoảng 1000 - 13500 dollar**"
   ]
  },
  {
   "cell_type": "markdown",
   "metadata": {
    "id": "T2cQXVfJnyri"
   },
   "source": [
    "### Age có ảnh hưởng như thế nào đến sự phân phối của Charges?"
   ]
  },
  {
   "cell_type": "markdown",
   "metadata": {
    "id": "QN75wRhknyrj"
   },
   "source": [
    "- Min(age) = 18\n",
    "- Max(age) = 64\n",
    "- Dự đoán: ở độ tuổi 18 đang là độ tuổi phát triển và khỏe mạnh nhất thế chi phí y tế bỏ ra cũng có thể ít.\n",
    "- Ta sẽ xem xét sự phân phối của **Charges** với **age = 18** và **age > 18** sẽ như thế nào?"
   ]
  },
  {
   "cell_type": "code",
   "execution_count": 18,
   "metadata": {
    "colab": {
     "base_uri": "https://localhost:8080/",
     "height": 0
    },
    "executionInfo": {
     "elapsed": 5276,
     "status": "ok",
     "timestamp": 1620876205378,
     "user": {
      "displayName": "Trực Nguyễn",
      "photoUrl": "https://lh3.googleusercontent.com/a-/AOh14GjUPsjUbu0f_lzSAntKKiOnFaebaoIUcQjmJuSHgA=s64",
      "userId": "05506473588895822423"
     },
     "user_tz": -420
    },
    "id": "SRDyBPT4nyrj",
    "outputId": "845ca383-4aa5-4921-b2e8-cfe5113b9b1c"
   },
   "outputs": [
    {
     "data": {
      "image/png": "[encoded data removed]",
      "text/plain": [
       "<Figure size 1440x720 with 2 Axes>"
      ]
     },
     "metadata": {
      "needs_background": "light",
      "tags": []
     },
     "output_type": "display_data"
    }
   ],
   "source": [
    "fig = plt.figure(figsize=(20,10))\n",
    "ax = fig.add_subplot(121)\n",
    "ax = sns.distplot(data_df['charges'][data_df['age'] == 18])\n",
    "plt.title('Age == 18')\n",
    "plt.xticks(np.arange(0,50000,10000))\n",
    "plt.xlabel('Cost')\n",
    "\n",
    "ax = fig.add_subplot(122)\n",
    "ax = sns.distplot(data_df['charges'][data_df['age'] > 18])\n",
    "plt.title('Age > 18')\n",
    "plt.xticks(np.arange(0,50000,10000))\n",
    "plt.xlabel('Cost')\n",
    "\n",
    "\n",
    "plt.show()"
   ]
  },
  {
   "cell_type": "markdown",
   "metadata": {
    "id": "YZSEDQu8nyrk"
   },
   "source": [
    "- **Nhận xét:**\n",
    "    - Với **age = 18** thì phân phối của charges có giá trị trung bình khoảng 3000 \n",
    "    - Với **age > 18** thì phân phối của charges có giá trị trung bình khoảng 8500"
   ]
  },
  {
   "cell_type": "markdown",
   "metadata": {
    "id": "z1W5zIalnyrk"
   },
   "source": [
    "### Smoker có ảnh hưởng như thế nào đến charges?"
   ]
  },
  {
   "cell_type": "markdown",
   "metadata": {
    "id": "R05mb1qRnyrk"
   },
   "source": [
    "- **Số lượng người hút thuốc và không hút thuốc là bao nhiêu?**"
   ]
  },
  {
   "cell_type": "code",
   "execution_count": 19,
   "metadata": {
    "colab": {
     "base_uri": "https://localhost:8080/"
    },
    "executionInfo": {
     "elapsed": 5268,
     "status": "ok",
     "timestamp": 1620876205379,
     "user": {
      "displayName": "Trực Nguyễn",
      "photoUrl": "https://lh3.googleusercontent.com/a-/AOh14GjUPsjUbu0f_lzSAntKKiOnFaebaoIUcQjmJuSHgA=s64",
      "userId": "05506473588895822423"
     },
     "user_tz": -420
    },
    "id": "k89hJd8Jnyrk",
    "outputId": "8ad75b75-1e4e-4bc4-8e27-8a0b6676c835"
   },
   "outputs": [
    {
     "data": {
      "text/plain": [
       "no     797\n",
       "yes    206\n",
       "Name: smoker, dtype: int64"
      ]
     },
     "execution_count": 19,
     "metadata": {
      "tags": []
     },
     "output_type": "execute_result"
    }
   ],
   "source": [
    "data_df['smoker'].value_counts()"
   ]
  },
  {
   "cell_type": "code",
   "execution_count": 20,
   "metadata": {
    "colab": {
     "base_uri": "https://localhost:8080/",
     "height": 0
    },
    "executionInfo": {
     "elapsed": 5882,
     "status": "ok",
     "timestamp": 1620876206000,
     "user": {
      "displayName": "Trực Nguyễn",
      "photoUrl": "https://lh3.googleusercontent.com/a-/AOh14GjUPsjUbu0f_lzSAntKKiOnFaebaoIUcQjmJuSHgA=s64",
      "userId": "05506473588895822423"
     },
     "user_tz": -420
    },
    "id": "LTYRl5Funyrl",
    "outputId": "4dcb29ba-ac59-477f-e586-9e687b19fed5"
   },
   "outputs": [
    {
     "data": {
      "text/plain": [
       "Text(0, 0.5, 'Frequency')"
      ]
     },
     "execution_count": 20,
     "metadata": {
      "tags": []
     },
     "output_type": "execute_result"
    },
    {
     "data": {
      "image/png": "[encoded data removed]",
      "text/plain": [
       "<Figure size 432x288 with 1 Axes>"
      ]
     },
     "metadata": {
      "needs_background": "light",
      "tags": []
     },
     "output_type": "display_data"
    }
   ],
   "source": [
    "sns.histplot(data=data_df, x=\"smoker\", binwidth=3,discrete = True)\n",
    "plt.ylabel('Frequency')"
   ]
  },
  {
   "cell_type": "markdown",
   "metadata": {
    "id": "FFYZFIrSnyrl"
   },
   "source": [
    "- **Nhận xét:** ta thấy số lượng người không hút thuốc cao gấp 3 lần số lượng người hút thuốc"
   ]
  },
  {
   "cell_type": "markdown",
   "metadata": {
    "id": "zkGGglqFnyrl"
   },
   "source": [
    "- **Sự tương quan giữa smoker với charges**"
   ]
  },
  {
   "cell_type": "code",
   "execution_count": 21,
   "metadata": {
    "colab": {
     "base_uri": "https://localhost:8080/",
     "height": 0
    },
    "executionInfo": {
     "elapsed": 5873,
     "status": "ok",
     "timestamp": 1620876206001,
     "user": {
      "displayName": "Trực Nguyễn",
      "photoUrl": "https://lh3.googleusercontent.com/a-/AOh14GjUPsjUbu0f_lzSAntKKiOnFaebaoIUcQjmJuSHgA=s64",
      "userId": "05506473588895822423"
     },
     "user_tz": -420
    },
    "id": "ptVL48benyrm",
    "outputId": "05e042f3-4036-483a-87a7-18132cca0b6a"
   },
   "outputs": [
    {
     "data": {
      "image/png": "[encoded data removed]",
      "text/plain": [
       "<Figure size 360x360 with 1 Axes>"
      ]
     },
     "metadata": {
      "needs_background": "light",
      "tags": []
     },
     "output_type": "display_data"
    }
   ],
   "source": [
    "sns.catplot(x='smoker', y='charges', data=data_df)\n",
    "plt.show()"
   ]
  },
  {
   "cell_type": "markdown",
   "metadata": {
    "id": "juQEIyZQnyrm"
   },
   "source": [
    "- **Nhận xét:** \n",
    "    - Nhìn vào đồ thị ta có thể thấy người hút thuốc sẽ phải tốn nhiều chi phí y tế hơn so với người không hút thuốc.\n",
    "    - Thế nên **smoker có tương quan mạnh đối với charges**\n"
   ]
  },
  {
   "cell_type": "markdown",
   "metadata": {
    "id": "cNNBy2Wznyrm"
   },
   "source": [
    "### Sự tương quan giữa smoker, sex và charges"
   ]
  },
  {
   "cell_type": "code",
   "execution_count": 22,
   "metadata": {
    "colab": {
     "base_uri": "https://localhost:8080/",
     "height": 0
    },
    "executionInfo": {
     "elapsed": 6755,
     "status": "ok",
     "timestamp": 1620876206890,
     "user": {
      "displayName": "Trực Nguyễn",
      "photoUrl": "https://lh3.googleusercontent.com/a-/AOh14GjUPsjUbu0f_lzSAntKKiOnFaebaoIUcQjmJuSHgA=s64",
      "userId": "05506473588895822423"
     },
     "user_tz": -420
    },
    "id": "LTaidfk3nyrm",
    "outputId": "acb39920-63ed-4589-a3a6-b5b50f6b7e02"
   },
   "outputs": [
    {
     "data": {
      "image/png": "[encoded data removed]",
      "text/plain": [
       "<Figure size 430.5x360 with 1 Axes>"
      ]
     },
     "metadata": {
      "needs_background": "light",
      "tags": []
     },
     "output_type": "display_data"
    }
   ],
   "source": [
    "sns.catplot(x='smoker', y='charges',hue='sex', kind='violin',data=data_df)\n",
    "plt.show()"
   ]
  },
  {
   "cell_type": "markdown",
   "metadata": {
    "id": "fMHMmkKBnyrn"
   },
   "source": [
    "- **Nhận xét:** \n",
    "    - Ở phần trên ta có thể thấy **smoker = yes** thì chi phí y tế sẽ phải trả nhiều hơn\n",
    "    - **Bất kì giới tính nào nếu hút thuốc thì đều phải tốn nhiều chi phí y tế hơn**\n",
    "    - Khi thêm thuộc tính **sex** vào thì cũng không có sự thay đổi gì.\n",
    "    - Chưa nhận thấy được sự tương quan mạnh giữa **sex** với **charges**"
   ]
  },
  {
   "cell_type": "markdown",
   "metadata": {
    "id": "VwgYqujanyrn"
   },
   "source": [
    "### Sự tương quan giữa smoker, sex, age và charges"
   ]
  },
  {
   "cell_type": "markdown",
   "metadata": {
    "id": "9dYuN6X7nyro"
   },
   "source": [
    "- **Xét trường hợp age = 18**"
   ]
  },
  {
   "cell_type": "code",
   "execution_count": 23,
   "metadata": {
    "colab": {
     "base_uri": "https://localhost:8080/",
     "height": 0
    },
    "executionInfo": {
     "elapsed": 6750,
     "status": "ok",
     "timestamp": 1620876206891,
     "user": {
      "displayName": "Trực Nguyễn",
      "photoUrl": "https://lh3.googleusercontent.com/a-/AOh14GjUPsjUbu0f_lzSAntKKiOnFaebaoIUcQjmJuSHgA=s64",
      "userId": "05506473588895822423"
     },
     "user_tz": -420
    },
    "id": "q4koxW--nyro",
    "outputId": "a4276b30-1fe1-4c36-892a-f213c3da69ac"
   },
   "outputs": [
    {
     "data": {
      "image/png": "[encoded data removed]",
      "text/plain": [
       "<Figure size 430.5x360 with 1 Axes>"
      ]
     },
     "metadata": {
      "needs_background": "light",
      "tags": []
     },
     "output_type": "display_data"
    }
   ],
   "source": [
    "sns.catplot(x='smoker', y='charges',hue='sex', kind='violin',data=data_df[data_df['age'] == 18])\n",
    "plt.show()"
   ]
  },
  {
   "cell_type": "markdown",
   "metadata": {
    "id": "QCydBqfZnyro"
   },
   "source": [
    "- **Xét trường hợp age > 18**"
   ]
  },
  {
   "cell_type": "code",
   "execution_count": 24,
   "metadata": {
    "colab": {
     "base_uri": "https://localhost:8080/",
     "height": 0
    },
    "executionInfo": {
     "elapsed": 7676,
     "status": "ok",
     "timestamp": 1620876207826,
     "user": {
      "displayName": "Trực Nguyễn",
      "photoUrl": "https://lh3.googleusercontent.com/a-/AOh14GjUPsjUbu0f_lzSAntKKiOnFaebaoIUcQjmJuSHgA=s64",
      "userId": "05506473588895822423"
     },
     "user_tz": -420
    },
    "id": "NhU7BfRnnyro",
    "outputId": "3c3f94d9-05a5-4256-d633-ad17caa988ac"
   },
   "outputs": [
    {
     "data": {
      "image/png": "[encoded data removed]",
      "text/plain": [
       "<Figure size 430.5x360 with 1 Axes>"
      ]
     },
     "metadata": {
      "needs_background": "light",
      "tags": []
     },
     "output_type": "display_data"
    }
   ],
   "source": [
    "sns.catplot(x='smoker', y='charges',hue='sex', kind='violin',data=data_df[data_df['age'] > 18])\n",
    "plt.show()"
   ]
  },
  {
   "cell_type": "markdown",
   "metadata": {
    "id": "Ajxpyc3lnyrp"
   },
   "source": [
    "- **Nhận xét:** không có sự khác biệt đáng kể nào, bất kì giới tính hay lứa tuổi nào nếu hút thuốc thì sẽ phải tốn nhiều chi phí y tế hơn"
   ]
  },
  {
   "cell_type": "markdown",
   "metadata": {
    "id": "d6906usFnyrp"
   },
   "source": [
    "### Sự tương quan giữa BMI và charges"
   ]
  },
  {
   "cell_type": "markdown",
   "metadata": {
    "id": "tGUjrztBnyrp"
   },
   "source": [
    "- **Xét sự phân phối của chỉ số BMI**"
   ]
  },
  {
   "cell_type": "code",
   "execution_count": 25,
   "metadata": {
    "colab": {
     "base_uri": "https://localhost:8080/",
     "height": 0
    },
    "executionInfo": {
     "elapsed": 7668,
     "status": "ok",
     "timestamp": 1620876207827,
     "user": {
      "displayName": "Trực Nguyễn",
      "photoUrl": "https://lh3.googleusercontent.com/a-/AOh14GjUPsjUbu0f_lzSAntKKiOnFaebaoIUcQjmJuSHgA=s64",
      "userId": "05506473588895822423"
     },
     "user_tz": -420
    },
    "id": "Wr6MXIBZnyrq",
    "outputId": "681d114f-6b6f-4109-deaa-301d6283c925"
   },
   "outputs": [
    {
     "data": {
      "text/plain": [
       "Text(0.5, 0, 'BMI')"
      ]
     },
     "execution_count": 25,
     "metadata": {
      "tags": []
     },
     "output_type": "execute_result"
    },
    {
     "data": {
      "image/png": "[encoded data removed]",
      "text/plain": [
       "<Figure size 432x288 with 1 Axes>"
      ]
     },
     "metadata": {
      "needs_background": "light",
      "tags": []
     },
     "output_type": "display_data"
    }
   ],
   "source": [
    "sns.distplot(data_df['bmi'])\n",
    "plt.title('BMI Distribution')\n",
    "plt.xlabel('BMI')"
   ]
  },
  {
   "cell_type": "markdown",
   "metadata": {
    "id": "fpBmnNGfnyrq"
   },
   "source": [
    "- **Nhận xét:** ta thấy **BMI** trung bình rời vào khoảng 30 điều này thật sự không tốt\n",
    "- Theo **WHO** ta có thể chia thang đo BMI thành 4 loại như sau:\n",
    "    - 1. Underweight - BMI < 18.5\n",
    "    - 2. Normal - BMI >= 18.5 and BMI < 24.9\n",
    "    - 3. Overweight - BMI >= 24.9 and BMI < 29.9\n",
    "    - 4. Obese - BMI >= 30"
   ]
  },
  {
   "cell_type": "markdown",
   "metadata": {
    "id": "efPrq4dqnyrq"
   },
   "source": [
    "- **Xét sự tương quan giữa BMI với charges**"
   ]
  },
  {
   "cell_type": "code",
   "execution_count": 26,
   "metadata": {
    "colab": {
     "base_uri": "https://localhost:8080/",
     "height": 0
    },
    "executionInfo": {
     "elapsed": 8897,
     "status": "ok",
     "timestamp": 1620876209062,
     "user": {
      "displayName": "Trực Nguyễn",
      "photoUrl": "https://lh3.googleusercontent.com/a-/AOh14GjUPsjUbu0f_lzSAntKKiOnFaebaoIUcQjmJuSHgA=s64",
      "userId": "05506473588895822423"
     },
     "user_tz": -420
    },
    "id": "SXNopEh4nyrq",
    "outputId": "3ed9a93d-a1ce-4f57-8ef7-5772ec5134f0"
   },
   "outputs": [
    {
     "data": {
      "image/png": "[encoded data removed]",
      "text/plain": [
       "<Figure size 1440x1440 with 4 Axes>"
      ]
     },
     "metadata": {
      "needs_background": "light",
      "tags": []
     },
     "output_type": "display_data"
    }
   ],
   "source": [
    "fig = plt.figure(figsize=(20,20))\n",
    "\n",
    "ax = fig.add_subplot(221)\n",
    "ax = sns.distplot(data_df['charges'][data_df['bmi'] < 18.5], rug=True)\n",
    "plt.title('Underweight (BMI <18.5)')\n",
    "plt.xticks(np.arange(0,50000,10000))\n",
    "plt.xlabel('BMI')\n",
    "\n",
    "\n",
    "ax = fig.add_subplot(222)\n",
    "ax = sns.distplot(data_df['charges'][(data_df['bmi'] >= 18.5) & (data_df['bmi'] < 24.9)], rug=True)\n",
    "plt.title('Normal (BMI > 18.5 and BMI < 24.9)')\n",
    "plt.xticks(np.arange(0,50000,10000))\n",
    "plt.xlabel('Cost')\n",
    "\n",
    "\n",
    "ax = fig.add_subplot(223)\n",
    "ax = sns.distplot(data_df['charges'][(data_df['bmi'] >= 24.9) & (data_df['bmi'] < 29.9)], rug=True)\n",
    "plt.title('Overweight (BMI > 24.9 and BMI < 29.9)')\n",
    "plt.xticks(np.arange(0,50000,10000))\n",
    "plt.xlabel('Cost')\n",
    "\n",
    "\n",
    "ax = fig.add_subplot(224)\n",
    "ax = sns.distplot(data_df['charges'][data_df['bmi'] > 29.9], rug=True)\n",
    "plt.title('Obese (BMI > 29.9)')\n",
    "plt.xticks(np.arange(0,50000,10000))\n",
    "plt.xlabel('Cost')\n",
    "\n",
    "\n",
    "plt.show()"
   ]
  },
  {
   "cell_type": "markdown",
   "metadata": {
    "id": "qqIeDz2Bnyrr"
   },
   "source": [
    "- **Nhận xét:**\n",
    "    - Hình dáng đồ thì có sự thay đổi ở sườn bên phải\n",
    "    - Chi phí sẽ tăng nhẹ đối với mỗi loại **BMI** khác nhau"
   ]
  },
  {
   "cell_type": "markdown",
   "metadata": {
    "id": "XuJ9GkN9nyrr"
   },
   "source": [
    "### Sự tương quan giữa BMI, Smoker, Charges"
   ]
  },
  {
   "cell_type": "code",
   "execution_count": 27,
   "metadata": {
    "executionInfo": {
     "elapsed": 8891,
     "status": "ok",
     "timestamp": 1620876209063,
     "user": {
      "displayName": "Trực Nguyễn",
      "photoUrl": "https://lh3.googleusercontent.com/a-/AOh14GjUPsjUbu0f_lzSAntKKiOnFaebaoIUcQjmJuSHgA=s64",
      "userId": "05506473588895822423"
     },
     "user_tz": -420
    },
    "id": "Hmo5sZv2nyrr"
   },
   "outputs": [],
   "source": [
    "smoker_yes = data_df[['bmi','charges']][data_df['smoker'] == 'yes']\n",
    "smoker_no = data_df[['bmi','charges']][data_df['smoker'] == 'no']"
   ]
  },
  {
   "cell_type": "code",
   "execution_count": 28,
   "metadata": {
    "colab": {
     "base_uri": "https://localhost:8080/",
     "height": 0
    },
    "executionInfo": {
     "elapsed": 9997,
     "status": "ok",
     "timestamp": 1620876210175,
     "user": {
      "displayName": "Trực Nguyễn",
      "photoUrl": "https://lh3.googleusercontent.com/a-/AOh14GjUPsjUbu0f_lzSAntKKiOnFaebaoIUcQjmJuSHgA=s64",
      "userId": "05506473588895822423"
     },
     "user_tz": -420
    },
    "id": "aGzrrIcdnyrs",
    "outputId": "a6d73da0-8a74-4bcf-afea-3892dcea29e9"
   },
   "outputs": [
    {
     "data": {
      "text/plain": [
       "Text(0.5, 0, 'BMI')"
      ]
     },
     "execution_count": 28,
     "metadata": {
      "tags": []
     },
     "output_type": "execute_result"
    },
    {
     "data": {
      "image/png": "[encoded data removed]",
      "text/plain": [
       "<Figure size 1440x1440 with 2 Axes>"
      ]
     },
     "metadata": {
      "needs_background": "light",
      "tags": []
     },
     "output_type": "display_data"
    }
   ],
   "source": [
    "fig = plt.figure(figsize=(20,20))\n",
    "\n",
    "ax = fig.add_subplot(221)\n",
    "sns.distplot(smoker_yes['charges'][smoker_yes['bmi'] < 18.5], rug=True)\n",
    "plt.title('Underweight (BMI <18.5), Smoker = Yes')\n",
    "plt.xticks(np.arange(0,50000,10000))\n",
    "plt.xlabel('BMI')\n",
    "\n",
    "ax = fig.add_subplot(222)\n",
    "sns.distplot(smoker_no['charges'][smoker_no['bmi'] < 18.5], rug=True)\n",
    "plt.title('Underweight (BMI <18.5), Smoker = No')\n",
    "plt.xticks(np.arange(0,50000,10000))\n",
    "plt.xlabel('BMI')\n"
   ]
  },
  {
   "cell_type": "code",
   "execution_count": 29,
   "metadata": {
    "colab": {
     "base_uri": "https://localhost:8080/",
     "height": 0
    },
    "executionInfo": {
     "elapsed": 9992,
     "status": "ok",
     "timestamp": 1620876210176,
     "user": {
      "displayName": "Trực Nguyễn",
      "photoUrl": "https://lh3.googleusercontent.com/a-/AOh14GjUPsjUbu0f_lzSAntKKiOnFaebaoIUcQjmJuSHgA=s64",
      "userId": "05506473588895822423"
     },
     "user_tz": -420
    },
    "id": "KozBR_vdnyrs",
    "outputId": "c570124a-8066-438e-e463-e7aed969a65b"
   },
   "outputs": [
    {
     "data": {
      "text/plain": [
       "Text(0.5, 0, 'Cost')"
      ]
     },
     "execution_count": 29,
     "metadata": {
      "tags": []
     },
     "output_type": "execute_result"
    },
    {
     "data": {
      "image/png": "[encoded data removed]",
      "text/plain": [
       "<Figure size 1440x1440 with 2 Axes>"
      ]
     },
     "metadata": {
      "needs_background": "light",
      "tags": []
     },
     "output_type": "display_data"
    }
   ],
   "source": [
    "fig = plt.figure(figsize=(20,20))\n",
    "\n",
    "ax = fig.add_subplot(221)\n",
    "ax = sns.distplot(smoker_yes['charges'][(smoker_yes['bmi'] >= 18.5) & (smoker_yes['bmi'] < 24.9)], rug=True)\n",
    "plt.title('Normal (BMI > 18.5 and BMI < 24.9), Smoker = Yes')\n",
    "plt.xticks(np.arange(0,50000,10000))\n",
    "plt.xlabel('Cost')\n",
    "\n",
    "ax = fig.add_subplot(222)\n",
    "ax = sns.distplot(smoker_no['charges'][(smoker_no['bmi'] >= 18.5) & (smoker_no['bmi'] < 24.9)], rug=True)\n",
    "plt.title('Normal (BMI > 18.5 and BMI < 24.9), Smoker = No')\n",
    "plt.xticks(np.arange(0,50000,10000))\n",
    "plt.xlabel('Cost')"
   ]
  },
  {
   "cell_type": "code",
   "execution_count": 30,
   "metadata": {
    "colab": {
     "base_uri": "https://localhost:8080/",
     "height": 0
    },
    "executionInfo": {
     "elapsed": 11292,
     "status": "ok",
     "timestamp": 1620876211483,
     "user": {
      "displayName": "Trực Nguyễn",
      "photoUrl": "https://lh3.googleusercontent.com/a-/AOh14GjUPsjUbu0f_lzSAntKKiOnFaebaoIUcQjmJuSHgA=s64",
      "userId": "05506473588895822423"
     },
     "user_tz": -420
    },
    "id": "XGBFUD60nyrs",
    "outputId": "d972fc68-1224-41e6-ddd7-f4db351c103a"
   },
   "outputs": [
    {
     "data": {
      "text/plain": [
       "Text(0.5, 0, 'Cost')"
      ]
     },
     "execution_count": 30,
     "metadata": {
      "tags": []
     },
     "output_type": "execute_result"
    },
    {
     "data": {
      "image/png": "[encoded data removed]",
      "text/plain": [
       "<Figure size 1440x1440 with 2 Axes>"
      ]
     },
     "metadata": {
      "needs_background": "light",
      "tags": []
     },
     "output_type": "display_data"
    }
   ],
   "source": [
    "fig = plt.figure(figsize=(20,20))\n",
    "\n",
    "ax = fig.add_subplot(221)\n",
    "ax = sns.distplot(smoker_yes['charges'][(smoker_yes['bmi'] >= 24.9) & (smoker_yes['bmi'] < 29.9)], rug=True)\n",
    "plt.title('Overweight (BMI > 24.9 and BMI < 29.9), Smoker = Yes')\n",
    "plt.xticks(np.arange(0,50000,10000))\n",
    "plt.xlabel('Cost')\n",
    "\n",
    "\n",
    "ax = fig.add_subplot(222)\n",
    "ax = sns.distplot(smoker_no['charges'][(smoker_no['bmi'] >= 24.9) & (smoker_no['bmi'] < 29.9)], rug=True)\n",
    "plt.title('Overweight (BMI > 24.9 and BMI < 29.9), Smoker = No')\n",
    "plt.xticks(np.arange(0,50000,10000))\n",
    "plt.xlabel('Cost')"
   ]
  },
  {
   "cell_type": "code",
   "execution_count": 31,
   "metadata": {
    "colab": {
     "base_uri": "https://localhost:8080/",
     "height": 0
    },
    "executionInfo": {
     "elapsed": 11287,
     "status": "ok",
     "timestamp": 1620876211485,
     "user": {
      "displayName": "Trực Nguyễn",
      "photoUrl": "https://lh3.googleusercontent.com/a-/AOh14GjUPsjUbu0f_lzSAntKKiOnFaebaoIUcQjmJuSHgA=s64",
      "userId": "05506473588895822423"
     },
     "user_tz": -420
    },
    "id": "wuN-BdnYnyrt",
    "outputId": "7a883bd5-f1ab-4690-e35a-37b54ae4853b"
   },
   "outputs": [
    {
     "data": {
      "text/plain": [
       "Text(0.5, 0, 'Cost')"
      ]
     },
     "execution_count": 31,
     "metadata": {
      "tags": []
     },
     "output_type": "execute_result"
    },
    {
     "data": {
      "image/png": "[encoded data removed]",
      "text/plain": [
       "<Figure size 1440x1440 with 2 Axes>"
      ]
     },
     "metadata": {
      "needs_background": "light",
      "tags": []
     },
     "output_type": "display_data"
    }
   ],
   "source": [
    "fig = plt.figure(figsize=(20,20))\n",
    "\n",
    "ax = fig.add_subplot(221)\n",
    "ax = sns.distplot(smoker_yes['charges'][smoker_yes['bmi'] > 29.9], rug=True)\n",
    "plt.title('Obese (BMI > 29.9), Smoker = Yes')\n",
    "plt.xticks(np.arange(0,50000,10000))\n",
    "plt.xlabel('Cost')\n",
    "\n",
    "\n",
    "ax = fig.add_subplot(222)\n",
    "ax = sns.distplot(smoker_no['charges'][smoker_no['bmi'] > 29.9], rug=True)\n",
    "plt.title('Obese (BMI > 29.9), Smoker = No')\n",
    "plt.xticks(np.arange(0,50000,10000))\n",
    "plt.xlabel('Cost')"
   ]
  },
  {
   "cell_type": "markdown",
   "metadata": {
    "id": "oKx7Oj04nyrt"
   },
   "source": [
    "- **Nhận xét:** bất kì chỉ số **BMI** như thế nào nếu **có hút thuốc** thì sẽ phải trả nhiều chi phí y tế hơn"
   ]
  },
  {
   "cell_type": "markdown",
   "metadata": {
    "id": "WxkAlycenyru"
   },
   "source": [
    "### Sự tương quan giữa Smoker và Children"
   ]
  },
  {
   "cell_type": "markdown",
   "metadata": {
    "id": "0yw694YBnyru"
   },
   "source": [
    "- **Dự đoán:** thông thường nếu gia đình có trẻ con thì người lớn sẽ ít hút thuốc hơn vì sợ ảnh hưởng đến sức khỏe của trẻ nhỏ."
   ]
  },
  {
   "cell_type": "code",
   "execution_count": 32,
   "metadata": {
    "colab": {
     "base_uri": "https://localhost:8080/"
    },
    "executionInfo": {
     "elapsed": 11282,
     "status": "ok",
     "timestamp": 1620876211486,
     "user": {
      "displayName": "Trực Nguyễn",
      "photoUrl": "https://lh3.googleusercontent.com/a-/AOh14GjUPsjUbu0f_lzSAntKKiOnFaebaoIUcQjmJuSHgA=s64",
      "userId": "05506473588895822423"
     },
     "user_tz": -420
    },
    "id": "YTzfKy9Mnyru",
    "outputId": "69a96c09-43aa-4dba-907e-9ae644357f22"
   },
   "outputs": [
    {
     "data": {
      "text/plain": [
       "children  smoker\n",
       "0         no        342\n",
       "          yes        83\n",
       "1         no        201\n",
       "          yes        45\n",
       "2         no        136\n",
       "          yes        43\n",
       "3         no         88\n",
       "          yes        32\n",
       "4         no         19\n",
       "          yes         2\n",
       "5         no         11\n",
       "          yes         1\n",
       "Name: smoker, dtype: int64"
      ]
     },
     "execution_count": 32,
     "metadata": {
      "tags": []
     },
     "output_type": "execute_result"
    }
   ],
   "source": [
    "data_df.groupby('children')['smoker'].value_counts()"
   ]
  },
  {
   "cell_type": "code",
   "execution_count": 33,
   "metadata": {
    "executionInfo": {
     "elapsed": 11277,
     "status": "ok",
     "timestamp": 1620876211488,
     "user": {
      "displayName": "Trực Nguyễn",
      "photoUrl": "https://lh3.googleusercontent.com/a-/AOh14GjUPsjUbu0f_lzSAntKKiOnFaebaoIUcQjmJuSHgA=s64",
      "userId": "05506473588895822423"
     },
     "user_tz": -420
    },
    "id": "wU-gvbB8nyrv"
   },
   "outputs": [],
   "source": [
    "smoker_children = pd.DataFrame([[0,0,342],\n",
    "                                [1,0,201],\n",
    "                                [2,0,136],\n",
    "                                [3,0,88],\n",
    "                                [4,0,19],\n",
    "                                [5,0,11],\n",
    "                                [0,1,83],\n",
    "                                [1,1,45],\n",
    "                                [2,1,43],\n",
    "                                [3,1,32],\n",
    "                                [4,1,2],\n",
    "                                [5,1,1]],columns=['children','smoker','count'])"
   ]
  },
  {
   "cell_type": "code",
   "execution_count": 34,
   "metadata": {
    "colab": {
     "base_uri": "https://localhost:8080/",
     "height": 0
    },
    "executionInfo": {
     "elapsed": 12022,
     "status": "ok",
     "timestamp": 1620876212238,
     "user": {
      "displayName": "Trực Nguyễn",
      "photoUrl": "https://lh3.googleusercontent.com/a-/AOh14GjUPsjUbu0f_lzSAntKKiOnFaebaoIUcQjmJuSHgA=s64",
      "userId": "05506473588895822423"
     },
     "user_tz": -420
    },
    "id": "l8l-3aM_nyrv",
    "outputId": "4996bdf1-a42b-4972-f1db-8ef34da76691"
   },
   "outputs": [
    {
     "data": {
      "image/png": "[encoded data removed]",
      "text/plain": [
       "<Figure size 404.5x360 with 1 Axes>"
      ]
     },
     "metadata": {
      "needs_background": "light",
      "tags": []
     },
     "output_type": "display_data"
    }
   ],
   "source": [
    "sns.catplot(x='children', y='count', hue='smoker', kind='bar', data=smoker_children)\n",
    "plt.show()"
   ]
  },
  {
   "cell_type": "markdown",
   "metadata": {
    "id": "SaL93B4xnyrv"
   },
   "source": [
    "- **Nhận xét:** ta thấy số children càng lớn thì số smoker càng giảm"
   ]
  },
  {
   "cell_type": "markdown",
   "metadata": {
    "id": "ITsksjRDnyrw"
   },
   "source": [
    "### Sự tương quan giữa Smoker, Children và Charges"
   ]
  },
  {
   "cell_type": "code",
   "execution_count": 35,
   "metadata": {
    "colab": {
     "base_uri": "https://localhost:8080/",
     "height": 0
    },
    "executionInfo": {
     "elapsed": 12015,
     "status": "ok",
     "timestamp": 1620876212239,
     "user": {
      "displayName": "Trực Nguyễn",
      "photoUrl": "https://lh3.googleusercontent.com/a-/AOh14GjUPsjUbu0f_lzSAntKKiOnFaebaoIUcQjmJuSHgA=s64",
      "userId": "05506473588895822423"
     },
     "user_tz": -420
    },
    "id": "7b61EiObnyrw",
    "outputId": "24a176c0-2813-47c9-dba2-cde83d1b4ebf"
   },
   "outputs": [
    {
     "data": {
      "image/png": "[encoded data removed]",
      "text/plain": [
       "<Figure size 413.25x360 with 1 Axes>"
      ]
     },
     "metadata": {
      "needs_background": "light",
      "tags": []
     },
     "output_type": "display_data"
    }
   ],
   "source": [
    "sns.catplot(x='children', y='charges', hue='smoker', kind='box', data=data_df)\n",
    "plt.show()"
   ]
  },
  {
   "cell_type": "markdown",
   "metadata": {
    "id": "lYkJvh53nyrw"
   },
   "source": [
    "- **Nhận xét:** ta có thể thấy bất kể nó bao nhiêu **children** đi nữa nếu **hút thuốc** thì sẽ phải tốn nhiều chi phí y tế hơn"
   ]
  },
  {
   "cell_type": "markdown",
   "metadata": {
    "id": "OMEdHv6jnyrw"
   },
   "source": [
    "### Sự tương quan giữa Region và Charges"
   ]
  },
  {
   "cell_type": "code",
   "execution_count": 36,
   "metadata": {
    "colab": {
     "base_uri": "https://localhost:8080/",
     "height": 0
    },
    "executionInfo": {
     "elapsed": 12672,
     "status": "ok",
     "timestamp": 1620876212902,
     "user": {
      "displayName": "Trực Nguyễn",
      "photoUrl": "https://lh3.googleusercontent.com/a-/AOh14GjUPsjUbu0f_lzSAntKKiOnFaebaoIUcQjmJuSHgA=s64",
      "userId": "05506473588895822423"
     },
     "user_tz": -420
    },
    "id": "MHyedCR1nyrw",
    "outputId": "630e9634-ede0-4efb-9342-ec7f835d45b1"
   },
   "outputs": [
    {
     "data": {
      "image/png": "[encoded data removed]",
      "text/plain": [
       "<Figure size 413.25x360 with 1 Axes>"
      ]
     },
     "metadata": {
      "needs_background": "light",
      "tags": []
     },
     "output_type": "display_data"
    }
   ],
   "source": [
    "sns.catplot(x='region', y='charges', hue='smoker', kind='bar', data=data_df)\n",
    "plt.show()"
   ]
  },
  {
   "cell_type": "markdown",
   "metadata": {
    "id": "B2JZF-qznyrx"
   },
   "source": [
    "- **Nhận xét:** \n",
    "    - Vùng miền không ảnh hưởng nhiều đến charges\n",
    "    - Ở **southeast** sẽ nhiều hơn các vùng còn lại một tí"
   ]
  },
  {
   "cell_type": "markdown",
   "metadata": {
    "id": "N0k6F5h5nyrx"
   },
   "source": [
    "### Kết luận phần trực quan và insight"
   ]
  },
  {
   "cell_type": "markdown",
   "metadata": {
    "id": "6gPsQD_7nyrx"
   },
   "source": [
    "- **Những yếu tố quan trọng quyết định đến chi phí y tế:**\n",
    "    - **Smoker: một người có hút thuốc hay không**\n",
    "    - **Age: tuổi tác, tuổi tác càng già thì cần được chăm sóc y tế nhiều hơn**\n",
    "    - **BMI: chỉ số BMI càng lớn(>30) có nguy cơ béo phì nên chi phí y tế sẽ tăng**\n",
    "- **Những yếu tố như Region, Children, Sex không ảnh hưởng nhiều đến việc tăng giảm chi phí y tế**"
   ]
  },
  {
   "cell_type": "markdown",
   "metadata": {
    "id": "-Lf09_1fnyrx"
   },
   "source": [
    "# III. Tiền xử lý "
   ]
  },
  {
   "cell_type": "markdown",
   "metadata": {
    "id": "PzdUMmYDnyry"
   },
   "source": [
    "# 1. Tách tập train và tập validation ra theo tỉ lệ: 70%:30%.¶\n"
   ]
  },
  {
   "cell_type": "markdown",
   "metadata": {
    "id": "hlsv8yaknyry"
   },
   "source": [
    "- Tách thành 2 phần X và y. Với X là input, y là output, với y là `charges`"
   ]
  },
  {
   "cell_type": "code",
   "execution_count": 37,
   "metadata": {
    "executionInfo": {
     "elapsed": 12667,
     "status": "ok",
     "timestamp": 1620876212903,
     "user": {
      "displayName": "Trực Nguyễn",
      "photoUrl": "https://lh3.googleusercontent.com/a-/AOh14GjUPsjUbu0f_lzSAntKKiOnFaebaoIUcQjmJuSHgA=s64",
      "userId": "05506473588895822423"
     },
     "user_tz": -420
    },
    "id": "VxHLstFKnyry"
   },
   "outputs": [],
   "source": [
    "# Tách X và y\n",
    "y_sr = data_df[\"charges\"] # sr là viết tắt của series\n",
    "X_df = data_df.drop(\"charges\", axis=1)"
   ]
  },
  {
   "cell_type": "markdown",
   "metadata": {
    "id": "3zcQE3QPnyry"
   },
   "source": [
    "- Chia thành 2 bộ dữ liệu train và validation"
   ]
  },
  {
   "cell_type": "code",
   "execution_count": 38,
   "metadata": {
    "executionInfo": {
     "elapsed": 12662,
     "status": "ok",
     "timestamp": 1620876212904,
     "user": {
      "displayName": "Trực Nguyễn",
      "photoUrl": "https://lh3.googleusercontent.com/a-/AOh14GjUPsjUbu0f_lzSAntKKiOnFaebaoIUcQjmJuSHgA=s64",
      "userId": "05506473588895822423"
     },
     "user_tz": -420
    },
    "id": "xjzh4RTNnyry"
   },
   "outputs": [],
   "source": [
    "train_X, val_X, train_y, val_y = train_test_split(X_df,y_sr,test_size=0.3, random_state=0)"
   ]
  },
  {
   "cell_type": "markdown",
   "metadata": {
    "id": "9A0npn87nyrz"
   },
   "source": [
    "- Kích thước dữ liệu sau khi tách"
   ]
  },
  {
   "cell_type": "code",
   "execution_count": 39,
   "metadata": {
    "colab": {
     "base_uri": "https://localhost:8080/"
    },
    "executionInfo": {
     "elapsed": 12658,
     "status": "ok",
     "timestamp": 1620876212905,
     "user": {
      "displayName": "Trực Nguyễn",
      "photoUrl": "https://lh3.googleusercontent.com/a-/AOh14GjUPsjUbu0f_lzSAntKKiOnFaebaoIUcQjmJuSHgA=s64",
      "userId": "05506473588895822423"
     },
     "user_tz": -420
    },
    "id": "ZXCwlnqanyrz",
    "outputId": "785f8efa-d479-4c0e-fee0-b1965e1ab778"
   },
   "outputs": [
    {
     "name": "stdout",
     "output_type": "stream",
     "text": [
      "shape train_X : (702, 6)\n",
      "shape train_y : (702,)\n",
      "shape val_X : (301, 6)\n",
      "shape val_y : (301,)\n"
     ]
    }
   ],
   "source": [
    "print(\"shape train_X :\", train_X.shape)\n",
    "print(\"shape train_y :\", train_y.shape)\n",
    "print(\"shape val_X :\", val_X.shape)\n",
    "print(\"shape val_y :\", val_y.shape)"
   ]
  },
  {
   "cell_type": "markdown",
   "metadata": {
    "id": "65eNI4e4nyrz"
   },
   "source": [
    "## 2.  Khám phá dữ liệu (Tập huấn luyện)"
   ]
  },
  {
   "cell_type": "markdown",
   "metadata": {
    "id": "Hs6IkwaMnyrz"
   },
   "source": [
    "### Mỗi cột input hiện đang có kiểu dữ liệu gì? Có cột nào có kiểu dữ liệu chưa phù hợp để có thể xử lý tiếp không?"
   ]
  },
  {
   "cell_type": "code",
   "execution_count": 40,
   "metadata": {
    "colab": {
     "base_uri": "https://localhost:8080/"
    },
    "executionInfo": {
     "elapsed": 12651,
     "status": "ok",
     "timestamp": 1620876212906,
     "user": {
      "displayName": "Trực Nguyễn",
      "photoUrl": "https://lh3.googleusercontent.com/a-/AOh14GjUPsjUbu0f_lzSAntKKiOnFaebaoIUcQjmJuSHgA=s64",
      "userId": "05506473588895822423"
     },
     "user_tz": -420
    },
    "id": "X6K0JBhSnyrz",
    "outputId": "d06df896-35fc-4273-be37-64d38e25bfb5"
   },
   "outputs": [
    {
     "data": {
      "text/plain": [
       "age           int64\n",
       "sex          object\n",
       "bmi         float64\n",
       "children      int64\n",
       "smoker       object\n",
       "region       object\n",
       "dtype: object"
      ]
     },
     "execution_count": 40,
     "metadata": {
      "tags": []
     },
     "output_type": "execute_result"
    }
   ],
   "source": [
    "train_X.dtypes"
   ]
  },
  {
   "cell_type": "markdown",
   "metadata": {
    "id": "cZWf00vfnyr0"
   },
   "source": [
    "- Nhận xét về tập dữ liệu\n",
    "    - Dữ liệu có 6 thuộc tính.\n",
    "    - Các thuộc tính có kiểu dữ liệu có vẻ phù hợp."
   ]
  },
  {
   "cell_type": "markdown",
   "metadata": {
    "id": "cvwHjY8xnyr0"
   },
   "source": [
    "## 3. Tiền xử lý (tập huấn luyện)"
   ]
  },
  {
   "cell_type": "markdown",
   "metadata": {
    "id": "PD4-Iq2Snyr0"
   },
   "source": [
    "Ta tiến hành tiền xử lý như sau: \n",
    "- Như đã phân tích các nhân tố của từng thuộc tính ảnh hưởng đến mức độ chi phí, do đó ta sẽ sắp xếp và chuyển đổi các nhân tố  của từng thuộc tính đó theo thứ tự dạng numeric, tùy theo độ mức độ ảnh hưởng.\n",
    "- Ở đây, ví dụ: Với thuộc tính `smoker`, sau khi phân tích ở trên, ta có thể nhận thấy chi phí trung bình của người có hút thuốc cao gấp 4 lần so với người không hút thuốc nên chuyển `yes` sang 4 và `no` sang 1. Tương tự cho các thuộc tính khác, sẽ được chuyển đổi sao cho phù hợp."
   ]
  },
  {
   "cell_type": "code",
   "execution_count": 41,
   "metadata": {
    "executionInfo": {
     "elapsed": 12647,
     "status": "ok",
     "timestamp": 1620876212907,
     "user": {
      "displayName": "Trực Nguyễn",
      "photoUrl": "https://lh3.googleusercontent.com/a-/AOh14GjUPsjUbu0f_lzSAntKKiOnFaebaoIUcQjmJuSHgA=s64",
      "userId": "05506473588895822423"
     },
     "user_tz": -420
    },
    "id": "_ZowH2Vwnyr0"
   },
   "outputs": [],
   "source": [
    "def convert_col_dtype(col):\n",
    "    if col.name == 'smoker':\n",
    "        col.replace('yes',4, inplace = True)\n",
    "        col.replace('no',1, inplace = True)\n",
    " #   if col.name == 'region':\n",
    " #       col.replace('northwest',1, inplace = True)\n",
    " #       col.replace('southwest',2, inplace = True)\n",
    " #       col.replace('northeast',3, inplace = True)\n",
    " #       col.replace('southeast',4, inplace = True)\n",
    " #   if col.name == 'sex':\n",
    " #       col.replace('male',2, inplace = True)\n",
    " #       col.replace('female',1, inplace = True)\n",
    "    if col.name == 'children':\n",
    "        col.replace(3,6, inplace = True)\n",
    "        col.replace(2,5, inplace = True)\n",
    "        col.replace(4,4, inplace = True)\n",
    "        col.replace(1,3, inplace = True)\n",
    "        col.replace(0,2, inplace = True)\n",
    "        col.replace(5,1, inplace = True)\n",
    "    return col"
   ]
  },
  {
   "cell_type": "markdown",
   "metadata": {
    "id": "KAjlwCOenyr1"
   },
   "source": [
    "- Class `ColAdderDropper` ở dưới đây sẽ thực hiện các bước ở trên.\n",
    "- Ngoài ra, class `ColAdderDropper` được kế thừa từ 2 class của Sklearn là `BaseEstimator` và `TransformerMixin`. Việc kế thừa này giúp class của ta tự động có các phương thức như `set_params`, `get_params`, `fit_transform` "
   ]
  },
  {
   "cell_type": "code",
   "execution_count": 42,
   "metadata": {
    "colab": {
     "base_uri": "https://localhost:8080/",
     "height": 0
    },
    "executionInfo": {
     "elapsed": 12641,
     "status": "ok",
     "timestamp": 1620876212908,
     "user": {
      "displayName": "Trực Nguyễn",
      "photoUrl": "https://lh3.googleusercontent.com/a-/AOh14GjUPsjUbu0f_lzSAntKKiOnFaebaoIUcQjmJuSHgA=s64",
      "userId": "05506473588895822423"
     },
     "user_tz": -420
    },
    "id": "UmB41Aeknyr1",
    "outputId": "2ce0c148-a318-4a0b-ddb3-df3c5a5b96f7"
   },
   "outputs": [
    {
     "data": {
      "text/html": [
       "<div>\n",
       "<style scoped>\n",
       "    .dataframe tbody tr th:only-of-type {\n",
       "        vertical-align: middle;\n",
       "    }\n",
       "\n",
       "    .dataframe tbody tr th {\n",
       "        vertical-align: top;\n",
       "    }\n",
       "\n",
       "    .dataframe thead th {\n",
       "        text-align: right;\n",
       "    }\n",
       "</style>\n",
       "<table border=\"1\" class=\"dataframe\">\n",
       "  <thead>\n",
       "    <tr style=\"text-align: right;\">\n",
       "      <th></th>\n",
       "      <th>age</th>\n",
       "      <th>sex</th>\n",
       "      <th>bmi</th>\n",
       "      <th>children</th>\n",
       "      <th>smoker</th>\n",
       "      <th>region</th>\n",
       "      <th>charges</th>\n",
       "    </tr>\n",
       "  </thead>\n",
       "  <tbody>\n",
       "    <tr>\n",
       "      <th>0</th>\n",
       "      <td>24</td>\n",
       "      <td>male</td>\n",
       "      <td>23.655</td>\n",
       "      <td>2</td>\n",
       "      <td>1</td>\n",
       "      <td>northwest</td>\n",
       "      <td>2352.96845</td>\n",
       "    </tr>\n",
       "    <tr>\n",
       "      <th>1</th>\n",
       "      <td>28</td>\n",
       "      <td>female</td>\n",
       "      <td>26.510</td>\n",
       "      <td>1</td>\n",
       "      <td>1</td>\n",
       "      <td>southeast</td>\n",
       "      <td>4340.44090</td>\n",
       "    </tr>\n",
       "    <tr>\n",
       "      <th>2</th>\n",
       "      <td>51</td>\n",
       "      <td>male</td>\n",
       "      <td>39.700</td>\n",
       "      <td>3</td>\n",
       "      <td>1</td>\n",
       "      <td>southwest</td>\n",
       "      <td>9391.34600</td>\n",
       "    </tr>\n",
       "    <tr>\n",
       "      <th>3</th>\n",
       "      <td>47</td>\n",
       "      <td>male</td>\n",
       "      <td>36.080</td>\n",
       "      <td>3</td>\n",
       "      <td>4</td>\n",
       "      <td>southeast</td>\n",
       "      <td>42211.13820</td>\n",
       "    </tr>\n",
       "    <tr>\n",
       "      <th>4</th>\n",
       "      <td>46</td>\n",
       "      <td>female</td>\n",
       "      <td>28.900</td>\n",
       "      <td>1</td>\n",
       "      <td>1</td>\n",
       "      <td>southwest</td>\n",
       "      <td>8823.27900</td>\n",
       "    </tr>\n",
       "    <tr>\n",
       "      <th>...</th>\n",
       "      <td>...</td>\n",
       "      <td>...</td>\n",
       "      <td>...</td>\n",
       "      <td>...</td>\n",
       "      <td>...</td>\n",
       "      <td>...</td>\n",
       "      <td>...</td>\n",
       "    </tr>\n",
       "    <tr>\n",
       "      <th>998</th>\n",
       "      <td>18</td>\n",
       "      <td>female</td>\n",
       "      <td>31.350</td>\n",
       "      <td>4</td>\n",
       "      <td>1</td>\n",
       "      <td>northeast</td>\n",
       "      <td>4561.18850</td>\n",
       "    </tr>\n",
       "    <tr>\n",
       "      <th>999</th>\n",
       "      <td>39</td>\n",
       "      <td>female</td>\n",
       "      <td>23.870</td>\n",
       "      <td>1</td>\n",
       "      <td>1</td>\n",
       "      <td>southeast</td>\n",
       "      <td>8582.30230</td>\n",
       "    </tr>\n",
       "    <tr>\n",
       "      <th>1000</th>\n",
       "      <td>58</td>\n",
       "      <td>male</td>\n",
       "      <td>25.175</td>\n",
       "      <td>2</td>\n",
       "      <td>1</td>\n",
       "      <td>northeast</td>\n",
       "      <td>11931.12525</td>\n",
       "    </tr>\n",
       "    <tr>\n",
       "      <th>1001</th>\n",
       "      <td>37</td>\n",
       "      <td>female</td>\n",
       "      <td>47.600</td>\n",
       "      <td>1</td>\n",
       "      <td>4</td>\n",
       "      <td>southwest</td>\n",
       "      <td>46113.51100</td>\n",
       "    </tr>\n",
       "    <tr>\n",
       "      <th>1002</th>\n",
       "      <td>55</td>\n",
       "      <td>male</td>\n",
       "      <td>29.900</td>\n",
       "      <td>2</td>\n",
       "      <td>1</td>\n",
       "      <td>southwest</td>\n",
       "      <td>10214.63600</td>\n",
       "    </tr>\n",
       "  </tbody>\n",
       "</table>\n",
       "<p>1003 rows × 7 columns</p>\n",
       "</div>"
      ],
      "text/plain": [
       "      age     sex     bmi  children  smoker     region      charges\n",
       "0      24    male  23.655         2       1  northwest   2352.96845\n",
       "1      28  female  26.510         1       1  southeast   4340.44090\n",
       "2      51    male  39.700         3       1  southwest   9391.34600\n",
       "3      47    male  36.080         3       4  southeast  42211.13820\n",
       "4      46  female  28.900         1       1  southwest   8823.27900\n",
       "...   ...     ...     ...       ...     ...        ...          ...\n",
       "998    18  female  31.350         4       1  northeast   4561.18850\n",
       "999    39  female  23.870         1       1  southeast   8582.30230\n",
       "1000   58    male  25.175         2       1  northeast  11931.12525\n",
       "1001   37  female  47.600         1       4  southwest  46113.51100\n",
       "1002   55    male  29.900         2       1  southwest  10214.63600\n",
       "\n",
       "[1003 rows x 7 columns]"
      ]
     },
     "execution_count": 42,
     "metadata": {
      "tags": []
     },
     "output_type": "execute_result"
    }
   ],
   "source": [
    "class ColAdderDropper(BaseEstimator, TransformerMixin):\n",
    "    def __init__(self):\n",
    "        pass\n",
    "    def fit(self, X_df, y=None):\n",
    "        return self\n",
    "    def transform(self, X_df, y=None):\n",
    "        _df = X_df.copy()\n",
    "        _df = _df.apply(convert_col_dtype)\n",
    "        return _df\n",
    "    \n",
    "col_adderdropper = ColAdderDropper()\n",
    "fewer_cols_train_X_df = col_adderdropper.fit_transform(data_df)\n",
    "fewer_cols_train_X_df"
   ]
  },
  {
   "cell_type": "code",
   "execution_count": 43,
   "metadata": {
    "colab": {
     "base_uri": "https://localhost:8080/"
    },
    "executionInfo": {
     "elapsed": 12637,
     "status": "ok",
     "timestamp": 1620876212909,
     "user": {
      "displayName": "Trực Nguyễn",
      "photoUrl": "https://lh3.googleusercontent.com/a-/AOh14GjUPsjUbu0f_lzSAntKKiOnFaebaoIUcQjmJuSHgA=s64",
      "userId": "05506473588895822423"
     },
     "user_tz": -420
    },
    "id": "sFgI2SDxnyr1",
    "outputId": "b75e8e11-0b0b-40a7-bf89-9a79e11a3b0e"
   },
   "outputs": [
    {
     "data": {
      "text/plain": [
       "age           int64\n",
       "sex          object\n",
       "bmi         float64\n",
       "children      int64\n",
       "smoker        int64\n",
       "region       object\n",
       "charges     float64\n",
       "dtype: object"
      ]
     },
     "execution_count": 43,
     "metadata": {
      "tags": []
     },
     "output_type": "execute_result"
    }
   ],
   "source": [
    "fewer_cols_train_X_df.dtypes"
   ]
  },
  {
   "cell_type": "markdown",
   "metadata": {
    "id": "xkGDb6XTnyr2"
   },
   "source": [
    "- Có vẽ như kiểu dữ liệu các cột khá lý tưởng."
   ]
  },
  {
   "cell_type": "markdown",
   "metadata": {
    "id": "rPtapZrDnyr2"
   },
   "source": [
    "### Các bước tiền xử lý tiếp theo như sau:\n",
    "\n",
    "Bây giờ ta chuyển tất cả các cột về dạng số như sau:\n",
    "- Do các cột không chứa các giá trị thiếu nên ta không cần điền giá trị thiếu vào.\n",
    "- Với các cột dạng số, ta giữ nguyên.\n",
    "- Các cột không phải dạng số  và không có thứ tự, ta sẽ mã hóa bằng `one-hot`.\n",
    "\n",
    "Tiến hành chuẩn hóa.\n",
    "\n",
    "Cuối cùng tạo một pipeline sử dụng các thao tác trên cùng lúc.\n"
   ]
  },
  {
   "cell_type": "code",
   "execution_count": 44,
   "metadata": {
    "colab": {
     "base_uri": "https://localhost:8080/"
    },
    "executionInfo": {
     "elapsed": 12633,
     "status": "ok",
     "timestamp": 1620876212910,
     "user": {
      "displayName": "Trực Nguyễn",
      "photoUrl": "https://lh3.googleusercontent.com/a-/AOh14GjUPsjUbu0f_lzSAntKKiOnFaebaoIUcQjmJuSHgA=s64",
      "userId": "05506473588895822423"
     },
     "user_tz": -420
    },
    "id": "0Yc_nNgdnyr2",
    "outputId": "5f6ba5df-8f8a-4937-e6a1-984a6a73437e",
    "scrolled": true
   },
   "outputs": [
    {
     "data": {
      "text/plain": [
       "array([[-0.99106682,  0.99106682, -0.57773402, ..., -0.39671642,\n",
       "        -0.50839872, -0.9061563 ],\n",
       "       [ 1.0090137 , -1.0090137 , -0.57773402, ..., -1.0863292 ,\n",
       "        -0.50839872, -0.74115711],\n",
       "       [-0.99106682,  0.99106682, -0.57773402, ...,  0.29289635,\n",
       "        -0.50839872, -0.32183296],\n",
       "       ...,\n",
       "       [-0.99106682,  0.99106682,  1.73090033, ..., -0.39671642,\n",
       "        -0.50839872, -0.11098149],\n",
       "       [ 1.0090137 , -1.0090137 , -0.57773402, ..., -1.0863292 ,\n",
       "         1.9669601 ,  2.72682672],\n",
       "       [-0.99106682,  0.99106682, -0.57773402, ..., -0.39671642,\n",
       "        -0.50839872, -0.25348375]])"
      ]
     },
     "execution_count": 44,
     "metadata": {
      "tags": []
     },
     "output_type": "execute_result"
    }
   ],
   "source": [
    "unorder_cate_cols = ['sex','region']\n",
    "\n",
    "mode_unordercols = make_pipeline(OneHotEncoder(handle_unknown='ignore'))\n",
    "\n",
    "col_transform = ColumnTransformer([('unorder_cate_cols', mode_unordercols,unorder_cate_cols)],remainder='passthrough')\n",
    "\n",
    "preprocess_pipeline = make_pipeline(col_adderdropper,col_transform,StandardScaler())\n",
    "preprocessed_train_X = preprocess_pipeline.fit_transform(data_df)\n",
    "preprocessed_train_X"
   ]
  },
  {
   "cell_type": "markdown",
   "metadata": {
    "id": "fKrvX2wonyr2"
   },
   "source": [
    "## 4. Độ lỗi"
   ]
  },
  {
   "cell_type": "markdown",
   "metadata": {
    "id": "mqwswIgYnyr3"
   },
   "source": [
    "Sử dụng độ do R-Squared cho mô hình hồi quy."
   ]
  },
  {
   "cell_type": "code",
   "execution_count": 45,
   "metadata": {
    "executionInfo": {
     "elapsed": 12628,
     "status": "ok",
     "timestamp": 1620876212911,
     "user": {
      "displayName": "Trực Nguyễn",
      "photoUrl": "https://lh3.googleusercontent.com/a-/AOh14GjUPsjUbu0f_lzSAntKKiOnFaebaoIUcQjmJuSHgA=s64",
      "userId": "05506473588895822423"
     },
     "user_tz": -420
    },
    "id": "lKkmJ9sLnyr3"
   },
   "outputs": [],
   "source": [
    "# Tính độ đo r^2 trên tập huấn luyện\n",
    "def compute_mse(y, preds):\n",
    "    return ((y - preds) ** 2).mean()\n",
    "def compute_rr(y, preds, baseline_preds):\n",
    "    return 1 - compute_mse(y, preds) / compute_mse(y, baseline_preds)\n",
    "baseline_preds = train_y.mean()"
   ]
  },
  {
   "cell_type": "markdown",
   "metadata": {
    "id": "a_TnN4qWnyr3"
   },
   "source": [
    "## 5. Đọc file test"
   ]
  },
  {
   "cell_type": "code",
   "execution_count": 46,
   "metadata": {
    "executionInfo": {
     "elapsed": 12624,
     "status": "ok",
     "timestamp": 1620876212912,
     "user": {
      "displayName": "Trực Nguyễn",
      "photoUrl": "https://lh3.googleusercontent.com/a-/AOh14GjUPsjUbu0f_lzSAntKKiOnFaebaoIUcQjmJuSHgA=s64",
      "userId": "05506473588895822423"
     },
     "user_tz": -420
    },
    "id": "Fh-un6Ndnyr3",
    "scrolled": true
   },
   "outputs": [],
   "source": [
    "test_df = pd.read_csv('/test.csv')\n",
    "y_sr_test = test_df[\"charges\"] # sr là viết tắt của series\n",
    "X_df_test = test_df.drop(\"charges\", axis=1)"
   ]
  },
  {
   "cell_type": "markdown",
   "metadata": {
    "id": "9RAhoF9Znyr4"
   },
   "source": [
    "# IV. Tiền xử lý và áp dụng các mô hình học máy."
   ]
  },
  {
   "cell_type": "markdown",
   "metadata": {
    "id": "NBcXV94Rnyr4"
   },
   "source": [
    "#### Tìm mô hình tốt nhất cho độ lỗi trên tập validation nhỏ nhất"
   ]
  },
  {
   "cell_type": "markdown",
   "metadata": {
    "id": "0P7qxR4Jnyr4"
   },
   "source": [
    "# + MÔ HÌNH CƠ BẢN"
   ]
  },
  {
   "cell_type": "markdown",
   "metadata": {
    "id": "MLKfqW_8nyr4"
   },
   "source": [
    "## 1. Linear Regression "
   ]
  },
  {
   "cell_type": "markdown",
   "metadata": {
    "id": "a9hPknmjnyr4"
   },
   "source": [
    "### a. Tạo pipeline cho mô hình và huấn luyện cho mô hình"
   ]
  },
  {
   "cell_type": "code",
   "execution_count": 47,
   "metadata": {
    "colab": {
     "base_uri": "https://localhost:8080/"
    },
    "executionInfo": {
     "elapsed": 12619,
     "status": "ok",
     "timestamp": 1620876212913,
     "user": {
      "displayName": "Trực Nguyễn",
      "photoUrl": "https://lh3.googleusercontent.com/a-/AOh14GjUPsjUbu0f_lzSAntKKiOnFaebaoIUcQjmJuSHgA=s64",
      "userId": "05506473588895822423"
     },
     "user_tz": -420
    },
    "id": "RYSfpgmYnyr5",
    "outputId": "fe1859f4-fcef-4b00-d313-7e99ab3300ee",
    "scrolled": true
   },
   "outputs": [
    {
     "data": {
      "text/plain": [
       "Pipeline(memory=None,\n",
       "         steps=[('coladderdropper', ColAdderDropper()),\n",
       "                ('columntransformer',\n",
       "                 ColumnTransformer(n_jobs=None, remainder='passthrough',\n",
       "                                   sparse_threshold=0.3,\n",
       "                                   transformer_weights=None,\n",
       "                                   transformers=[('unorder_cate_cols',\n",
       "                                                  Pipeline(memory=None,\n",
       "                                                           steps=[('onehotencoder',\n",
       "                                                                   OneHotEncoder(categories='auto',\n",
       "                                                                                 drop=None,\n",
       "                                                                                 dtype=<class 'numpy.float64'>,\n",
       "                                                                                 handle_unknown='ignore',\n",
       "                                                                                 sparse=True))],\n",
       "                                                           verbose=False),\n",
       "                                                  ['sex', 'region'])],\n",
       "                                   verbose=False)),\n",
       "                ('standardscaler',\n",
       "                 StandardScaler(copy=True, with_mean=True, with_std=True)),\n",
       "                ('linearregression',\n",
       "                 LinearRegression(copy_X=True, fit_intercept=True, n_jobs=None,\n",
       "                                  normalize=False))],\n",
       "         verbose=False)"
      ]
     },
     "execution_count": 47,
     "metadata": {
      "tags": []
     },
     "output_type": "execute_result"
    }
   ],
   "source": [
    "warnings.filterwarnings(\"ignore\")\n",
    "linear_model =LinearRegression()\n",
    "linear_pipeline = make_pipeline(col_adderdropper,col_transform, StandardScaler(), linear_model)\n",
    "linear_train_X_df = train_X.append(val_X)\n",
    "linear_train_y_sr = train_y.append(val_y)\n",
    "linear_pipeline.fit(linear_train_X_df,linear_train_y_sr)"
   ]
  },
  {
   "cell_type": "markdown",
   "metadata": {
    "id": "wyN2oF5qnyr5"
   },
   "source": [
    "- Đọc file test"
   ]
  },
  {
   "cell_type": "markdown",
   "metadata": {
    "id": "B-Mo5tZonyr5"
   },
   "source": [
    "### b. So sánh kết quả predict với kết quả thực trên tập test"
   ]
  },
  {
   "cell_type": "code",
   "execution_count": 48,
   "metadata": {
    "colab": {
     "base_uri": "https://localhost:8080/",
     "height": 0
    },
    "executionInfo": {
     "elapsed": 12614,
     "status": "ok",
     "timestamp": 1620876212914,
     "user": {
      "displayName": "Trực Nguyễn",
      "photoUrl": "https://lh3.googleusercontent.com/a-/AOh14GjUPsjUbu0f_lzSAntKKiOnFaebaoIUcQjmJuSHgA=s64",
      "userId": "05506473588895822423"
     },
     "user_tz": -420
    },
    "id": "GL5qXtdynyr6",
    "outputId": "c1141bbf-d8bc-4b4b-873c-ea70cd57dca9"
   },
   "outputs": [
    {
     "data": {
      "text/html": [
       "<div>\n",
       "<style scoped>\n",
       "    .dataframe tbody tr th:only-of-type {\n",
       "        vertical-align: middle;\n",
       "    }\n",
       "\n",
       "    .dataframe tbody tr th {\n",
       "        vertical-align: top;\n",
       "    }\n",
       "\n",
       "    .dataframe thead th {\n",
       "        text-align: right;\n",
       "    }\n",
       "</style>\n",
       "<table border=\"1\" class=\"dataframe\">\n",
       "  <thead>\n",
       "    <tr style=\"text-align: right;\">\n",
       "      <th></th>\n",
       "      <th>Predict</th>\n",
       "      <th>Actual</th>\n",
       "    </tr>\n",
       "  </thead>\n",
       "  <tbody>\n",
       "    <tr>\n",
       "      <th>190</th>\n",
       "      <td>5473.21197</td>\n",
       "      <td>3597.59600</td>\n",
       "    </tr>\n",
       "    <tr>\n",
       "      <th>238</th>\n",
       "      <td>36347.80370</td>\n",
       "      <td>43896.37630</td>\n",
       "    </tr>\n",
       "    <tr>\n",
       "      <th>77</th>\n",
       "      <td>11775.13821</td>\n",
       "      <td>11454.02150</td>\n",
       "    </tr>\n",
       "    <tr>\n",
       "      <th>182</th>\n",
       "      <td>6475.65665</td>\n",
       "      <td>8428.06930</td>\n",
       "    </tr>\n",
       "    <tr>\n",
       "      <th>170</th>\n",
       "      <td>7771.65665</td>\n",
       "      <td>9182.17000</td>\n",
       "    </tr>\n",
       "    <tr>\n",
       "      <th>67</th>\n",
       "      <td>9553.21197</td>\n",
       "      <td>25992.82104</td>\n",
       "    </tr>\n",
       "    <tr>\n",
       "      <th>92</th>\n",
       "      <td>33604.84058</td>\n",
       "      <td>23401.30575</td>\n",
       "    </tr>\n",
       "    <tr>\n",
       "      <th>218</th>\n",
       "      <td>11935.13821</td>\n",
       "      <td>12629.89670</td>\n",
       "    </tr>\n",
       "    <tr>\n",
       "      <th>257</th>\n",
       "      <td>5883.65665</td>\n",
       "      <td>3292.52985</td>\n",
       "    </tr>\n",
       "    <tr>\n",
       "      <th>142</th>\n",
       "      <td>5919.13821</td>\n",
       "      <td>2322.62180</td>\n",
       "    </tr>\n",
       "    <tr>\n",
       "      <th>98</th>\n",
       "      <td>27898.39590</td>\n",
       "      <td>18765.87545</td>\n",
       "    </tr>\n",
       "    <tr>\n",
       "      <th>185</th>\n",
       "      <td>6031.13821</td>\n",
       "      <td>2855.43755</td>\n",
       "    </tr>\n",
       "    <tr>\n",
       "      <th>208</th>\n",
       "      <td>13279.13821</td>\n",
       "      <td>7804.16050</td>\n",
       "    </tr>\n",
       "    <tr>\n",
       "      <th>101</th>\n",
       "      <td>2559.13821</td>\n",
       "      <td>1743.21400</td>\n",
       "    </tr>\n",
       "    <tr>\n",
       "      <th>3</th>\n",
       "      <td>8273.21197</td>\n",
       "      <td>9301.89355</td>\n",
       "    </tr>\n",
       "  </tbody>\n",
       "</table>\n",
       "</div>"
      ],
      "text/plain": [
       "         Predict       Actual\n",
       "190   5473.21197   3597.59600\n",
       "238  36347.80370  43896.37630\n",
       "77   11775.13821  11454.02150\n",
       "182   6475.65665   8428.06930\n",
       "170   7771.65665   9182.17000\n",
       "67    9553.21197  25992.82104\n",
       "92   33604.84058  23401.30575\n",
       "218  11935.13821  12629.89670\n",
       "257   5883.65665   3292.52985\n",
       "142   5919.13821   2322.62180\n",
       "98   27898.39590  18765.87545\n",
       "185   6031.13821   2855.43755\n",
       "208  13279.13821   7804.16050\n",
       "101   2559.13821   1743.21400\n",
       "3     8273.21197   9301.89355"
      ]
     },
     "execution_count": 48,
     "metadata": {
      "tags": []
     },
     "output_type": "execute_result"
    }
   ],
   "source": [
    "linear_preds = linear_pipeline.predict(X_df_test).round(5)\n",
    "# So sánh kết quả predict với kết quả actual\n",
    "linear_preds_df = pd.DataFrame(linear_preds, index=y_sr_test.index).rename(columns={0: 'Predict'})\n",
    "linear_preds_df = linear_preds_df.assign(Actual = y_sr_test)\n",
    "linear_preds_df.sample(15)"
   ]
  },
  {
   "cell_type": "markdown",
   "metadata": {
    "id": "utYIEwJrnyr6"
   },
   "source": [
    "### c. Độ chính xác "
   ]
  },
  {
   "cell_type": "code",
   "execution_count": 49,
   "metadata": {
    "colab": {
     "base_uri": "https://localhost:8080/"
    },
    "executionInfo": {
     "elapsed": 12608,
     "status": "ok",
     "timestamp": 1620876212914,
     "user": {
      "displayName": "Trực Nguyễn",
      "photoUrl": "https://lh3.googleusercontent.com/a-/AOh14GjUPsjUbu0f_lzSAntKKiOnFaebaoIUcQjmJuSHgA=s64",
      "userId": "05506473588895822423"
     },
     "user_tz": -420
    },
    "id": "G5ilSkFonyr6",
    "outputId": "d9cc1617-6ddc-450d-a347-ecf1c268af1b",
    "scrolled": true
   },
   "outputs": [
    {
     "name": "stdout",
     "output_type": "stream",
     "text": [
      "Độ chính xác:  76.45592517072784\n"
     ]
    }
   ],
   "source": [
    "linear_score=compute_rr(y_sr_test, linear_preds, baseline_preds) * 100\n",
    "print(\"Độ chính xác: \",linear_score)"
   ]
  },
  {
   "cell_type": "markdown",
   "metadata": {
    "id": "Nc6FSiycnyr7"
   },
   "source": [
    "## 2. Linear Regression với Gradient Decent"
   ]
  },
  {
   "cell_type": "markdown",
   "metadata": {
    "id": "4LmrHwF9nyr7"
   },
   "source": [
    "- Hàm Linear"
   ]
  },
  {
   "cell_type": "code",
   "execution_count": 50,
   "metadata": {
    "executionInfo": {
     "elapsed": 12603,
     "status": "ok",
     "timestamp": 1620876212915,
     "user": {
      "displayName": "Trực Nguyễn",
      "photoUrl": "https://lh3.googleusercontent.com/a-/AOh14GjUPsjUbu0f_lzSAntKKiOnFaebaoIUcQjmJuSHgA=s64",
      "userId": "05506473588895822423"
     },
     "user_tz": -420
    },
    "id": "HaIpwuoHnyr7"
   },
   "outputs": [],
   "source": [
    "class GDLinearRegression:\n",
    "    def __init__(self, lr, step):\n",
    "        '''\n",
    "        Khởi tạo learning rate và số lượng step update weigh\n",
    "        '''\n",
    "        self.lr = lr\n",
    "        self.step = step\n",
    "\n",
    "    def fit(self, X, y):\n",
    "        ''' \n",
    "        Train the model với đầu vào là tập train data X cùng nhãn Y\n",
    "        X là ma trận MxN trong đó M là số lượng điểm dữ liệu, mỗi điểm dữ liệu có N chiều.\n",
    "        Trường hợp dữ liệu 1 chiều thì X là vector cột Mx1\n",
    "        '''\n",
    "        # lấy ra số lượng điểm train_size và số chiều dữ liệu n_features\n",
    "        self.n_features = X.shape[1] if len(X.shape) > 1 else 1 \n",
    "        train_size = len(X) # số lượng sample\n",
    "        \n",
    "        # chuẩn hóa lại định dạng dữ liệu\n",
    "        X = X.reshape(-1, self.n_features)\n",
    "        y= pd.DataFrame(y.values.reshape([-1, 1]))\n",
    "        \n",
    "        # ta muốn thực hiện dự đoán y = X.T*W + bias, ta đưa bias vào W (W|bias) và 1 cột toàn 1 vào X (X|one),\n",
    "        # lúc đó việc tính toán thuận tiện hơn y = (X|one).T*(W|bias) => đây là trick để tính toán cho nhanh\n",
    "        one = np.ones([train_size, 1])\n",
    "        X = np.concatenate([X, one], 1)\n",
    "        \n",
    "        # tạo weight chính là parameters ta sẽ optimize trong quá trình train\n",
    "        self.weight = np.zeros([self.n_features + 1, 1])\n",
    "        print('x shape: ', X.shape, '- y shape: ', y.shape, '- weight shape: ', self.weight.shape, 'train_size: ', train_size)\n",
    "        \n",
    "        # mảng lưu lại toàn bộ giá trị loss trong quá trình train\n",
    "        self.train_loss = []\n",
    "        \n",
    "        # train\n",
    "        for i in range(self.step):\n",
    "            \n",
    "            loss = np.sum((y - np.dot(X, self.weight)) ** 2)\n",
    "            delta = np.dot(X.T, ( np.dot(X, self.weight) - y))\n",
    "            \n",
    "            # update weight\n",
    "            self.weight = self.weight - (self.lr/train_size) * delta\n",
    "            \n",
    "            # tính trung bình loss\n",
    "            loss = loss/train_size\n",
    "            self.train_loss.append(loss.item())\n",
    "    \n",
    "    def predict(self, X):\n",
    "        '''\n",
    "        Thực hiện dự đoán\n",
    "        '''\n",
    "        # chuẩn hóa format dữ liệu như ta đã làm trong lúc train\n",
    "        X = X.reshape(-1, self.n_features)\n",
    "        \n",
    "        # thêm cột one như ta đã làm trong lúc train\n",
    "        one = np.ones([len(X), 1])\n",
    "        X = np.concatenate([X, one], 1)\n",
    "        \n",
    "        # thực hiện dự đoán, đơn giản là nhân ma trận\n",
    "        y_hat = np.dot(X, self.weight)\n",
    "        \n",
    "        return np.squeeze(y_hat)\n",
    "    \n",
    "    def print_weight(self):\n",
    "        '''\n",
    "        In weigt đã học được\n",
    "        '''\n",
    "        print(self.weight)\n",
    "        \n",
    "    def get_train_loss(self):\n",
    "        '''\n",
    "        Trả về train loss đã lưu trong quá trình train\n",
    "        '''\n",
    "        return self.train_loss"
   ]
  },
  {
   "cell_type": "markdown",
   "metadata": {
    "id": "KbdKL-CTnyr8"
   },
   "source": [
    "### a. Tạo pipeline cho mô hình, huấn luyện cho mô hình và tìm tham số tốt nhất"
   ]
  },
  {
   "cell_type": "code",
   "execution_count": 51,
   "metadata": {
    "colab": {
     "base_uri": "https://localhost:8080/"
    },
    "executionInfo": {
     "elapsed": 19891,
     "status": "ok",
     "timestamp": 1620876220207,
     "user": {
      "displayName": "Trực Nguyễn",
      "photoUrl": "https://lh3.googleusercontent.com/a-/AOh14GjUPsjUbu0f_lzSAntKKiOnFaebaoIUcQjmJuSHgA=s64",
      "userId": "05506473588895822423"
     },
     "user_tz": -420
    },
    "id": "2gxXwNHdnyr8",
    "outputId": "f25b066a-96c2-46a9-8cdd-fbb49225bb78"
   },
   "outputs": [
    {
     "name": "stdout",
     "output_type": "stream",
     "text": [
      "x shape:  (702, 11) - y shape:  (702, 1) - weight shape:  (11, 1) train_size:  702\n",
      "x shape:  (702, 11) - y shape:  (702, 1) - weight shape:  (11, 1) train_size:  702\n",
      "x shape:  (702, 11) - y shape:  (702, 1) - weight shape:  (11, 1) train_size:  702\n",
      "x shape:  (702, 11) - y shape:  (702, 1) - weight shape:  (11, 1) train_size:  702\n",
      "x shape:  (702, 11) - y shape:  (702, 1) - weight shape:  (11, 1) train_size:  702\n",
      "x shape:  (702, 11) - y shape:  (702, 1) - weight shape:  (11, 1) train_size:  702\n",
      "x shape:  (702, 11) - y shape:  (702, 1) - weight shape:  (11, 1) train_size:  702\n",
      "x shape:  (702, 11) - y shape:  (702, 1) - weight shape:  (11, 1) train_size:  702\n",
      "x shape:  (702, 11) - y shape:  (702, 1) - weight shape:  (11, 1) train_size:  702\n",
      "x shape:  (702, 11) - y shape:  (702, 1) - weight shape:  (11, 1) train_size:  702\n",
      "x shape:  (702, 11) - y shape:  (702, 1) - weight shape:  (11, 1) train_size:  702\n",
      "x shape:  (702, 11) - y shape:  (702, 1) - weight shape:  (11, 1) train_size:  702\n",
      "x shape:  (702, 11) - y shape:  (702, 1) - weight shape:  (11, 1) train_size:  702\n",
      "x shape:  (702, 11) - y shape:  (702, 1) - weight shape:  (11, 1) train_size:  702\n",
      "x shape:  (702, 11) - y shape:  (702, 1) - weight shape:  (11, 1) train_size:  702\n",
      "x shape:  (702, 11) - y shape:  (702, 1) - weight shape:  (11, 1) train_size:  702\n"
     ]
    }
   ],
   "source": [
    "warnings.filterwarnings(\"ignore\")\n",
    "GDLR_model = GDLinearRegression(0.1,1000)\n",
    "GDLR_pipeline = make_pipeline(col_adderdropper,col_transform, StandardScaler(), GDLR_model)\n",
    "\n",
    "# Thử nghiệm với các giá trị khác nhau của các siêu tham số\n",
    "# và chọn ra các giá trị tốt nhất\n",
    "train_errs = []\n",
    "val_errs = []\n",
    "lrs = [0.001, 0.1,0.5, 1]\n",
    "steps=[10,50,100,1000]\n",
    "best_val_err = float('inf'); best_alpha = None; best_hidden_layer=None;\n",
    "for lr in lrs:\n",
    "    for step in steps:\n",
    "        GDLR_pipeline[3].lr=lr\n",
    "        GDLR_pipeline[3].step=step\n",
    "        GDLR_pipeline.fit(train_X, train_y)\n",
    "        train_errs.append(100 - compute_rr(train_y, GDLR_pipeline.predict(train_X), baseline_preds) * 100)\n",
    "        val_errs.append(100 - compute_rr(val_y, GDLR_pipeline.predict(val_X), baseline_preds) * 100)\n",
    "\n",
    "        if val_errs[-1] < best_val_err:\n",
    "            best_val_err = val_errs[-1]\n",
    "            best_lr = lr\n",
    "            best_step=step"
   ]
  },
  {
   "cell_type": "markdown",
   "metadata": {
    "id": "xIzssadgnyr8"
   },
   "source": [
    "- Tham số tốt nhất"
   ]
  },
  {
   "cell_type": "code",
   "execution_count": 52,
   "metadata": {
    "colab": {
     "base_uri": "https://localhost:8080/"
    },
    "executionInfo": {
     "elapsed": 19888,
     "status": "ok",
     "timestamp": 1620876220211,
     "user": {
      "displayName": "Trực Nguyễn",
      "photoUrl": "https://lh3.googleusercontent.com/a-/AOh14GjUPsjUbu0f_lzSAntKKiOnFaebaoIUcQjmJuSHgA=s64",
      "userId": "05506473588895822423"
     },
     "user_tz": -420
    },
    "id": "6yEt17bwnyr8",
    "outputId": "9b93c181-0849-4fde-cde6-6684313389fc",
    "scrolled": false
   },
   "outputs": [
    {
     "name": "stdout",
     "output_type": "stream",
     "text": [
      "best_lr :  0.1\n",
      "best_step :  1000\n"
     ]
    }
   ],
   "source": [
    "print(\"best_lr : \", best_lr)\n",
    "print(\"best_step : \" ,best_step)"
   ]
  },
  {
   "cell_type": "markdown",
   "metadata": {
    "id": "pVGl2L8Ynyr9"
   },
   "source": [
    "### b. Tạo pipeline và huấn luyện mô hình bằng tham số tốt nhất "
   ]
  },
  {
   "cell_type": "code",
   "execution_count": 53,
   "metadata": {
    "executionInfo": {
     "elapsed": 19879,
     "status": "ok",
     "timestamp": 1620876220213,
     "user": {
      "displayName": "Trực Nguyễn",
      "photoUrl": "https://lh3.googleusercontent.com/a-/AOh14GjUPsjUbu0f_lzSAntKKiOnFaebaoIUcQjmJuSHgA=s64",
      "userId": "05506473588895822423"
     },
     "user_tz": -420
    },
    "id": "0vkKlTvSnyr9"
   },
   "outputs": [],
   "source": [
    "warnings.filterwarnings(\"ignore\")\n",
    "GDLR_model_best = GDLinearRegression(best_lr, best_step)\n",
    "GDLR_pipeline = make_pipeline(col_adderdropper, col_transform, StandardScaler(), GDLR_model_best)"
   ]
  },
  {
   "cell_type": "code",
   "execution_count": 54,
   "metadata": {
    "colab": {
     "base_uri": "https://localhost:8080/"
    },
    "executionInfo": {
     "elapsed": 21890,
     "status": "ok",
     "timestamp": 1620876222233,
     "user": {
      "displayName": "Trực Nguyễn",
      "photoUrl": "https://lh3.googleusercontent.com/a-/AOh14GjUPsjUbu0f_lzSAntKKiOnFaebaoIUcQjmJuSHgA=s64",
      "userId": "05506473588895822423"
     },
     "user_tz": -420
    },
    "id": "1430eND-nyr9",
    "outputId": "c8e7175f-f3bb-4798-c44b-d37fd4d7e952",
    "scrolled": true
   },
   "outputs": [
    {
     "name": "stdout",
     "output_type": "stream",
     "text": [
      "x shape:  (1003, 11) - y shape:  (1003, 1) - weight shape:  (11, 1) train_size:  1003\n"
     ]
    },
    {
     "data": {
      "text/plain": [
       "Pipeline(memory=None,\n",
       "         steps=[('coladderdropper', ColAdderDropper()),\n",
       "                ('columntransformer',\n",
       "                 ColumnTransformer(n_jobs=None, remainder='passthrough',\n",
       "                                   sparse_threshold=0.3,\n",
       "                                   transformer_weights=None,\n",
       "                                   transformers=[('unorder_cate_cols',\n",
       "                                                  Pipeline(memory=None,\n",
       "                                                           steps=[('onehotencoder',\n",
       "                                                                   OneHotEncoder(categories='auto',\n",
       "                                                                                 drop=None,\n",
       "                                                                                 dtype=<class 'numpy.float64'>,\n",
       "                                                                                 handle_unknown='ignore',\n",
       "                                                                                 sparse=True))],\n",
       "                                                           verbose=False),\n",
       "                                                  ['sex', 'region'])],\n",
       "                                   verbose=False)),\n",
       "                ('standardscaler',\n",
       "                 StandardScaler(copy=True, with_mean=True, with_std=True)),\n",
       "                ('gdlinearregression',\n",
       "                 <__main__.GDLinearRegression object at 0x7f2325330490>)],\n",
       "         verbose=False)"
      ]
     },
     "execution_count": 54,
     "metadata": {
      "tags": []
     },
     "output_type": "execute_result"
    }
   ],
   "source": [
    "warnings.filterwarnings(\"ignore\")\n",
    "GDLR_train_X_df = train_X.append(val_X)\n",
    "GDLR_train_y_sr = train_y.append(val_y)\n",
    "GDLR_pipeline.fit(GDLR_train_X_df, GDLR_train_y_sr)"
   ]
  },
  {
   "cell_type": "markdown",
   "metadata": {
    "id": "HgJSge4znyr9"
   },
   "source": [
    "### c. So sánh giá trị dự đoán tập test so với thực tế "
   ]
  },
  {
   "cell_type": "code",
   "execution_count": 55,
   "metadata": {
    "colab": {
     "base_uri": "https://localhost:8080/",
     "height": 0
    },
    "executionInfo": {
     "elapsed": 21882,
     "status": "ok",
     "timestamp": 1620876222235,
     "user": {
      "displayName": "Trực Nguyễn",
      "photoUrl": "https://lh3.googleusercontent.com/a-/AOh14GjUPsjUbu0f_lzSAntKKiOnFaebaoIUcQjmJuSHgA=s64",
      "userId": "05506473588895822423"
     },
     "user_tz": -420
    },
    "id": "csKaWlBYnyr-",
    "outputId": "f1feb29d-604f-4b0e-9daa-7a6b65a7bb19",
    "scrolled": true
   },
   "outputs": [
    {
     "data": {
      "text/html": [
       "<div>\n",
       "<style scoped>\n",
       "    .dataframe tbody tr th:only-of-type {\n",
       "        vertical-align: middle;\n",
       "    }\n",
       "\n",
       "    .dataframe tbody tr th {\n",
       "        vertical-align: top;\n",
       "    }\n",
       "\n",
       "    .dataframe thead th {\n",
       "        text-align: right;\n",
       "    }\n",
       "</style>\n",
       "<table border=\"1\" class=\"dataframe\">\n",
       "  <thead>\n",
       "    <tr style=\"text-align: right;\">\n",
       "      <th></th>\n",
       "      <th>Predict</th>\n",
       "      <th>Actual</th>\n",
       "    </tr>\n",
       "  </thead>\n",
       "  <tbody>\n",
       "    <tr>\n",
       "      <th>0</th>\n",
       "      <td>8618.422692</td>\n",
       "      <td>9095.06825</td>\n",
       "    </tr>\n",
       "    <tr>\n",
       "      <th>1</th>\n",
       "      <td>7553.169400</td>\n",
       "      <td>5272.17580</td>\n",
       "    </tr>\n",
       "    <tr>\n",
       "      <th>2</th>\n",
       "      <td>37488.304316</td>\n",
       "      <td>29330.98315</td>\n",
       "    </tr>\n",
       "    <tr>\n",
       "      <th>3</th>\n",
       "      <td>8678.596154</td>\n",
       "      <td>9301.89355</td>\n",
       "    </tr>\n",
       "    <tr>\n",
       "      <th>4</th>\n",
       "      <td>27476.070898</td>\n",
       "      <td>33750.29180</td>\n",
       "    </tr>\n",
       "    <tr>\n",
       "      <th>...</th>\n",
       "      <td>...</td>\n",
       "      <td>...</td>\n",
       "    </tr>\n",
       "    <tr>\n",
       "      <th>330</th>\n",
       "      <td>13328.579079</td>\n",
       "      <td>13217.09450</td>\n",
       "    </tr>\n",
       "    <tr>\n",
       "      <th>331</th>\n",
       "      <td>15350.853922</td>\n",
       "      <td>11944.59435</td>\n",
       "    </tr>\n",
       "    <tr>\n",
       "      <th>332</th>\n",
       "      <td>7451.236129</td>\n",
       "      <td>14358.36437</td>\n",
       "    </tr>\n",
       "    <tr>\n",
       "      <th>333</th>\n",
       "      <td>26416.273275</td>\n",
       "      <td>32548.34050</td>\n",
       "    </tr>\n",
       "    <tr>\n",
       "      <th>334</th>\n",
       "      <td>9629.679343</td>\n",
       "      <td>5699.83750</td>\n",
       "    </tr>\n",
       "  </tbody>\n",
       "</table>\n",
       "<p>335 rows × 2 columns</p>\n",
       "</div>"
      ],
      "text/plain": [
       "          Predict       Actual\n",
       "0     8618.422692   9095.06825\n",
       "1     7553.169400   5272.17580\n",
       "2    37488.304316  29330.98315\n",
       "3     8678.596154   9301.89355\n",
       "4    27476.070898  33750.29180\n",
       "..            ...          ...\n",
       "330  13328.579079  13217.09450\n",
       "331  15350.853922  11944.59435\n",
       "332   7451.236129  14358.36437\n",
       "333  26416.273275  32548.34050\n",
       "334   9629.679343   5699.83750\n",
       "\n",
       "[335 rows x 2 columns]"
      ]
     },
     "execution_count": 55,
     "metadata": {
      "tags": []
     },
     "output_type": "execute_result"
    }
   ],
   "source": [
    "GDLR_predict=GDLR_pipeline.predict(X_df_test)\n",
    "GDLR_preds_df = pd.DataFrame(GDLR_predict).rename(columns={0: 'Predict'})\n",
    "GDLR_preds_df = GDLR_preds_df.assign(Actual = y_sr_test)\n",
    "GDLR_preds_df"
   ]
  },
  {
   "cell_type": "markdown",
   "metadata": {
    "id": "bUiLGga8nyr-"
   },
   "source": [
    "### d. Độ chính xác mô hình"
   ]
  },
  {
   "cell_type": "code",
   "execution_count": 56,
   "metadata": {
    "colab": {
     "base_uri": "https://localhost:8080/"
    },
    "executionInfo": {
     "elapsed": 21874,
     "status": "ok",
     "timestamp": 1620876222236,
     "user": {
      "displayName": "Trực Nguyễn",
      "photoUrl": "https://lh3.googleusercontent.com/a-/AOh14GjUPsjUbu0f_lzSAntKKiOnFaebaoIUcQjmJuSHgA=s64",
      "userId": "05506473588895822423"
     },
     "user_tz": -420
    },
    "id": "O4L9PWeOnyr-",
    "outputId": "343c604f-903a-4bb6-c945-297d2848e557",
    "scrolled": true
   },
   "outputs": [
    {
     "name": "stdout",
     "output_type": "stream",
     "text": [
      "Độ chính xác linear Regression với Gradient Decent:  76.39518336884825\n"
     ]
    }
   ],
   "source": [
    "GDLR_score=compute_rr(y_sr_test, GDLR_predict, baseline_preds) * 100\n",
    "print(\"Độ chính xác linear Regression với Gradient Decent: \",GDLR_score)"
   ]
  },
  {
   "cell_type": "markdown",
   "metadata": {
    "id": "CJ8lGRDHnyr-"
   },
   "source": [
    "# + MÔ HÌNH NÂNG CAO"
   ]
  },
  {
   "cell_type": "markdown",
   "metadata": {
    "id": "1tkuj39rnyr_"
   },
   "source": [
    "-  DO ĐÂY LÀ **BÀI TOÁN HỒI QUY** NÊN CÁC MÔ HÌNH MÁY HỌC ĐƯỢC XÉT:\n",
    "    - `RandomForestRegressor`\n",
    "    - `MLPRegressor`"
   ]
  },
  {
   "cell_type": "markdown",
   "metadata": {
    "id": "hKaH413Tnyr_"
   },
   "source": [
    "## 1. Mô hình `MLPRegressor`\n",
    "\n",
    "Ta sẽ sử dụng mô hình Neural Net để phân lớp. Bạn sẽ tạo ra một pipeline từ đầu đến cuối bao gồm: các bước tiền xử lý ở trên + Neural Net (với các siêu tham số  `activation='logistic', solver='lbfgs', random_state=0, max_iter=2500`).\n",
    "\n",
    "- Siêu tham số alpha với 5 giá trị khác nhau.\n",
    "- Tham số hidden_layer_sizes với 6 giá trị khác nhau.\n",
    "\n",
    "Tìm các giá trị best_alpha, best_hidden_layer."
   ]
  },
  {
   "cell_type": "code",
   "execution_count": 57,
   "metadata": {
    "colab": {
     "base_uri": "https://localhost:8080/",
     "height": 35
    },
    "executionInfo": {
     "elapsed": 167144,
     "status": "ok",
     "timestamp": 1620876367514,
     "user": {
      "displayName": "Trực Nguyễn",
      "photoUrl": "https://lh3.googleusercontent.com/a-/AOh14GjUPsjUbu0f_lzSAntKKiOnFaebaoIUcQjmJuSHgA=s64",
      "userId": "05506473588895822423"
     },
     "user_tz": -420
    },
    "id": "6o0ml7zfnyr_",
    "outputId": "0fa77cb2-41c8-48f0-ca8b-e8db446ba27c"
   },
   "outputs": [
    {
     "data": {
      "application/vnd.google.colaboratory.intrinsic+json": {
       "type": "string"
      },
      "text/plain": [
       "'Finish!'"
      ]
     },
     "execution_count": 57,
     "metadata": {
      "tags": []
     },
     "output_type": "execute_result"
    }
   ],
   "source": [
    "warnings.filterwarnings(\"ignore\")\n",
    "neural_net_model = MLPRegressor(activation='logistic', solver='lbfgs', random_state=0, max_iter=2500)\n",
    "MLP_pipeline = make_pipeline(col_adderdropper,col_transform, StandardScaler(), neural_net_model)\n",
    "\n",
    "# Thử nghiệm với các giá trị khác nhau của các siêu tham số\n",
    "# và chọn ra các giá trị tốt nhất\n",
    "train_errs = []\n",
    "val_errs = []\n",
    "alphas = [1, 10, 100]\n",
    "hidden_layer_sizes=[120,130,140]\n",
    "best_val_err = float('inf'); best_alpha = None; best_hidden_layer=None;\n",
    "for hidden_layer in hidden_layer_sizes:\n",
    "    for alpha in alphas:\n",
    "        MLP_pipeline.set_params(mlpregressor__alpha=alpha, mlpregressor__hidden_layer_sizes=hidden_layer)\n",
    "        MLP_pipeline.fit(train_X, train_y)\n",
    "        train_errs.append(100 - compute_rr(train_y, MLP_pipeline.predict(train_X), baseline_preds) * 100)\n",
    "        val_errs.append(100 - compute_rr(val_y,MLP_pipeline.predict(val_X), baseline_preds) * 100)\n",
    "\n",
    "        if val_errs[-1] < best_val_err:\n",
    "            best_val_err = val_errs[-1]\n",
    "            best_alpha = alpha\n",
    "            best_hidden_layer=hidden_layer\n",
    "            \n",
    "'Finish!'"
   ]
  },
  {
   "cell_type": "markdown",
   "metadata": {
    "id": "H_AMlpB1nyr_"
   },
   "source": [
    "### a. Trực quan hóa kết quả độ lỗi theo các tham số khác nhau trên tập train và tập validation"
   ]
  },
  {
   "cell_type": "code",
   "execution_count": 58,
   "metadata": {
    "colab": {
     "base_uri": "https://localhost:8080/",
     "height": 332
    },
    "executionInfo": {
     "elapsed": 167133,
     "status": "ok",
     "timestamp": 1620876367516,
     "user": {
      "displayName": "Trực Nguyễn",
      "photoUrl": "https://lh3.googleusercontent.com/a-/AOh14GjUPsjUbu0f_lzSAntKKiOnFaebaoIUcQjmJuSHgA=s64",
      "userId": "05506473588895822423"
     },
     "user_tz": -420
    },
    "id": "XHWJ-w3enysA",
    "outputId": "0931c8d9-51bc-487e-f10d-7b4332a542cc"
   },
   "outputs": [
    {
     "data": {
      "image/png": "[encoded data removed]",
      "text/plain": [
       "<Figure size 720x360 with 2 Axes>"
      ]
     },
     "metadata": {
      "needs_background": "light",
      "tags": []
     },
     "output_type": "display_data"
    }
   ],
   "source": [
    "\n",
    "train_errs_df = pd.DataFrame(data=np.array(train_errs).reshape(len(alphas), -1),\n",
    "                             index=alphas, columns=hidden_layer_sizes)\n",
    "val_errs_df = pd.DataFrame(data=np.array(val_errs).reshape(len(alphas), -1), \n",
    "                           index=alphas, columns=hidden_layer_sizes)\n",
    "min_err = min(min(train_errs), min(val_errs))\n",
    "max_err = max(max(train_errs), max(val_errs))\n",
    "plt.figure(figsize=(10, 5))\n",
    "plt.subplot(1, 2, 1)\n",
    "sns.heatmap(train_errs_df, vmin=min_err, vmax=max_err, square=True, annot=True, \n",
    "            cbar=False, fmt='.1f', cmap='Reds')\n",
    "plt.title('train errors'); plt.xlabel('hidden_layer_sizes'); plt.ylabel('alpha')\n",
    "plt.subplot(1, 2, 2)\n",
    "sns.heatmap(val_errs_df, vmin=min_err, vmax=max_err, square=True, annot=True, \n",
    "            cbar=False, fmt='.1f', cmap='Reds')\n",
    "plt.title('validation errors'); plt.xlabel('hidden_layer_sizes'); plt.ylabel('alpha');"
   ]
  },
  {
   "cell_type": "markdown",
   "metadata": {
    "id": "lJ4EwGRtnysA"
   },
   "source": [
    "### b. In các giá trị tốt nhất vừa tìm được"
   ]
  },
  {
   "cell_type": "code",
   "execution_count": 59,
   "metadata": {
    "colab": {
     "base_uri": "https://localhost:8080/"
    },
    "executionInfo": {
     "elapsed": 167122,
     "status": "ok",
     "timestamp": 1620876367517,
     "user": {
      "displayName": "Trực Nguyễn",
      "photoUrl": "https://lh3.googleusercontent.com/a-/AOh14GjUPsjUbu0f_lzSAntKKiOnFaebaoIUcQjmJuSHgA=s64",
      "userId": "05506473588895822423"
     },
     "user_tz": -420
    },
    "id": "izRf9cponysA",
    "outputId": "633fbbe1-258d-448a-f8ec-bf156ebfe4b3"
   },
   "outputs": [
    {
     "name": "stdout",
     "output_type": "stream",
     "text": [
      "best_val_err :  16.25746556466737\n",
      "best_alpha :  100\n",
      "best_hidden_layer 130\n"
     ]
    }
   ],
   "source": [
    "print(\"best_val_err : \", best_val_err)\n",
    "print(\"best_alpha : \" ,best_alpha)\n",
    "print(\"best_hidden_layer\",best_hidden_layer)"
   ]
  },
  {
   "cell_type": "markdown",
   "metadata": {
    "id": "DY6c5e-_nysB"
   },
   "source": [
    "- Qua mô hình MLPRegresor ta có độ lỗi trên tập validation nhỏ nhất là 15.88%"
   ]
  },
  {
   "cell_type": "markdown",
   "metadata": {
    "id": "nsQkPzswnysB"
   },
   "source": [
    "## 2. Mô hình `RandomforestRegressor`"
   ]
  },
  {
   "cell_type": "markdown",
   "metadata": {
    "id": "cMzYwEsAnysB"
   },
   "source": [
    "- Tham số: random_state=0\n",
    "- Siêu tham số max_depth với 5 giá trị khác nhau.\n",
    "- Tham số n_estimators với 5 giá trị khác nhau.\n",
    "\n",
    "Tìm các giá trị best_max_depth, best_n_estimators."
   ]
  },
  {
   "cell_type": "code",
   "execution_count": 60,
   "metadata": {
    "colab": {
     "base_uri": "https://localhost:8080/",
     "height": 35
    },
    "executionInfo": {
     "elapsed": 175230,
     "status": "ok",
     "timestamp": 1620876375638,
     "user": {
      "displayName": "Trực Nguyễn",
      "photoUrl": "https://lh3.googleusercontent.com/a-/AOh14GjUPsjUbu0f_lzSAntKKiOnFaebaoIUcQjmJuSHgA=s64",
      "userId": "05506473588895822423"
     },
     "user_tz": -420
    },
    "id": "TN2ecrw5nysB",
    "outputId": "88254b8a-01ea-4b43-9392-7dc9480527fd"
   },
   "outputs": [
    {
     "data": {
      "application/vnd.google.colaboratory.intrinsic+json": {
       "type": "string"
      },
      "text/plain": [
       "'Finish!'"
      ]
     },
     "execution_count": 60,
     "metadata": {
      "tags": []
     },
     "output_type": "execute_result"
    }
   ],
   "source": [
    "warnings.filterwarnings(\"ignore\")\n",
    "RandomForest_model = RandomForestRegressor(random_state=0)\n",
    "RFR_pipeline = make_pipeline(col_adderdropper, col_transform, StandardScaler(), RandomForest_model)\n",
    "\n",
    "# Thử nghiệm với các giá trị khác nhau của các siêu tham số\n",
    "# và chọn ra các giá trị tốt nhất\n",
    "train_errs = []\n",
    "val_errs = []\n",
    "max_depth = [16, 32, 64, 128, 256]\n",
    "n_estimators=[20,50,80,100,120,130]\n",
    "best_val_err = float('inf'); best_max_depth = None; best_n_estimators=None;\n",
    "for depth in max_depth:\n",
    "    for estimators in n_estimators:\n",
    "        RFR_pipeline.set_params(randomforestregressor__max_depth = depth, randomforestregressor__n_estimators = estimators)\n",
    "        RFR_pipeline.fit(train_X, train_y)\n",
    "        train_errs.append(100 - compute_rr(train_y, RFR_pipeline.predict(train_X), baseline_preds) * 100)\n",
    "        val_errs.append(100 - compute_rr(val_y, RFR_pipeline.predict(val_X), baseline_preds) * 100)\n",
    "\n",
    "        if val_errs[-1] < best_val_err:\n",
    "            best_val_err = val_errs[-1]\n",
    "            best_max_depth = depth\n",
    "            best_n_estimators = estimators\n",
    "            \n",
    "'Finish!'"
   ]
  },
  {
   "cell_type": "markdown",
   "metadata": {
    "id": "6T8txCVHnysC"
   },
   "source": [
    "### a. Trực quan hóa kết quả độ lỗi theo các tham số khác nhau trên tập train và tập validation"
   ]
  },
  {
   "cell_type": "code",
   "execution_count": 61,
   "metadata": {
    "colab": {
     "base_uri": "https://localhost:8080/",
     "height": 290
    },
    "executionInfo": {
     "elapsed": 175927,
     "status": "ok",
     "timestamp": 1620876376348,
     "user": {
      "displayName": "Trực Nguyễn",
      "photoUrl": "https://lh3.googleusercontent.com/a-/AOh14GjUPsjUbu0f_lzSAntKKiOnFaebaoIUcQjmJuSHgA=s64",
      "userId": "05506473588895822423"
     },
     "user_tz": -420
    },
    "id": "-tsh-dbhnysC",
    "outputId": "0b66223f-48d9-4362-cf7b-44657f4a6d44"
   },
   "outputs": [
    {
     "data": {
      "image/png": "[encoded data removed]",
      "text/plain": [
       "<Figure size 720x360 with 2 Axes>"
      ]
     },
     "metadata": {
      "needs_background": "light",
      "tags": []
     },
     "output_type": "display_data"
    }
   ],
   "source": [
    "train_errs_df = pd.DataFrame(data=np.array(train_errs).reshape(len(max_depth), -1),\n",
    "                             index=max_depth, columns=n_estimators)\n",
    "val_errs_df = pd.DataFrame(data=np.array(val_errs).reshape(len(max_depth), -1), \n",
    "                           index=max_depth, columns=n_estimators)\n",
    "min_err = min(min(train_errs), min(val_errs))\n",
    "max_err = max(max(train_errs), max(val_errs))\n",
    "plt.figure(figsize=(10, 5))\n",
    "plt.subplot(1, 2, 1)\n",
    "sns.heatmap(train_errs_df, vmin=min_err, vmax=max_err, square=True, annot=True, \n",
    "            cbar=False, fmt='.1f', cmap='Reds')\n",
    "plt.title('train errors'); plt.xlabel('n_estimators'); plt.ylabel('max_depth')\n",
    "plt.subplot(1, 2, 2)\n",
    "sns.heatmap(val_errs_df, vmin=min_err, vmax=max_err, square=True, annot=True, \n",
    "            cbar=False, fmt='.1f', cmap='Reds')\n",
    "plt.title('validation errors'); plt.xlabel('n_estimators'); plt.ylabel('max_depth');"
   ]
  },
  {
   "cell_type": "markdown",
   "metadata": {
    "id": "bxSCmxXlnysC"
   },
   "source": [
    "### b. In các giá trị tốt nhất vừa tìm được"
   ]
  },
  {
   "cell_type": "code",
   "execution_count": 68,
   "metadata": {
    "colab": {
     "base_uri": "https://localhost:8080/"
    },
    "executionInfo": {
     "elapsed": 1265,
     "status": "ok",
     "timestamp": 1620876417734,
     "user": {
      "displayName": "Trực Nguyễn",
      "photoUrl": "https://lh3.googleusercontent.com/a-/AOh14GjUPsjUbu0f_lzSAntKKiOnFaebaoIUcQjmJuSHgA=s64",
      "userId": "05506473588895822423"
     },
     "user_tz": -420
    },
    "id": "I1pgSJ7tnysC",
    "outputId": "d5db1db9-8d9f-4f2f-c2c4-cc5264ca88e9"
   },
   "outputs": [
    {
     "name": "stdout",
     "output_type": "stream",
     "text": [
      "best_val_err :  15.116219181481853\n",
      "best_depth :  32\n",
      "best_n_estimator 80\n"
     ]
    }
   ],
   "source": [
    "print(\"best_val_err : \", best_val_err)\n",
    "print(\"best_depth : \" ,best_max_depth)\n",
    "print(\"best_n_estimator\",best_n_estimators)"
   ]
  },
  {
   "cell_type": "markdown",
   "metadata": {
    "id": "mpbywTe4nysD"
   },
   "source": [
    "- Qua mô hình RandomForestRegressor ta có độ lỗi trên tập validation nhỏ nhất là 15.11%"
   ]
  },
  {
   "cell_type": "markdown",
   "metadata": {
    "id": "xOX31VfvnysD"
   },
   "source": [
    "# 3. Đánh giá độ lỗi và chọn mô hình phù hợp cho máy học nâng cao.\n"
   ]
  },
  {
   "cell_type": "markdown",
   "metadata": {
    "id": "Ey5xusaunysD"
   },
   "source": [
    "- Cả mô hình `RandomForestRegressor` và `MLPRegression` cho kết quả khả quan trên tập validation, tuy nhiên kết quả vẫn còn khá chủ quan vì việc lựa chọn các siêu tham số đều được làm bằng tay.\n",
    "- Cả 2 mô hình đều chạy khá ổn, tuy nhiên chọn mô hình `randomforestregression` vì kết quả độ lỗi có vẻ tốt hơn."
   ]
  },
  {
   "cell_type": "markdown",
   "metadata": {
    "id": "T9-vXIrwnysD"
   },
   "source": [
    "### a. Train lại bằng mô hình `RandomForestRegressor` với các siêu tham số tối ưu tìm được trên tập train + validation."
   ]
  },
  {
   "cell_type": "code",
   "execution_count": 63,
   "metadata": {
    "colab": {
     "base_uri": "https://localhost:8080/"
    },
    "executionInfo": {
     "elapsed": 175913,
     "status": "ok",
     "timestamp": 1620876376350,
     "user": {
      "displayName": "Trực Nguyễn",
      "photoUrl": "https://lh3.googleusercontent.com/a-/AOh14GjUPsjUbu0f_lzSAntKKiOnFaebaoIUcQjmJuSHgA=s64",
      "userId": "05506473588895822423"
     },
     "user_tz": -420
    },
    "id": "AZOsHCcXnysE",
    "outputId": "05f1a4d7-2ee5-45b3-cf69-0a02e6ee7b55"
   },
   "outputs": [
    {
     "data": {
      "text/plain": [
       "Pipeline(memory=None,\n",
       "         steps=[('coladderdropper', ColAdderDropper()),\n",
       "                ('columntransformer',\n",
       "                 ColumnTransformer(n_jobs=None, remainder='passthrough',\n",
       "                                   sparse_threshold=0.3,\n",
       "                                   transformer_weights=None,\n",
       "                                   transformers=[('unorder_cate_cols',\n",
       "                                                  Pipeline(memory=None,\n",
       "                                                           steps=[('onehotencoder',\n",
       "                                                                   OneHotEncoder(categories='auto',\n",
       "                                                                                 drop=None,\n",
       "                                                                                 dtype=<class 'numpy.float64'>,\n",
       "                                                                                 handle_unkno...\n",
       "                 RandomForestRegressor(bootstrap=True, ccp_alpha=0.0,\n",
       "                                       criterion='mse', max_depth=32,\n",
       "                                       max_features='auto', max_leaf_nodes=None,\n",
       "                                       max_samples=None,\n",
       "                                       min_impurity_decrease=0.0,\n",
       "                                       min_impurity_split=None,\n",
       "                                       min_samples_leaf=1, min_samples_split=2,\n",
       "                                       min_weight_fraction_leaf=0.0,\n",
       "                                       n_estimators=80, n_jobs=None,\n",
       "                                       oob_score=False, random_state=0,\n",
       "                                       verbose=0, warm_start=False))],\n",
       "         verbose=False)"
      ]
     },
     "execution_count": 63,
     "metadata": {
      "tags": []
     },
     "output_type": "execute_result"
    }
   ],
   "source": [
    "warnings.filterwarnings(\"ignore\")\n",
    "full_train_X_df = train_X.append(val_X)\n",
    "full_train_y_sr = train_y.append(val_y)\n",
    "\n",
    "RFR_pipeline.set_params(randomforestregressor__max_depth = best_max_depth, randomforestregressor__n_estimators = best_n_estimators)\n",
    "RFR_pipeline.fit(full_train_X_df, full_train_y_sr)"
   ]
  },
  {
   "cell_type": "markdown",
   "metadata": {
    "id": "r39gDGxQnysE"
   },
   "source": [
    "### b. So sánh kết quả predict với kết quả thực trên tập validation"
   ]
  },
  {
   "cell_type": "code",
   "execution_count": 64,
   "metadata": {
    "colab": {
     "base_uri": "https://localhost:8080/",
     "height": 0
    },
    "executionInfo": {
     "elapsed": 175908,
     "status": "ok",
     "timestamp": 1620876376351,
     "user": {
      "displayName": "Trực Nguyễn",
      "photoUrl": "https://lh3.googleusercontent.com/a-/AOh14GjUPsjUbu0f_lzSAntKKiOnFaebaoIUcQjmJuSHgA=s64",
      "userId": "05506473588895822423"
     },
     "user_tz": -420
    },
    "id": "k_ZFWqianysE",
    "outputId": "1d087b57-c482-4abd-d851-04d7b4e2dbbe"
   },
   "outputs": [
    {
     "data": {
      "text/html": [
       "<div>\n",
       "<style scoped>\n",
       "    .dataframe tbody tr th:only-of-type {\n",
       "        vertical-align: middle;\n",
       "    }\n",
       "\n",
       "    .dataframe tbody tr th {\n",
       "        vertical-align: top;\n",
       "    }\n",
       "\n",
       "    .dataframe thead th {\n",
       "        text-align: right;\n",
       "    }\n",
       "</style>\n",
       "<table border=\"1\" class=\"dataframe\">\n",
       "  <thead>\n",
       "    <tr style=\"text-align: right;\">\n",
       "      <th></th>\n",
       "      <th>Predict</th>\n",
       "      <th>Actual</th>\n",
       "    </tr>\n",
       "  </thead>\n",
       "  <tbody>\n",
       "    <tr>\n",
       "      <th>312</th>\n",
       "      <td>48544.07800</td>\n",
       "      <td>48549.17835</td>\n",
       "    </tr>\n",
       "    <tr>\n",
       "      <th>236</th>\n",
       "      <td>10794.53549</td>\n",
       "      <td>10825.25370</td>\n",
       "    </tr>\n",
       "    <tr>\n",
       "      <th>715</th>\n",
       "      <td>13128.77425</td>\n",
       "      <td>11729.67950</td>\n",
       "    </tr>\n",
       "    <tr>\n",
       "      <th>992</th>\n",
       "      <td>11929.61412</td>\n",
       "      <td>11073.17600</td>\n",
       "    </tr>\n",
       "    <tr>\n",
       "      <th>919</th>\n",
       "      <td>2164.53502</td>\n",
       "      <td>2196.47320</td>\n",
       "    </tr>\n",
       "    <tr>\n",
       "      <th>583</th>\n",
       "      <td>1528.17250</td>\n",
       "      <td>1137.01100</td>\n",
       "    </tr>\n",
       "    <tr>\n",
       "      <th>144</th>\n",
       "      <td>3827.63905</td>\n",
       "      <td>3756.62160</td>\n",
       "    </tr>\n",
       "    <tr>\n",
       "      <th>210</th>\n",
       "      <td>40507.87700</td>\n",
       "      <td>40273.64550</td>\n",
       "    </tr>\n",
       "    <tr>\n",
       "      <th>8</th>\n",
       "      <td>4797.98477</td>\n",
       "      <td>3906.12700</td>\n",
       "    </tr>\n",
       "    <tr>\n",
       "      <th>240</th>\n",
       "      <td>11898.01350</td>\n",
       "      <td>10338.93160</td>\n",
       "    </tr>\n",
       "    <tr>\n",
       "      <th>682</th>\n",
       "      <td>12923.15700</td>\n",
       "      <td>12646.20700</td>\n",
       "    </tr>\n",
       "    <tr>\n",
       "      <th>418</th>\n",
       "      <td>7626.78717</td>\n",
       "      <td>7445.91800</td>\n",
       "    </tr>\n",
       "    <tr>\n",
       "      <th>55</th>\n",
       "      <td>6615.71176</td>\n",
       "      <td>6082.40500</td>\n",
       "    </tr>\n",
       "    <tr>\n",
       "      <th>799</th>\n",
       "      <td>5624.86514</td>\n",
       "      <td>5125.21570</td>\n",
       "    </tr>\n",
       "    <tr>\n",
       "      <th>306</th>\n",
       "      <td>18354.80366</td>\n",
       "      <td>17904.52705</td>\n",
       "    </tr>\n",
       "  </tbody>\n",
       "</table>\n",
       "</div>"
      ],
      "text/plain": [
       "         Predict       Actual\n",
       "312  48544.07800  48549.17835\n",
       "236  10794.53549  10825.25370\n",
       "715  13128.77425  11729.67950\n",
       "992  11929.61412  11073.17600\n",
       "919   2164.53502   2196.47320\n",
       "583   1528.17250   1137.01100\n",
       "144   3827.63905   3756.62160\n",
       "210  40507.87700  40273.64550\n",
       "8     4797.98477   3906.12700\n",
       "240  11898.01350  10338.93160\n",
       "682  12923.15700  12646.20700\n",
       "418   7626.78717   7445.91800\n",
       "55    6615.71176   6082.40500\n",
       "799   5624.86514   5125.21570\n",
       "306  18354.80366  17904.52705"
      ]
     },
     "execution_count": 64,
     "metadata": {
      "tags": []
     },
     "output_type": "execute_result"
    }
   ],
   "source": [
    "RFR_preds = RFR_pipeline.predict(val_X).round(5)\n",
    "# So sánh kết quả predict với kết quả actual\n",
    "RFR_preds_df = pd.DataFrame(RFR_preds, index=val_y.index).rename(columns={0: 'Predict'})\n",
    "RFR_preds_df = RFR_preds_df.assign(Actual = val_y)\n",
    "RFR_preds_df.sample(15)"
   ]
  },
  {
   "cell_type": "markdown",
   "metadata": {
    "id": "PqoQuHv1nysE"
   },
   "source": [
    "### c. Tính độ chính xác trên tập test với mô hình `RandomForestRegressor`"
   ]
  },
  {
   "cell_type": "code",
   "execution_count": 65,
   "metadata": {
    "executionInfo": {
     "elapsed": 176663,
     "status": "ok",
     "timestamp": 1620876377111,
     "user": {
      "displayName": "Trực Nguyễn",
      "photoUrl": "https://lh3.googleusercontent.com/a-/AOh14GjUPsjUbu0f_lzSAntKKiOnFaebaoIUcQjmJuSHgA=s64",
      "userId": "05506473588895822423"
     },
     "user_tz": -420
    },
    "id": "hMZ9z2GCnysF"
   },
   "outputs": [],
   "source": [
    "test_df = pd.read_csv('/test.csv')\n",
    "y_sr_test = test_df[\"charges\"] # sr là viết tắt của series\n",
    "X_df_test = test_df.drop(\"charges\", axis=1)"
   ]
  },
  {
   "cell_type": "code",
   "execution_count": 66,
   "metadata": {
    "colab": {
     "base_uri": "https://localhost:8080/"
    },
    "executionInfo": {
     "elapsed": 176658,
     "status": "ok",
     "timestamp": 1620876377112,
     "user": {
      "displayName": "Trực Nguyễn",
      "photoUrl": "https://lh3.googleusercontent.com/a-/AOh14GjUPsjUbu0f_lzSAntKKiOnFaebaoIUcQjmJuSHgA=s64",
      "userId": "05506473588895822423"
     },
     "user_tz": -420
    },
    "id": "55JeZAj8nysF",
    "outputId": "e7cf5b2c-e210-467a-9023-49c8c83e5159",
    "scrolled": true
   },
   "outputs": [
    {
     "name": "stdout",
     "output_type": "stream",
     "text": [
      "Độ chính xác:  85.03163260852679\n"
     ]
    }
   ],
   "source": [
    "RFR_score=compute_rr(y_sr_test, RFR_pipeline.predict(X_df_test), baseline_preds) * 100\n",
    "print(\"Độ chính xác: \",RFR_score)\n"
   ]
  },
  {
   "cell_type": "markdown",
   "metadata": {
    "id": "Jb9z4Z__nysF"
   },
   "source": [
    "# V. Tổng kết"
   ]
  },
  {
   "cell_type": "markdown",
   "metadata": {
    "id": "uH77l3LanysF"
   },
   "source": [
    "## - Độ chính xác các mô hình trên tập test"
   ]
  },
  {
   "cell_type": "code",
   "execution_count": 67,
   "metadata": {
    "colab": {
     "base_uri": "https://localhost:8080/"
    },
    "executionInfo": {
     "elapsed": 176653,
     "status": "ok",
     "timestamp": 1620876377112,
     "user": {
      "displayName": "Trực Nguyễn",
      "photoUrl": "https://lh3.googleusercontent.com/a-/AOh14GjUPsjUbu0f_lzSAntKKiOnFaebaoIUcQjmJuSHgA=s64",
      "userId": "05506473588895822423"
     },
     "user_tz": -420
    },
    "id": "Wl4Ft3m6nysG",
    "outputId": "bb2a00f5-732f-409d-b4ab-4d075a1293d1"
   },
   "outputs": [
    {
     "name": "stdout",
     "output_type": "stream",
     "text": [
      "Độ chính xác\n",
      "Linear regression:                          76.45592517072784\n",
      "Linear regression sử dụng Gradient Decent:  76.39518336884825\n",
      "RandomForestRegressor:                      85.03163260852679\n"
     ]
    }
   ],
   "source": [
    "print(\"Độ chính xác\")\n",
    "print(\"Linear regression:                         \",linear_score)\n",
    "print(\"Linear regression sử dụng Gradient Decent: \",GDLR_score)\n",
    "print(\"RandomForestRegressor:                     \",RFR_score)"
   ]
  },
  {
   "cell_type": "markdown",
   "metadata": {
    "id": "pLxNKsjZnysG"
   },
   "source": [
    "#### Kết luận: Vậy qua các mô hình trên, ta tìm được mô hình tốt nhất cho việc huấn luyện cũng như dự đoán. Với mô hình `RandomForestRegressor` cho ra dự đoán với độ chính xác lên đến 85% (khá cao)."
   ]
  }
 ],
 "metadata": {
  "colab": {
   "collapsed_sections": [
    "T3VbjYoanyre",
    "c0UkA2F1nyri",
    "T2cQXVfJnyri",
    "z1W5zIalnyrk",
    "cNNBy2Wznyrm",
    "VwgYqujanyrn",
    "d6906usFnyrp",
    "XuJ9GkN9nyrr",
    "WxkAlycenyru",
    "ITsksjRDnyrw",
    "OMEdHv6jnyrw",
    "N0k6F5h5nyrx",
    "65eNI4e4nyrz",
    "Hs6IkwaMnyrz",
    "cvwHjY8xnyr0",
    "rPtapZrDnyr2",
    "fKrvX2wonyr2",
    "a_TnN4qWnyr3",
    "NBcXV94Rnyr4",
    "MLKfqW_8nyr4",
    "a9hPknmjnyr4",
    "B-Mo5tZonyr5",
    "utYIEwJrnyr6",
    "Nc6FSiycnyr7",
    "KbdKL-CTnyr8",
    "pVGl2L8Ynyr9",
    "HgJSge4znyr9",
    "bUiLGga8nyr-",
    "T9-vXIrwnysD",
    "r39gDGxQnysE",
    "pLxNKsjZnysG"
   ],
   "name": "submit_file.ipynb",
   "provenance": [],
   "toc_visible": true
  },
  "kernelspec": {
   "display_name": "Python 3",
   "language": "python",
   "name": "python3"
  },
  "language_info": {
   "codemirror_mode": {
    "name": "ipython",
    "version": 3
   },
   "file_extension": ".py",
   "mimetype": "text/x-python",
   "name": "python",
   "nbconvert_exporter": "python",
   "pygments_lexer": "ipython3",
   "version": "3.8.8"
  }
 },
 "nbformat": 4,
 "nbformat_minor": 1
}
