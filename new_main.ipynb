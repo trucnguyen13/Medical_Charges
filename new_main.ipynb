{
 "cells": [
  {
   "cell_type": "markdown",
   "metadata": {},
   "source": [
    "# Import thư viện"
   ]
  },
  {
   "cell_type": "code",
   "execution_count": 1,
   "metadata": {},
   "outputs": [],
   "source": [
    "%matplotlib inline\n",
    "import warnings\n",
    "import matplotlib.pyplot as plt\n",
    "import seaborn as sns # seaborn là thư viện được xây trên matplotlib, giúp việc visualization đỡ khổ hơn\n",
    "import pandas as pd\n",
    "import numpy as np\n",
    "\n",
    "from sklearn.model_selection import train_test_split\n",
    "from sklearn.model_selection import GridSearchCV\n",
    "from sklearn.preprocessing import OneHotEncoder, StandardScaler\n",
    "from sklearn.impute import SimpleImputer\n",
    "from sklearn.base import BaseEstimator, TransformerMixin\n",
    "from sklearn.pipeline import Pipeline, make_pipeline\n",
    "from sklearn.compose import ColumnTransformer, make_column_transformer\n",
    "\n",
    "from sklearn import set_config\n",
    "from mpl_toolkits.mplot3d import Axes3D\n",
    "\n",
    "from sklearn.linear_model import LinearRegression\n",
    "from sklearn.neural_network import MLPRegressor\n",
    "from sklearn.ensemble import RandomForestRegressor\n",
    "set_config(display='diagram') # Để trực quan hóa pipeline\n",
    "warnings.filterwarnings('ignore')\n"
   ]
  },
  {
   "cell_type": "markdown",
   "metadata": {},
   "source": [
    "# I. Xử lý dữ liệu đầu vô"
   ]
  },
  {
   "cell_type": "markdown",
   "metadata": {},
   "source": [
    "## 1. Đọc dữ liệu"
   ]
  },
  {
   "cell_type": "code",
   "execution_count": 2,
   "metadata": {},
   "outputs": [
    {
     "data": {
      "text/html": [
       "<div>\n",
       "<style scoped>\n",
       "    .dataframe tbody tr th:only-of-type {\n",
       "        vertical-align: middle;\n",
       "    }\n",
       "\n",
       "    .dataframe tbody tr th {\n",
       "        vertical-align: top;\n",
       "    }\n",
       "\n",
       "    .dataframe thead th {\n",
       "        text-align: right;\n",
       "    }\n",
       "</style>\n",
       "<table border=\"1\" class=\"dataframe\">\n",
       "  <thead>\n",
       "    <tr style=\"text-align: right;\">\n",
       "      <th></th>\n",
       "      <th>age</th>\n",
       "      <th>sex</th>\n",
       "      <th>bmi</th>\n",
       "      <th>children</th>\n",
       "      <th>smoker</th>\n",
       "      <th>region</th>\n",
       "      <th>charges</th>\n",
       "    </tr>\n",
       "  </thead>\n",
       "  <tbody>\n",
       "    <tr>\n",
       "      <th>0</th>\n",
       "      <td>24</td>\n",
       "      <td>male</td>\n",
       "      <td>23.655</td>\n",
       "      <td>0</td>\n",
       "      <td>no</td>\n",
       "      <td>northwest</td>\n",
       "      <td>2352.96845</td>\n",
       "    </tr>\n",
       "    <tr>\n",
       "      <th>1</th>\n",
       "      <td>28</td>\n",
       "      <td>female</td>\n",
       "      <td>26.510</td>\n",
       "      <td>2</td>\n",
       "      <td>no</td>\n",
       "      <td>southeast</td>\n",
       "      <td>4340.44090</td>\n",
       "    </tr>\n",
       "    <tr>\n",
       "      <th>2</th>\n",
       "      <td>51</td>\n",
       "      <td>male</td>\n",
       "      <td>39.700</td>\n",
       "      <td>1</td>\n",
       "      <td>no</td>\n",
       "      <td>southwest</td>\n",
       "      <td>9391.34600</td>\n",
       "    </tr>\n",
       "    <tr>\n",
       "      <th>3</th>\n",
       "      <td>47</td>\n",
       "      <td>male</td>\n",
       "      <td>36.080</td>\n",
       "      <td>1</td>\n",
       "      <td>yes</td>\n",
       "      <td>southeast</td>\n",
       "      <td>42211.13820</td>\n",
       "    </tr>\n",
       "    <tr>\n",
       "      <th>4</th>\n",
       "      <td>46</td>\n",
       "      <td>female</td>\n",
       "      <td>28.900</td>\n",
       "      <td>2</td>\n",
       "      <td>no</td>\n",
       "      <td>southwest</td>\n",
       "      <td>8823.27900</td>\n",
       "    </tr>\n",
       "    <tr>\n",
       "      <th>5</th>\n",
       "      <td>63</td>\n",
       "      <td>female</td>\n",
       "      <td>26.220</td>\n",
       "      <td>0</td>\n",
       "      <td>no</td>\n",
       "      <td>northwest</td>\n",
       "      <td>14256.19280</td>\n",
       "    </tr>\n",
       "    <tr>\n",
       "      <th>6</th>\n",
       "      <td>38</td>\n",
       "      <td>female</td>\n",
       "      <td>19.950</td>\n",
       "      <td>2</td>\n",
       "      <td>no</td>\n",
       "      <td>northeast</td>\n",
       "      <td>7133.90250</td>\n",
       "    </tr>\n",
       "    <tr>\n",
       "      <th>7</th>\n",
       "      <td>28</td>\n",
       "      <td>female</td>\n",
       "      <td>26.315</td>\n",
       "      <td>3</td>\n",
       "      <td>no</td>\n",
       "      <td>northwest</td>\n",
       "      <td>5312.16985</td>\n",
       "    </tr>\n",
       "    <tr>\n",
       "      <th>8</th>\n",
       "      <td>25</td>\n",
       "      <td>male</td>\n",
       "      <td>26.800</td>\n",
       "      <td>3</td>\n",
       "      <td>no</td>\n",
       "      <td>southwest</td>\n",
       "      <td>3906.12700</td>\n",
       "    </tr>\n",
       "    <tr>\n",
       "      <th>9</th>\n",
       "      <td>18</td>\n",
       "      <td>female</td>\n",
       "      <td>30.115</td>\n",
       "      <td>0</td>\n",
       "      <td>no</td>\n",
       "      <td>northeast</td>\n",
       "      <td>2203.47185</td>\n",
       "    </tr>\n",
       "  </tbody>\n",
       "</table>\n",
       "</div>"
      ],
      "text/plain": [
       "   age     sex     bmi  children smoker     region      charges\n",
       "0   24    male  23.655         0     no  northwest   2352.96845\n",
       "1   28  female  26.510         2     no  southeast   4340.44090\n",
       "2   51    male  39.700         1     no  southwest   9391.34600\n",
       "3   47    male  36.080         1    yes  southeast  42211.13820\n",
       "4   46  female  28.900         2     no  southwest   8823.27900\n",
       "5   63  female  26.220         0     no  northwest  14256.19280\n",
       "6   38  female  19.950         2     no  northeast   7133.90250\n",
       "7   28  female  26.315         3     no  northwest   5312.16985\n",
       "8   25    male  26.800         3     no  southwest   3906.12700\n",
       "9   18  female  30.115         0     no  northeast   2203.47185"
      ]
     },
     "execution_count": 2,
     "metadata": {},
     "output_type": "execute_result"
    }
   ],
   "source": [
    "data_df = pd.read_csv('train.csv')\n",
    "data_df.head(10)"
   ]
  },
  {
   "cell_type": "markdown",
   "metadata": {},
   "source": [
    "## 2. Khám phá dữ liệu"
   ]
  },
  {
   "cell_type": "markdown",
   "metadata": {},
   "source": [
    "### Kiểu dữ liệu của các thuộc tính"
   ]
  },
  {
   "cell_type": "code",
   "execution_count": 3,
   "metadata": {},
   "outputs": [
    {
     "data": {
      "text/plain": [
       "age           int64\n",
       "sex          object\n",
       "bmi         float64\n",
       "children      int64\n",
       "smoker       object\n",
       "region       object\n",
       "charges     float64\n",
       "dtype: object"
      ]
     },
     "execution_count": 3,
     "metadata": {},
     "output_type": "execute_result"
    }
   ],
   "source": [
    "data_df.dtypes"
   ]
  },
  {
   "cell_type": "markdown",
   "metadata": {},
   "source": [
    "### Dữ liệu có bị thiếu hay không "
   ]
  },
  {
   "cell_type": "code",
   "execution_count": 57,
   "metadata": {
    "scrolled": true
   },
   "outputs": [
    {
     "data": {
      "text/plain": [
       "age         0\n",
       "sex         0\n",
       "bmi         0\n",
       "children    0\n",
       "smoker      0\n",
       "region      0\n",
       "charges     0\n",
       "dtype: int64"
      ]
     },
     "execution_count": 57,
     "metadata": {},
     "output_type": "execute_result"
    }
   ],
   "source": [
    "data_df.isna().sum()"
   ]
  },
  {
   "cell_type": "markdown",
   "metadata": {},
   "source": [
    "### Thống kê các thuộc tính số"
   ]
  },
  {
   "cell_type": "code",
   "execution_count": 58,
   "metadata": {},
   "outputs": [
    {
     "data": {
      "text/html": [
       "<div>\n",
       "<style scoped>\n",
       "    .dataframe tbody tr th:only-of-type {\n",
       "        vertical-align: middle;\n",
       "    }\n",
       "\n",
       "    .dataframe tbody tr th {\n",
       "        vertical-align: top;\n",
       "    }\n",
       "\n",
       "    .dataframe thead th {\n",
       "        text-align: right;\n",
       "    }\n",
       "</style>\n",
       "<table border=\"1\" class=\"dataframe\">\n",
       "  <thead>\n",
       "    <tr style=\"text-align: right;\">\n",
       "      <th></th>\n",
       "      <th>age</th>\n",
       "      <th>bmi</th>\n",
       "      <th>children</th>\n",
       "      <th>charges</th>\n",
       "    </tr>\n",
       "  </thead>\n",
       "  <tbody>\n",
       "    <tr>\n",
       "      <th>count</th>\n",
       "      <td>1003.000000</td>\n",
       "      <td>1003.000000</td>\n",
       "      <td>1003.000000</td>\n",
       "      <td>1003.000000</td>\n",
       "    </tr>\n",
       "    <tr>\n",
       "      <th>mean</th>\n",
       "      <td>39.255234</td>\n",
       "      <td>30.511780</td>\n",
       "      <td>1.104686</td>\n",
       "      <td>13267.935817</td>\n",
       "    </tr>\n",
       "    <tr>\n",
       "      <th>std</th>\n",
       "      <td>14.039105</td>\n",
       "      <td>6.013107</td>\n",
       "      <td>1.204619</td>\n",
       "      <td>12051.356547</td>\n",
       "    </tr>\n",
       "    <tr>\n",
       "      <th>min</th>\n",
       "      <td>18.000000</td>\n",
       "      <td>15.960000</td>\n",
       "      <td>0.000000</td>\n",
       "      <td>1121.873900</td>\n",
       "    </tr>\n",
       "    <tr>\n",
       "      <th>25%</th>\n",
       "      <td>27.000000</td>\n",
       "      <td>26.210000</td>\n",
       "      <td>0.000000</td>\n",
       "      <td>4780.839400</td>\n",
       "    </tr>\n",
       "    <tr>\n",
       "      <th>50%</th>\n",
       "      <td>39.000000</td>\n",
       "      <td>30.200000</td>\n",
       "      <td>1.000000</td>\n",
       "      <td>9447.382400</td>\n",
       "    </tr>\n",
       "    <tr>\n",
       "      <th>75%</th>\n",
       "      <td>51.000000</td>\n",
       "      <td>34.430000</td>\n",
       "      <td>2.000000</td>\n",
       "      <td>16840.667970</td>\n",
       "    </tr>\n",
       "    <tr>\n",
       "      <th>max</th>\n",
       "      <td>64.000000</td>\n",
       "      <td>53.130000</td>\n",
       "      <td>5.000000</td>\n",
       "      <td>62592.873090</td>\n",
       "    </tr>\n",
       "  </tbody>\n",
       "</table>\n",
       "</div>"
      ],
      "text/plain": [
       "               age          bmi     children       charges\n",
       "count  1003.000000  1003.000000  1003.000000   1003.000000\n",
       "mean     39.255234    30.511780     1.104686  13267.935817\n",
       "std      14.039105     6.013107     1.204619  12051.356547\n",
       "min      18.000000    15.960000     0.000000   1121.873900\n",
       "25%      27.000000    26.210000     0.000000   4780.839400\n",
       "50%      39.000000    30.200000     1.000000   9447.382400\n",
       "75%      51.000000    34.430000     2.000000  16840.667970\n",
       "max      64.000000    53.130000     5.000000  62592.873090"
      ]
     },
     "execution_count": 58,
     "metadata": {},
     "output_type": "execute_result"
    }
   ],
   "source": [
    "data_df.describe()"
   ]
  },
  {
   "cell_type": "markdown",
   "metadata": {},
   "source": [
    "# II. Trực quan dữ liệu và trình bày các thông tin hữu ích (insights) "
   ]
  },
  {
   "cell_type": "markdown",
   "metadata": {},
   "source": [
    "### Heatmap thể hiện sự tương quan giữa các thuộc tính"
   ]
  },
  {
   "cell_type": "code",
   "execution_count": 60,
   "metadata": {
    "scrolled": true
   },
   "outputs": [
    {
     "data": {
      "image/png": "[encoded data removed]",
      "text/plain": [
       "<Figure size 432x288 with 2 Axes>"
      ]
     },
     "metadata": {
      "needs_background": "light"
     },
     "output_type": "display_data"
    }
   ],
   "source": [
    "corr = data_df.copy()\n",
    "corr.replace(['female','male'],[0,1],inplace=True)\n",
    "corr.replace(['no','yes'],[0,1],inplace=True)\n",
    "corr.replace(['0','1','2','3','4','5'],[0,1,2,3,4,5],inplace=True)\n",
    "corr.replace(['southeast','northeast','southwest','northwest'],[0,1,2,3],inplace=True)\n",
    "\n",
    "sns.heatmap(corr.corr(), annot=True, cbar=True, cmap='YlGnBu')\n",
    "plt.show()"
   ]
  },
  {
   "cell_type": "markdown",
   "metadata": {},
   "source": [
    "- **Ta thấy những màu xanh đậm hơn thể hiện sự tương quan mạnh hơn giữa các thuộc tính**"
   ]
  },
  {
   "cell_type": "code",
   "execution_count": 4,
   "metadata": {},
   "outputs": [
    {
     "data": {
      "text/plain": [
       "<AxesSubplot:>"
      ]
     },
     "execution_count": 4,
     "metadata": {},
     "output_type": "execute_result"
    },
    {
     "data": {
      "image/png": "[encoded data removed]",
      "text/plain": [
       "<Figure size 432x288 with 1 Axes>"
      ]
     },
     "metadata": {
      "needs_background": "light"
     },
     "output_type": "display_data"
    }
   ],
   "source": [
    "data_df['age'].value_counts().sort_index().plot.bar()"
   ]
  },
  {
   "cell_type": "code",
   "execution_count": 5,
   "metadata": {},
   "outputs": [
    {
     "data": {
      "text/plain": [
       "<AxesSubplot:>"
      ]
     },
     "execution_count": 5,
     "metadata": {},
     "output_type": "execute_result"
    },
    {
     "data": {
      "image/png": "[encoded data removed]",
      "text/plain": [
       "<Figure size 432x288 with 1 Axes>"
      ]
     },
     "metadata": {
      "needs_background": "light"
     },
     "output_type": "display_data"
    }
   ],
   "source": [
    "data_df['sex'].value_counts().sort_index().plot.bar()"
   ]
  },
  {
   "cell_type": "code",
   "execution_count": 6,
   "metadata": {},
   "outputs": [
    {
     "data": {
      "text/plain": [
       "<AxesSubplot:>"
      ]
     },
     "execution_count": 6,
     "metadata": {},
     "output_type": "execute_result"
    },
    {
     "data": {
      "image/png": "[encoded data removed]",
      "text/plain": [
       "<Figure size 432x288 with 1 Axes>"
      ]
     },
     "metadata": {
      "needs_background": "light"
     },
     "output_type": "display_data"
    }
   ],
   "source": [
    "data_df['children'].value_counts().sort_index().plot.bar()"
   ]
  },
  {
   "cell_type": "code",
   "execution_count": 7,
   "metadata": {},
   "outputs": [
    {
     "data": {
      "text/plain": [
       "<AxesSubplot:>"
      ]
     },
     "execution_count": 7,
     "metadata": {},
     "output_type": "execute_result"
    },
    {
     "data": {
      "image/png": "[encoded data removed]",
      "text/plain": [
       "<Figure size 432x288 with 1 Axes>"
      ]
     },
     "metadata": {
      "needs_background": "light"
     },
     "output_type": "display_data"
    }
   ],
   "source": [
    "data_df['smoker'].value_counts().sort_index().plot.bar()"
   ]
  },
  {
   "cell_type": "code",
   "execution_count": 8,
   "metadata": {},
   "outputs": [
    {
     "data": {
      "text/plain": [
       "<AxesSubplot:>"
      ]
     },
     "execution_count": 8,
     "metadata": {},
     "output_type": "execute_result"
    },
    {
     "data": {
      "image/png": "[encoded data removed]",
      "text/plain": [
       "<Figure size 432x288 with 1 Axes>"
      ]
     },
     "metadata": {
      "needs_background": "light"
     },
     "output_type": "display_data"
    }
   ],
   "source": [
    "data_df['region'].value_counts().sort_index().plot.bar()"
   ]
  },
  {
   "cell_type": "code",
   "execution_count": 9,
   "metadata": {},
   "outputs": [
    {
     "data": {
      "text/html": [
       "<div>\n",
       "<style scoped>\n",
       "    .dataframe tbody tr th:only-of-type {\n",
       "        vertical-align: middle;\n",
       "    }\n",
       "\n",
       "    .dataframe tbody tr th {\n",
       "        vertical-align: top;\n",
       "    }\n",
       "\n",
       "    .dataframe thead th {\n",
       "        text-align: right;\n",
       "    }\n",
       "</style>\n",
       "<table border=\"1\" class=\"dataframe\">\n",
       "  <thead>\n",
       "    <tr style=\"text-align: right;\">\n",
       "      <th></th>\n",
       "      <th>age</th>\n",
       "      <th>bmi</th>\n",
       "      <th>children</th>\n",
       "      <th>charges</th>\n",
       "    </tr>\n",
       "  </thead>\n",
       "  <tbody>\n",
       "    <tr>\n",
       "      <th>count</th>\n",
       "      <td>1003.000000</td>\n",
       "      <td>1003.000000</td>\n",
       "      <td>1003.000000</td>\n",
       "      <td>1003.000000</td>\n",
       "    </tr>\n",
       "    <tr>\n",
       "      <th>mean</th>\n",
       "      <td>39.255234</td>\n",
       "      <td>30.511780</td>\n",
       "      <td>1.104686</td>\n",
       "      <td>13267.935817</td>\n",
       "    </tr>\n",
       "    <tr>\n",
       "      <th>std</th>\n",
       "      <td>14.039105</td>\n",
       "      <td>6.013107</td>\n",
       "      <td>1.204619</td>\n",
       "      <td>12051.356547</td>\n",
       "    </tr>\n",
       "    <tr>\n",
       "      <th>min</th>\n",
       "      <td>18.000000</td>\n",
       "      <td>15.960000</td>\n",
       "      <td>0.000000</td>\n",
       "      <td>1121.873900</td>\n",
       "    </tr>\n",
       "    <tr>\n",
       "      <th>25%</th>\n",
       "      <td>27.000000</td>\n",
       "      <td>26.210000</td>\n",
       "      <td>0.000000</td>\n",
       "      <td>4780.839400</td>\n",
       "    </tr>\n",
       "    <tr>\n",
       "      <th>50%</th>\n",
       "      <td>39.000000</td>\n",
       "      <td>30.200000</td>\n",
       "      <td>1.000000</td>\n",
       "      <td>9447.382400</td>\n",
       "    </tr>\n",
       "    <tr>\n",
       "      <th>75%</th>\n",
       "      <td>51.000000</td>\n",
       "      <td>34.430000</td>\n",
       "      <td>2.000000</td>\n",
       "      <td>16840.667970</td>\n",
       "    </tr>\n",
       "    <tr>\n",
       "      <th>max</th>\n",
       "      <td>64.000000</td>\n",
       "      <td>53.130000</td>\n",
       "      <td>5.000000</td>\n",
       "      <td>62592.873090</td>\n",
       "    </tr>\n",
       "  </tbody>\n",
       "</table>\n",
       "</div>"
      ],
      "text/plain": [
       "               age          bmi     children       charges\n",
       "count  1003.000000  1003.000000  1003.000000   1003.000000\n",
       "mean     39.255234    30.511780     1.104686  13267.935817\n",
       "std      14.039105     6.013107     1.204619  12051.356547\n",
       "min      18.000000    15.960000     0.000000   1121.873900\n",
       "25%      27.000000    26.210000     0.000000   4780.839400\n",
       "50%      39.000000    30.200000     1.000000   9447.382400\n",
       "75%      51.000000    34.430000     2.000000  16840.667970\n",
       "max      64.000000    53.130000     5.000000  62592.873090"
      ]
     },
     "execution_count": 9,
     "metadata": {},
     "output_type": "execute_result"
    }
   ],
   "source": [
    "data_df.describe()"
   ]
  },
  {
   "cell_type": "code",
   "execution_count": 10,
   "metadata": {},
   "outputs": [
    {
     "data": {
      "text/plain": [
       "age         0\n",
       "sex         0\n",
       "bmi         0\n",
       "children    0\n",
       "smoker      0\n",
       "region      0\n",
       "charges     0\n",
       "dtype: int64"
      ]
     },
     "execution_count": 10,
     "metadata": {},
     "output_type": "execute_result"
    }
   ],
   "source": [
    "data_df.isna().sum()   #missing"
   ]
  },
  {
   "cell_type": "markdown",
   "metadata": {},
   "source": [
    "- Vùng miền nào có chi phí nhiều nhất và vùng nào có chi phí từng người cao nhất."
   ]
  },
  {
   "cell_type": "code",
   "execution_count": 11,
   "metadata": {},
   "outputs": [
    {
     "data": {
      "text/plain": [
       "region\n",
       "northwest    3.108129e+06\n",
       "southwest    3.124289e+06\n",
       "northeast    3.358865e+06\n",
       "southeast    3.716457e+06\n",
       "Name: charges, dtype: float64"
      ]
     },
     "execution_count": 11,
     "metadata": {},
     "output_type": "execute_result"
    }
   ],
   "source": [
    "data_df.groupby('region')['charges'].sum().sort_values()"
   ]
  },
  {
   "cell_type": "code",
   "execution_count": 12,
   "metadata": {},
   "outputs": [
    {
     "data": {
      "text/plain": [
       "<AxesSubplot:ylabel='region'>"
      ]
     },
     "execution_count": 12,
     "metadata": {},
     "output_type": "execute_result"
    },
    {
     "data": {
      "image/png": "[encoded data removed]",
      "text/plain": [
       "<Figure size 432x288 with 1 Axes>"
      ]
     },
     "metadata": {
      "needs_background": "light"
     },
     "output_type": "display_data"
    }
   ],
   "source": [
    "data_df.groupby('region')['charges'].mean().sort_values().plot.barh()"
   ]
  },
  {
   "cell_type": "markdown",
   "metadata": {},
   "source": [
    "## Đầu tiên ta hãy quan sát sự phân bố của charges như thế nào?"
   ]
  },
  {
   "cell_type": "code",
   "execution_count": 62,
   "metadata": {},
   "outputs": [
    {
     "data": {
      "image/png": "[encoded data removed]",
      "text/plain": [
       "<Figure size 432x288 with 1 Axes>"
      ]
     },
     "metadata": {
      "needs_background": "light"
     },
     "output_type": "display_data"
    }
   ],
   "source": [
    "data_df.charges.plot(kind='hist')\n",
    "plt.xlabel('Amount in $')\n",
    "plt.legend()\n",
    "plt.show()"
   ]
  },
  {
   "cell_type": "markdown",
   "metadata": {},
   "source": [
    "- **Từ đồ thị ta có thể nhận thấy phần lớn chi phí y tế rơi vào khoảng 1000 - 13500 dollar**"
   ]
  },
  {
   "cell_type": "markdown",
   "metadata": {},
   "source": [
    "### Age có ảnh hưởng như thế nào đến sự phân phối của Charges?"
   ]
  },
  {
   "cell_type": "markdown",
   "metadata": {},
   "source": [
    "- Min(age) = 18\n",
    "- Max(age) = 64\n",
    "- Dự đoán: ở độ tuổi 18 đang là độ tuổi phát triển và khỏe mạnh nhất thế chi phí y tế bỏ ra cũng có thể ít.\n",
    "- Ta sẽ xem xét sự phân phối của **Charges** với **age = 18** và **age > 18** sẽ như thế nào?"
   ]
  },
  {
   "cell_type": "code",
   "execution_count": null,
   "metadata": {},
   "outputs": [],
   "source": [
    "fig = plt.figure(figsize=(20,10))\n",
    "ax = fig.add_subplot(121)\n",
    "ax = sns.distplot(data_df['charges'][data_df['age'] == 18])\n",
    "plt.title('Age == 18')\n",
    "plt.xticks(np.arange(0,50000,10000))\n",
    "plt.xlabel('Cost')\n",
    "\n",
    "ax = fig.add_subplot(122)\n",
    "ax = sns.distplot(data_df['charges'][data_df['age'] > 18])\n",
    "plt.title('Age > 18')\n",
    "plt.xticks(np.arange(0,50000,10000))\n",
    "plt.xlabel('Cost')\n",
    "\n",
    "\n",
    "plt.show()"
   ]
  },
  {
   "cell_type": "markdown",
   "metadata": {},
   "source": [
    "- **Nhận xét:**\n",
    "    - Với **age = 18** thì phân phối của charges có giá trị trung bình khoảng 3000 \n",
    "    - Với **age > 18** thì phân phối của charges có giá trị trung bình khoảng 8500"
   ]
  },
  {
   "cell_type": "markdown",
   "metadata": {},
   "source": [
    "### Smoker có ảnh hưởng như thế nào đến charges?"
   ]
  },
  {
   "cell_type": "markdown",
   "metadata": {},
   "source": [
    "- **Số lượng người hút thuốc và không hút thuốc là bao nhiêu?**"
   ]
  },
  {
   "cell_type": "code",
   "execution_count": null,
   "metadata": {},
   "outputs": [],
   "source": [
    "data_df['smoker'].value_counts()"
   ]
  },
  {
   "cell_type": "code",
   "execution_count": null,
   "metadata": {},
   "outputs": [],
   "source": [
    "sns.histplot(data=data_df, x=\"smoker\", binwidth=3,discrete = True)\n",
    "plt.ylabel('Frequency')"
   ]
  },
  {
   "cell_type": "markdown",
   "metadata": {},
   "source": [
    "- **Nhận xét:** ta thấy số lượng người không hút thuốc cao gấp 3 lần số lượng người hút thuốc"
   ]
  },
  {
   "cell_type": "markdown",
   "metadata": {},
   "source": [
    "- **Sự tương quan giữa smoker với charges**"
   ]
  },
  {
   "cell_type": "code",
   "execution_count": null,
   "metadata": {},
   "outputs": [],
   "source": [
    "sns.catplot(x='smoker', y='charges', data=data_df)\n",
    "plt.show()"
   ]
  },
  {
   "cell_type": "markdown",
   "metadata": {},
   "source": [
    "- **Nhận xét:** \n",
    "    - Nhìn vào đồ thị ta có thể thấy người hút thuốc sẽ phải tốn nhiều chi phí y tế hơn so với người không hút thuốc.\n",
    "    - Thế nên **smoker có tương quan mạnh đối với charges**\n"
   ]
  },
  {
   "cell_type": "markdown",
   "metadata": {},
   "source": [
    "### Sự tương quan giữa smoker, sex và charges"
   ]
  },
  {
   "cell_type": "code",
   "execution_count": null,
   "metadata": {},
   "outputs": [],
   "source": [
    "sns.catplot(x='smoker', y='charges',hue='sex', kind='violin',data=data_df)\n",
    "plt.show()"
   ]
  },
  {
   "cell_type": "markdown",
   "metadata": {},
   "source": [
    "- **Nhận xét:** \n",
    "    - Ở phần trên ta có thể thấy **smoker = yes** thì chi phí y tế sẽ phải trả nhiều hơn\n",
    "    - **Bất kì giới tính nào nếu hút thuốc thì đều phải tốn nhiều chi phí y tế hơn**\n",
    "    - Khi thêm thuộc tính **sex** vào thì cũng không có sự thay đổi gì.\n",
    "    - Chưa nhận thấy được sự tương quan mạnh giữa **sex** với **charges**"
   ]
  },
  {
   "cell_type": "markdown",
   "metadata": {},
   "source": [
    "### Sự tương quan giữa smoker, sex, age và charges"
   ]
  },
  {
   "cell_type": "markdown",
   "metadata": {},
   "source": [
    "- **Xét trường hợp age = 18**"
   ]
  },
  {
   "cell_type": "code",
   "execution_count": null,
   "metadata": {},
   "outputs": [],
   "source": [
    "sns.catplot(x='smoker', y='charges',hue='sex', kind='violin',data=data_df[data_df['age'] == 18])\n",
    "plt.show()"
   ]
  },
  {
   "cell_type": "markdown",
   "metadata": {},
   "source": [
    "- **Xét trường hợp age > 18**"
   ]
  },
  {
   "cell_type": "code",
   "execution_count": null,
   "metadata": {},
   "outputs": [],
   "source": [
    "sns.catplot(x='smoker', y='charges',hue='sex', kind='violin',data=data_df[data_df['age'] > 18])\n",
    "plt.show()"
   ]
  },
  {
   "cell_type": "markdown",
   "metadata": {},
   "source": [
    "- **Nhận xét:** không có sự khác biệt đáng kể nào, bất kì giới tính hay lứa tuổi nào nếu hút thuốc thì sẽ phải tốn nhiều chi phí y tế hơn"
   ]
  },
  {
   "cell_type": "markdown",
   "metadata": {},
   "source": [
    "### Sự tương quan giữa BMI và charges"
   ]
  },
  {
   "cell_type": "markdown",
   "metadata": {},
   "source": [
    "- **Xét sự phân phối của chỉ số BMI**"
   ]
  },
  {
   "cell_type": "code",
   "execution_count": null,
   "metadata": {},
   "outputs": [],
   "source": [
    "sns.distplot(data_df['bmi'])\n",
    "plt.title('BMI Distribution')\n",
    "plt.xlabel('BMI')"
   ]
  },
  {
   "cell_type": "markdown",
   "metadata": {},
   "source": [
    "sns.distplot(data_df['bmi'])\n",
    "plt.title('BMI Distribution')\n",
    "plt.xlabel('BMI')"
   ]
  },
  {
   "cell_type": "markdown",
   "metadata": {},
   "source": [
    "- **Xét sự tương quan giữa BMI với charges**"
   ]
  },
  {
   "cell_type": "code",
   "execution_count": null,
   "metadata": {},
   "outputs": [],
   "source": [
    "fig = plt.figure(figsize=(20,20))\n",
    "\n",
    "ax = fig.add_subplot(221)\n",
    "ax = sns.distplot(data_df['charges'][data_df['bmi'] < 18.5], rug=True)\n",
    "plt.title('Underweight (BMI <18.5)')\n",
    "plt.xticks(np.arange(0,50000,10000))\n",
    "plt.xlabel('BMI')\n",
    "\n",
    "\n",
    "ax = fig.add_subplot(222)\n",
    "ax = sns.distplot(data_df['charges'][(data_df['bmi'] >= 18.5) & (data_df['bmi'] < 24.9)], rug=True)\n",
    "plt.title('Normal (BMI > 18.5 and BMI < 24.9)')\n",
    "plt.xticks(np.arange(0,50000,10000))\n",
    "plt.xlabel('Cost')\n",
    "\n",
    "\n",
    "ax = fig.add_subplot(223)\n",
    "ax = sns.distplot(data_df['charges'][(data_df['bmi'] >= 24.9) & (data_df['bmi'] < 29.9)], rug=True)\n",
    "plt.title('Overweight (BMI > 24.9 and BMI < 29.9)')\n",
    "plt.xticks(np.arange(0,50000,10000))\n",
    "plt.xlabel('Cost')\n",
    "\n",
    "\n",
    "ax = fig.add_subplot(224)\n",
    "ax = sns.distplot(data_df['charges'][data_df['bmi'] > 29.9], rug=True)\n",
    "plt.title('Obese (BMI > 29.9)')\n",
    "plt.xticks(np.arange(0,50000,10000))\n",
    "plt.xlabel('Cost')\n",
    "\n",
    "\n",
    "plt.show()"
   ]
  },
  {
   "cell_type": "markdown",
   "metadata": {},
   "source": [
    "- **Nhận xét:**\n",
    "    - Hình dáng đồ thì có sự thay đổi ở sườn bên phải\n",
    "    - Chi phí sẽ tăng nhẹ đối với mỗi loại **BMI** khác nhau"
   ]
  },
  {
   "cell_type": "markdown",
   "metadata": {},
   "source": [
    "### Sự tương quan giữa BMI, Smoker, Charges"
   ]
  },
  {
   "cell_type": "code",
   "execution_count": null,
   "metadata": {},
   "outputs": [],
   "source": [
    "smoker_yes = data_df[['bmi','charges']][data_df['smoker'] == 'yes']\n",
    "smoker_no = data_df[['bmi','charges']][data_df['smoker'] == 'no']"
   ]
  },
  {
   "cell_type": "code",
   "execution_count": null,
   "metadata": {},
   "outputs": [],
   "source": [
    "fig = plt.figure(figsize=(20,20))\n",
    "\n",
    "ax = fig.add_subplot(221)\n",
    "sns.distplot(smoker_yes['charges'][smoker_yes['bmi'] < 18.5], rug=True)\n",
    "plt.title('Underweight (BMI <18.5), Smoker = Yes')\n",
    "plt.xticks(np.arange(0,50000,10000))\n",
    "plt.xlabel('BMI')\n",
    "\n",
    "ax = fig.add_subplot(222)\n",
    "sns.distplot(smoker_no['charges'][smoker_no['bmi'] < 18.5], rug=True)\n",
    "plt.title('Underweight (BMI <18.5), Smoker = No')\n",
    "plt.xticks(np.arange(0,50000,10000))\n",
    "plt.xlabel('BMI')\n"
   ]
  },
  {
   "cell_type": "code",
   "execution_count": null,
   "metadata": {},
   "outputs": [],
   "source": [
    "fig = plt.figure(figsize=(20,20))\n",
    "\n",
    "ax = fig.add_subplot(221)\n",
    "ax = sns.distplot(smoker_yes['charges'][(smoker_yes['bmi'] >= 18.5) & (smoker_yes['bmi'] < 24.9)], rug=True)\n",
    "plt.title('Normal (BMI > 18.5 and BMI < 24.9), Smoker = Yes')\n",
    "plt.xticks(np.arange(0,50000,10000))\n",
    "plt.xlabel('Cost')\n",
    "\n",
    "ax = fig.add_subplot(222)\n",
    "ax = sns.distplot(smoker_no['charges'][(smoker_no['bmi'] >= 18.5) & (smoker_no['bmi'] < 24.9)], rug=True)\n",
    "plt.title('Normal (BMI > 18.5 and BMI < 24.9), Smoker = No')\n",
    "plt.xticks(np.arange(0,50000,10000))\n",
    "plt.xlabel('Cost')"
   ]
  },
  {
   "cell_type": "code",
   "execution_count": null,
   "metadata": {},
   "outputs": [],
   "source": [
    "fig = plt.figure(figsize=(20,20))\n",
    "\n",
    "ax = fig.add_subplot(221)\n",
    "ax = sns.distplot(smoker_yes['charges'][(smoker_yes['bmi'] >= 24.9) & (smoker_yes['bmi'] < 29.9)], rug=True)\n",
    "plt.title('Overweight (BMI > 24.9 and BMI < 29.9), Smoker = Yes')\n",
    "plt.xticks(np.arange(0,50000,10000))\n",
    "plt.xlabel('Cost')\n",
    "\n",
    "\n",
    "ax = fig.add_subplot(222)\n",
    "ax = sns.distplot(smoker_no['charges'][(smoker_no['bmi'] >= 24.9) & (smoker_no['bmi'] < 29.9)], rug=True)\n",
    "plt.title('Overweight (BMI > 24.9 and BMI < 29.9), Smoker = No')\n",
    "plt.xticks(np.arange(0,50000,10000))\n",
    "plt.xlabel('Cost')"
   ]
  },
  {
   "cell_type": "code",
   "execution_count": null,
   "metadata": {},
   "outputs": [],
   "source": [
    "fig = plt.figure(figsize=(20,20))\n",
    "\n",
    "ax = fig.add_subplot(221)\n",
    "ax = sns.distplot(smoker_yes['charges'][smoker_yes['bmi'] > 29.9], rug=True)\n",
    "plt.title('Obese (BMI > 29.9), Smoker = Yes')\n",
    "plt.xticks(np.arange(0,50000,10000))\n",
    "plt.xlabel('Cost')\n",
    "\n",
    "\n",
    "ax = fig.add_subplot(222)\n",
    "ax = sns.distplot(smoker_no['charges'][smoker_no['bmi'] > 29.9], rug=True)\n",
    "plt.title('Obese (BMI > 29.9), Smoker = No')\n",
    "plt.xticks(np.arange(0,50000,10000))\n",
    "plt.xlabel('Cost')"
   ]
  },
  {
   "cell_type": "markdown",
   "metadata": {},
   "source": [
    "- **Nhận xét:** bất kì chỉ số **BMI** như thế nào nếu **có hút thuốc** thì sẽ phải trả nhiều chi phí y tế hơn"
   ]
  },
  {
   "cell_type": "markdown",
   "metadata": {},
   "source": [
    "### Sự tương quan giữa Smoker và Children"
   ]
  },
  {
   "cell_type": "markdown",
   "metadata": {},
   "source": [
    "- **Dự đoán:** thông thường nếu gia đình có trẻ con thì người lớn sẽ ít hút thuốc hơn vì sợ ảnh hưởng đến sức khỏe của trẻ nhỏ."
   ]
  },
  {
   "cell_type": "code",
   "execution_count": null,
   "metadata": {},
   "outputs": [],
   "source": [
    "data_df.groupby('children')['smoker'].value_counts()"
   ]
  },
  {
   "cell_type": "code",
   "execution_count": null,
   "metadata": {},
   "outputs": [],
   "source": [
    "smoker_children = pd.DataFrame([[0,0,342],\n",
    "                                [1,0,201],\n",
    "                                [2,0,136],\n",
    "                                [3,0,88],\n",
    "                                [4,0,19],\n",
    "                                [5,0,11],\n",
    "                                [0,1,83],\n",
    "                                [1,1,45],\n",
    "                                [2,1,43],\n",
    "                                [3,1,32],\n",
    "                                [4,1,2],\n",
    "                                [5,1,1]],columns=['children','smoker','count'])"
   ]
  },
  {
   "cell_type": "code",
   "execution_count": null,
   "metadata": {},
   "outputs": [],
   "source": [
    "sns.catplot(x='children', y='count', hue='smoker', kind='bar', data=smoker_children)\n",
    "plt.show()"
   ]
  },
  {
   "cell_type": "markdown",
   "metadata": {},
   "source": [
    "- **Nhận xét:** ta thấy số children càng lớn thì số smoker càng giảm"
   ]
  },
  {
   "cell_type": "markdown",
   "metadata": {},
   "source": [
    "### Sự tương quan giữa Smoker, Children và Charges"
   ]
  },
  {
   "cell_type": "code",
   "execution_count": null,
   "metadata": {},
   "outputs": [],
   "source": [
    "sns.catplot(x='children', y='charges', hue='smoker', kind='box', data=data_df)\n",
    "plt.show()"
   ]
  },
  {
   "cell_type": "markdown",
   "metadata": {},
   "source": [
    "- **Nhận xét:** ta có thể thấy bất kể nó bao nhiêu **children** đi nữa nếu **hút thuốc** thì sẽ phải tốn nhiều chi phí y tế hơn"
   ]
  },
  {
   "cell_type": "markdown",
   "metadata": {},
   "source": [
    "### Sự tương quan giữa Region và Charges"
   ]
  },
  {
   "cell_type": "code",
   "execution_count": null,
   "metadata": {},
   "outputs": [],
   "source": [
    "sns.catplot(x='region', y='charges', hue='smoker', kind='bar', data=data_df)\n",
    "plt.show()"
   ]
  },
  {
   "cell_type": "markdown",
   "metadata": {},
   "source": [
    "- **Nhận xét:** \n",
    "    - Vùng miền không ảnh hưởng nhiều đến charges\n",
    "    - Ở **southeast** sẽ nhiều hơn các vùng còn lại một tí"
   ]
  },
  {
   "cell_type": "markdown",
   "metadata": {},
   "source": [
    "### Kết luận phần trực quan và insight"
   ]
  },
  {
   "cell_type": "markdown",
   "metadata": {},
   "source": [
    "- **Những yếu tố quan trọng quyết định đến chi phí y tế:**\n",
    "    - **Smoker: một người có hút thuốc hay không**\n",
    "    - **Age: tuổi tác, tuổi tác càng già thì cần được chăm sóc y tế nhiều hơn**\n",
    "    - **BMI: chỉ số BMI càng lớn(>30) có nguy cơ béo phì nên chi phí y tế sẽ tăng**\n",
    "- **Những yếu tố như Region, Children, Sex không ảnh hưởng nhiều đến việc tăng giảm chi phí y tế**"
   ]
  },
  {
   "cell_type": "markdown",
   "metadata": {},
   "source": [
    "# III. Tiền xử lý "
   ]
  },
  {
   "cell_type": "markdown",
   "metadata": {},
   "source": [
    "# 1. Tách tập train và tập validation ra theo tỉ lệ: 70%:30%.¶\n"
   ]
  },
  {
   "cell_type": "markdown",
   "metadata": {},
   "source": [
    "- Tách thành 2 phần X và y. Với X là input, y là output, với y là `charges`"
   ]
  },
  {
   "cell_type": "code",
   "execution_count": 14,
   "metadata": {},
   "outputs": [],
   "source": [
    "# Tách X và y\n",
    "y_sr = data_df[\"charges\"] # sr là viết tắt của series\n",
    "X_df = data_df.drop(\"charges\", axis=1)"
   ]
  },
  {
   "cell_type": "markdown",
   "metadata": {},
   "source": [
    "- Chia thành 2 bộ dữ liệu train và validation"
   ]
  },
  {
   "cell_type": "code",
   "execution_count": 15,
   "metadata": {},
   "outputs": [],
   "source": [
    "train_X, test_X, train_y, test_y = train_test_split(X_df,y_sr,test_size=0.3, random_state=0)"
   ]
  },
  {
   "cell_type": "markdown",
   "metadata": {},
   "source": [
    "- Kích thước dữ liệu sau khi tách"
   ]
  },
  {
   "cell_type": "code",
   "execution_count": 16,
   "metadata": {},
   "outputs": [
    {
     "name": "stdout",
     "output_type": "stream",
     "text": [
      "shape train_X : (702, 6)\n",
      "shape train_y : (702,)\n",
      "shape val_X : (301, 6)\n",
      "shape val_y : (301,)\n"
     ]
    }
   ],
   "source": [
    "print(\"shape train_X :\", train_X.shape)\n",
    "print(\"shape train_y :\", train_y.shape)\n",
    "print(\"shape val_X :\", test_X.shape)\n",
    "print(\"shape val_y :\", test_y.shape)"
   ]
  },
  {
   "cell_type": "markdown",
   "metadata": {},
   "source": [
    "## 2.  Khám phá dữ liệu (Tập huấn luyện)"
   ]
  },
  {
   "cell_type": "markdown",
   "metadata": {},
   "source": [
    "### Mỗi cột input hiện đang có kiểu dữ liệu gì? Có cột nào có kiểu dữ liệu chưa phù hợp để có thể xử lý tiếp không?"
   ]
  },
  {
   "cell_type": "code",
   "execution_count": 17,
   "metadata": {},
   "outputs": [
    {
     "data": {
      "text/plain": [
       "age           int64\n",
       "sex          object\n",
       "bmi         float64\n",
       "children      int64\n",
       "smoker       object\n",
       "region       object\n",
       "dtype: object"
      ]
     },
     "execution_count": 17,
     "metadata": {},
     "output_type": "execute_result"
    }
   ],
   "source": [
    "train_X.dtypes"
   ]
  },
  {
   "cell_type": "markdown",
   "metadata": {},
   "source": [
    "- Nhận xét về tập dữ liệu\n",
    "    - Dữ liệu có 6 thuộc tính.\n",
    "    - Các thuộc tính có kiểu dữ liệu có vẻ phù hợp."
   ]
  },
  {
   "cell_type": "markdown",
   "metadata": {},
   "source": [
    "## 3. Tiền xử lý (tập huấn luyện)"
   ]
  },
  {
   "cell_type": "markdown",
   "metadata": {},
   "source": [
    "Ta tiến hành tiền xử lý như sau: \n",
    "- Như đã phân tích các nhân tố của từng thuộc tính ảnh hưởng đến mức độ chi phí, do đó ta sẽ sắp xếp và chuyển đổi các nhân tố  của từng thuộc tính đó theo thứ tự dạng numeric, tùy theo độ mức độ ảnh hưởng.\n",
    "- Ở đây, ví dụ: Với thuộc tính `smoker`, sau khi phân tích ở trên, ta có thể nhận thấy chi phí trung bình của người có hút thuốc cao gấp 4 lần so với người không hút thuốc nên chuyển `yes` sang 4 và `no` sang 1. Tương tự cho các thuộc tính khác, sẽ được chuyển đổi sao cho phù hợp."
   ]
  },
  {
   "cell_type": "code",
   "execution_count": 18,
   "metadata": {},
   "outputs": [],
   "source": [
    "def convert_col_dtype(col):\n",
    "    if col.name == 'smoker':\n",
    "        col.replace('yes',4, inplace = True)\n",
    "        col.replace('no',1, inplace = True)\n",
    " #   if col.name == 'region':\n",
    " #       col.replace('northwest',1, inplace = True)\n",
    " #       col.replace('southwest',2, inplace = True)\n",
    " #       col.replace('northeast',3, inplace = True)\n",
    " #       col.replace('southeast',4, inplace = True)\n",
    " #   if col.name == 'sex':\n",
    " #       col.replace('male',2, inplace = True)\n",
    " #       col.replace('female',1, inplace = True)\n",
    "    if col.name == 'children':\n",
    "        col.replace(3,6, inplace = True)\n",
    "        col.replace(2,5, inplace = True)\n",
    "        col.replace(4,4, inplace = True)\n",
    "        col.replace(1,3, inplace = True)\n",
    "        col.replace(0,2, inplace = True)\n",
    "        col.replace(5,1, inplace = True)\n",
    "    return col"
   ]
  },
  {
   "cell_type": "markdown",
   "metadata": {},
   "source": [
    "- Class `ColAdderDropper` ở dưới đây sẽ thực hiện các bước ở trên.\n",
    "- Ngoài ra, class `ColAdderDropper` được kế thừa từ 2 class của Sklearn là `BaseEstimator` và `TransformerMixin`. Việc kế thừa này giúp class của ta tự động có các phương thức như `set_params`, `get_params`, `fit_transform` "
   ]
  },
  {
   "cell_type": "code",
   "execution_count": 19,
   "metadata": {},
   "outputs": [
    {
     "data": {
      "text/html": [
       "<div>\n",
       "<style scoped>\n",
       "    .dataframe tbody tr th:only-of-type {\n",
       "        vertical-align: middle;\n",
       "    }\n",
       "\n",
       "    .dataframe tbody tr th {\n",
       "        vertical-align: top;\n",
       "    }\n",
       "\n",
       "    .dataframe thead th {\n",
       "        text-align: right;\n",
       "    }\n",
       "</style>\n",
       "<table border=\"1\" class=\"dataframe\">\n",
       "  <thead>\n",
       "    <tr style=\"text-align: right;\">\n",
       "      <th></th>\n",
       "      <th>age</th>\n",
       "      <th>sex</th>\n",
       "      <th>bmi</th>\n",
       "      <th>children</th>\n",
       "      <th>smoker</th>\n",
       "      <th>region</th>\n",
       "      <th>charges</th>\n",
       "    </tr>\n",
       "  </thead>\n",
       "  <tbody>\n",
       "    <tr>\n",
       "      <th>0</th>\n",
       "      <td>24</td>\n",
       "      <td>male</td>\n",
       "      <td>23.655</td>\n",
       "      <td>2</td>\n",
       "      <td>1</td>\n",
       "      <td>northwest</td>\n",
       "      <td>2352.96845</td>\n",
       "    </tr>\n",
       "    <tr>\n",
       "      <th>1</th>\n",
       "      <td>28</td>\n",
       "      <td>female</td>\n",
       "      <td>26.510</td>\n",
       "      <td>1</td>\n",
       "      <td>1</td>\n",
       "      <td>southeast</td>\n",
       "      <td>4340.44090</td>\n",
       "    </tr>\n",
       "    <tr>\n",
       "      <th>2</th>\n",
       "      <td>51</td>\n",
       "      <td>male</td>\n",
       "      <td>39.700</td>\n",
       "      <td>3</td>\n",
       "      <td>1</td>\n",
       "      <td>southwest</td>\n",
       "      <td>9391.34600</td>\n",
       "    </tr>\n",
       "    <tr>\n",
       "      <th>3</th>\n",
       "      <td>47</td>\n",
       "      <td>male</td>\n",
       "      <td>36.080</td>\n",
       "      <td>3</td>\n",
       "      <td>4</td>\n",
       "      <td>southeast</td>\n",
       "      <td>42211.13820</td>\n",
       "    </tr>\n",
       "    <tr>\n",
       "      <th>4</th>\n",
       "      <td>46</td>\n",
       "      <td>female</td>\n",
       "      <td>28.900</td>\n",
       "      <td>1</td>\n",
       "      <td>1</td>\n",
       "      <td>southwest</td>\n",
       "      <td>8823.27900</td>\n",
       "    </tr>\n",
       "    <tr>\n",
       "      <th>...</th>\n",
       "      <td>...</td>\n",
       "      <td>...</td>\n",
       "      <td>...</td>\n",
       "      <td>...</td>\n",
       "      <td>...</td>\n",
       "      <td>...</td>\n",
       "      <td>...</td>\n",
       "    </tr>\n",
       "    <tr>\n",
       "      <th>998</th>\n",
       "      <td>18</td>\n",
       "      <td>female</td>\n",
       "      <td>31.350</td>\n",
       "      <td>4</td>\n",
       "      <td>1</td>\n",
       "      <td>northeast</td>\n",
       "      <td>4561.18850</td>\n",
       "    </tr>\n",
       "    <tr>\n",
       "      <th>999</th>\n",
       "      <td>39</td>\n",
       "      <td>female</td>\n",
       "      <td>23.870</td>\n",
       "      <td>1</td>\n",
       "      <td>1</td>\n",
       "      <td>southeast</td>\n",
       "      <td>8582.30230</td>\n",
       "    </tr>\n",
       "    <tr>\n",
       "      <th>1000</th>\n",
       "      <td>58</td>\n",
       "      <td>male</td>\n",
       "      <td>25.175</td>\n",
       "      <td>2</td>\n",
       "      <td>1</td>\n",
       "      <td>northeast</td>\n",
       "      <td>11931.12525</td>\n",
       "    </tr>\n",
       "    <tr>\n",
       "      <th>1001</th>\n",
       "      <td>37</td>\n",
       "      <td>female</td>\n",
       "      <td>47.600</td>\n",
       "      <td>1</td>\n",
       "      <td>4</td>\n",
       "      <td>southwest</td>\n",
       "      <td>46113.51100</td>\n",
       "    </tr>\n",
       "    <tr>\n",
       "      <th>1002</th>\n",
       "      <td>55</td>\n",
       "      <td>male</td>\n",
       "      <td>29.900</td>\n",
       "      <td>2</td>\n",
       "      <td>1</td>\n",
       "      <td>southwest</td>\n",
       "      <td>10214.63600</td>\n",
       "    </tr>\n",
       "  </tbody>\n",
       "</table>\n",
       "<p>1003 rows × 7 columns</p>\n",
       "</div>"
      ],
      "text/plain": [
       "      age     sex     bmi  children  smoker     region      charges\n",
       "0      24    male  23.655         2       1  northwest   2352.96845\n",
       "1      28  female  26.510         1       1  southeast   4340.44090\n",
       "2      51    male  39.700         3       1  southwest   9391.34600\n",
       "3      47    male  36.080         3       4  southeast  42211.13820\n",
       "4      46  female  28.900         1       1  southwest   8823.27900\n",
       "...   ...     ...     ...       ...     ...        ...          ...\n",
       "998    18  female  31.350         4       1  northeast   4561.18850\n",
       "999    39  female  23.870         1       1  southeast   8582.30230\n",
       "1000   58    male  25.175         2       1  northeast  11931.12525\n",
       "1001   37  female  47.600         1       4  southwest  46113.51100\n",
       "1002   55    male  29.900         2       1  southwest  10214.63600\n",
       "\n",
       "[1003 rows x 7 columns]"
      ]
     },
     "execution_count": 19,
     "metadata": {},
     "output_type": "execute_result"
    }
   ],
   "source": [
    "class ColAdderDropper(BaseEstimator, TransformerMixin):\n",
    "    def __init__(self):\n",
    "        pass\n",
    "    def fit(self, X_df, y=None):\n",
    "        return self\n",
    "    def transform(self, X_df, y=None):\n",
    "        _df = X_df.copy()\n",
    "        _df = _df.apply(convert_col_dtype)\n",
    "        return _df\n",
    "    \n",
    "col_adderdropper = ColAdderDropper()\n",
    "fewer_cols_train_X_df = col_adderdropper.fit_transform(data_df)\n",
    "fewer_cols_train_X_df"
   ]
  },
  {
   "cell_type": "code",
   "execution_count": 20,
   "metadata": {},
   "outputs": [
    {
     "data": {
      "text/plain": [
       "age           int64\n",
       "sex          object\n",
       "bmi         float64\n",
       "children      int64\n",
       "smoker        int64\n",
       "region       object\n",
       "charges     float64\n",
       "dtype: object"
      ]
     },
     "execution_count": 20,
     "metadata": {},
     "output_type": "execute_result"
    }
   ],
   "source": [
    "fewer_cols_train_X_df.dtypes"
   ]
  },
  {
   "cell_type": "markdown",
   "metadata": {},
   "source": [
    "- Có vẽ như kiểu dữ liệu các cột khá lý tưởng."
   ]
  },
  {
   "cell_type": "markdown",
   "metadata": {},
   "source": [
    "### Các bước tiền xử lý tiếp theo như sau:\n",
    "\n",
    "Bây giờ ta chuyển tất cả các cột về dạng số như sau:\n",
    "- Do các cột không chứa các giá trị thiếu nên ta không cần điền giá trị thiếu vào.\n",
    "- Với các cột dạng số, ta giữ nguyên.\n",
    "- Các cột không phải dạng số  và không có thứ tự, ta sẽ mã hóa bằng `one-hot`.\n",
    "\n",
    "Tiến hành chuẩn hóa.\n",
    "\n",
    "Cuối cùng tạo một pipeline sử dụng các thao tác trên cùng lúc.\n"
   ]
  },
  {
   "cell_type": "code",
   "execution_count": 21,
   "metadata": {
    "scrolled": true
   },
   "outputs": [
    {
     "data": {
      "text/plain": [
       "array([[-0.99106682,  0.99106682, -0.57773402, ..., -0.39671642,\n",
       "        -0.50839872, -0.9061563 ],\n",
       "       [ 1.0090137 , -1.0090137 , -0.57773402, ..., -1.0863292 ,\n",
       "        -0.50839872, -0.74115711],\n",
       "       [-0.99106682,  0.99106682, -0.57773402, ...,  0.29289635,\n",
       "        -0.50839872, -0.32183296],\n",
       "       ...,\n",
       "       [-0.99106682,  0.99106682,  1.73090033, ..., -0.39671642,\n",
       "        -0.50839872, -0.11098149],\n",
       "       [ 1.0090137 , -1.0090137 , -0.57773402, ..., -1.0863292 ,\n",
       "         1.9669601 ,  2.72682672],\n",
       "       [-0.99106682,  0.99106682, -0.57773402, ..., -0.39671642,\n",
       "        -0.50839872, -0.25348375]])"
      ]
     },
     "execution_count": 21,
     "metadata": {},
     "output_type": "execute_result"
    }
   ],
   "source": [
    "unorder_cate_cols = ['sex','region']\n",
    "\n",
    "mode_unordercols = make_pipeline(OneHotEncoder(handle_unknown='ignore'))\n",
    "\n",
    "col_transform = ColumnTransformer([('unorder_cate_cols', mode_unordercols,unorder_cate_cols)],remainder='passthrough')\n",
    "\n",
    "preprocess_pipeline = make_pipeline(col_adderdropper,col_transform,StandardScaler())\n",
    "preprocessed_train_X = preprocess_pipeline.fit_transform(data_df)\n",
    "preprocessed_train_X"
   ]
  },
  {
   "cell_type": "markdown",
   "metadata": {},
   "source": [
    "## 4. Độ lỗi"
   ]
  },
  {
   "cell_type": "markdown",
   "metadata": {},
   "source": [
    "Sử dụng độ do R-Squared cho mô hình hồi quy."
   ]
  },
  {
   "cell_type": "code",
   "execution_count": 22,
   "metadata": {},
   "outputs": [],
   "source": [
    "# Tính độ đo r^2 trên tập huấn luyện\n",
    "def compute_mse(y, preds):\n",
    "    return ((y - preds) ** 2).mean()\n",
    "def compute_rr(y, preds, baseline_preds):\n",
    "    return 1 - compute_mse(y, preds) / compute_mse(y, baseline_preds)\n",
    "baseline_preds = train_y.mean()"
   ]
  },
  {
   "cell_type": "markdown",
   "metadata": {},
   "source": [
    "## 5. Đọc file test"
   ]
  },
  {
   "cell_type": "code",
   "execution_count": 24,
   "metadata": {
    "scrolled": true
   },
   "outputs": [],
   "source": [
    "test_df = pd.read_csv('test.csv')\n",
    "y_sr_test = test_df[\"charges\"] # sr là viết tắt của series\n",
    "X_df_test = test_df.drop(\"charges\", axis=1)"
   ]
  },
  {
   "cell_type": "markdown",
   "metadata": {},
   "source": [
    "# IV. Tiền xử lý và áp dụng các mô hình học máy."
   ]
  },
  {
   "cell_type": "markdown",
   "metadata": {},
   "source": [
    "#### Tìm mô hình tốt nhất cho độ lỗi trên tập validation nhỏ nhất"
   ]
  },
  {
   "cell_type": "markdown",
   "metadata": {},
   "source": [
    "# + MÔ HÌNH CƠ BẢN"
   ]
  },
  {
   "cell_type": "markdown",
   "metadata": {},
   "source": [
    "## 1. Linear Regression "
   ]
  },
  {
   "cell_type": "markdown",
   "metadata": {},
   "source": [
    "### a. Tạo pipeline cho mô hình và huấn luyện cho mô hình"
   ]
  },
  {
   "cell_type": "code",
   "execution_count": 23,
   "metadata": {
    "scrolled": true
   },
   "outputs": [
    {
     "data": {
      "text/html": [
       "<style>div.sk-top-container {color: black;background-color: white;}div.sk-toggleable {background-color: white;}label.sk-toggleable__label {cursor: pointer;display: block;width: 100%;margin-bottom: 0;padding: 0.2em 0.3em;box-sizing: border-box;text-align: center;}div.sk-toggleable__content {max-height: 0;max-width: 0;overflow: hidden;text-align: left;background-color: #f0f8ff;}div.sk-toggleable__content pre {margin: 0.2em;color: black;border-radius: 0.25em;background-color: #f0f8ff;}input.sk-toggleable__control:checked~div.sk-toggleable__content {max-height: 200px;max-width: 100%;overflow: auto;}div.sk-estimator input.sk-toggleable__control:checked~label.sk-toggleable__label {background-color: #d4ebff;}div.sk-label input.sk-toggleable__control:checked~label.sk-toggleable__label {background-color: #d4ebff;}input.sk-hidden--visually {border: 0;clip: rect(1px 1px 1px 1px);clip: rect(1px, 1px, 1px, 1px);height: 1px;margin: -1px;overflow: hidden;padding: 0;position: absolute;width: 1px;}div.sk-estimator {font-family: monospace;background-color: #f0f8ff;margin: 0.25em 0.25em;border: 1px dotted black;border-radius: 0.25em;box-sizing: border-box;}div.sk-estimator:hover {background-color: #d4ebff;}div.sk-parallel-item::after {content: \"\";width: 100%;border-bottom: 1px solid gray;flex-grow: 1;}div.sk-label:hover label.sk-toggleable__label {background-color: #d4ebff;}div.sk-serial::before {content: \"\";position: absolute;border-left: 1px solid gray;box-sizing: border-box;top: 2em;bottom: 0;left: 50%;}div.sk-serial {display: flex;flex-direction: column;align-items: center;background-color: white;}div.sk-item {z-index: 1;}div.sk-parallel {display: flex;align-items: stretch;justify-content: center;background-color: white;}div.sk-parallel-item {display: flex;flex-direction: column;position: relative;background-color: white;}div.sk-parallel-item:first-child::after {align-self: flex-end;width: 50%;}div.sk-parallel-item:last-child::after {align-self: flex-start;width: 50%;}div.sk-parallel-item:only-child::after {width: 0;}div.sk-dashed-wrapped {border: 1px dashed gray;margin: 0.2em;box-sizing: border-box;padding-bottom: 0.1em;background-color: white;position: relative;}div.sk-label label {font-family: monospace;font-weight: bold;background-color: white;display: inline-block;line-height: 1.2em;}div.sk-label-container {position: relative;z-index: 2;text-align: center;}div.sk-container {display: inline-block;position: relative;}</style><div class=\"sk-top-container\"><div class=\"sk-container\"><div class=\"sk-item sk-dashed-wrapped\"><div class=\"sk-label-container\"><div class=\"sk-label sk-toggleable\"><input class=\"sk-toggleable__control sk-hidden--visually\" id=\"006a4e9c-f29c-494f-a951-ac76685d8ba4\" type=\"checkbox\" ><label class=\"sk-toggleable__label\" for=\"006a4e9c-f29c-494f-a951-ac76685d8ba4\">Pipeline</label><div class=\"sk-toggleable__content\"><pre>Pipeline(steps=[('coladderdropper', ColAdderDropper()),\n",
       "                ('columntransformer',\n",
       "                 ColumnTransformer(remainder='passthrough',\n",
       "                                   transformers=[('unorder_cate_cols',\n",
       "                                                  Pipeline(steps=[('onehotencoder',\n",
       "                                                                   OneHotEncoder(handle_unknown='ignore'))]),\n",
       "                                                  ['sex', 'region'])])),\n",
       "                ('standardscaler', StandardScaler()),\n",
       "                ('linearregression', LinearRegression())])</pre></div></div></div><div class=\"sk-serial\"><div class=\"sk-item\"><div class=\"sk-estimator sk-toggleable\"><input class=\"sk-toggleable__control sk-hidden--visually\" id=\"811115c5-c42c-468a-b526-48a71ac7d6d2\" type=\"checkbox\" ><label class=\"sk-toggleable__label\" for=\"811115c5-c42c-468a-b526-48a71ac7d6d2\">ColAdderDropper</label><div class=\"sk-toggleable__content\"><pre>ColAdderDropper()</pre></div></div></div><div class=\"sk-item sk-dashed-wrapped\"><div class=\"sk-label-container\"><div class=\"sk-label sk-toggleable\"><input class=\"sk-toggleable__control sk-hidden--visually\" id=\"6c92bff1-bd0e-4c59-91dc-f9586566706a\" type=\"checkbox\" ><label class=\"sk-toggleable__label\" for=\"6c92bff1-bd0e-4c59-91dc-f9586566706a\">columntransformer: ColumnTransformer</label><div class=\"sk-toggleable__content\"><pre>ColumnTransformer(remainder='passthrough',\n",
       "                  transformers=[('unorder_cate_cols',\n",
       "                                 Pipeline(steps=[('onehotencoder',\n",
       "                                                  OneHotEncoder(handle_unknown='ignore'))]),\n",
       "                                 ['sex', 'region'])])</pre></div></div></div><div class=\"sk-parallel\"><div class=\"sk-parallel-item\"><div class=\"sk-item\"><div class=\"sk-label-container\"><div class=\"sk-label sk-toggleable\"><input class=\"sk-toggleable__control sk-hidden--visually\" id=\"468be528-d41f-4673-bb77-c491a7615b1e\" type=\"checkbox\" ><label class=\"sk-toggleable__label\" for=\"468be528-d41f-4673-bb77-c491a7615b1e\">unorder_cate_cols</label><div class=\"sk-toggleable__content\"><pre>['sex', 'region']</pre></div></div></div><div class=\"sk-serial\"><div class=\"sk-item\"><div class=\"sk-serial\"><div class=\"sk-item\"><div class=\"sk-estimator sk-toggleable\"><input class=\"sk-toggleable__control sk-hidden--visually\" id=\"153f12f9-71a0-40dd-a935-b825298a7b60\" type=\"checkbox\" ><label class=\"sk-toggleable__label\" for=\"153f12f9-71a0-40dd-a935-b825298a7b60\">OneHotEncoder</label><div class=\"sk-toggleable__content\"><pre>OneHotEncoder(handle_unknown='ignore')</pre></div></div></div></div></div></div></div></div></div></div><div class=\"sk-item\"><div class=\"sk-estimator sk-toggleable\"><input class=\"sk-toggleable__control sk-hidden--visually\" id=\"8f3a7ec7-1adc-4f2a-862a-35b95489b6c7\" type=\"checkbox\" ><label class=\"sk-toggleable__label\" for=\"8f3a7ec7-1adc-4f2a-862a-35b95489b6c7\">StandardScaler</label><div class=\"sk-toggleable__content\"><pre>StandardScaler()</pre></div></div></div><div class=\"sk-item\"><div class=\"sk-estimator sk-toggleable\"><input class=\"sk-toggleable__control sk-hidden--visually\" id=\"22b7b26b-d847-483e-832b-c586e901ba93\" type=\"checkbox\" ><label class=\"sk-toggleable__label\" for=\"22b7b26b-d847-483e-832b-c586e901ba93\">LinearRegression</label><div class=\"sk-toggleable__content\"><pre>LinearRegression()</pre></div></div></div></div></div></div></div>"
      ],
      "text/plain": [
       "Pipeline(steps=[('coladderdropper', ColAdderDropper()),\n",
       "                ('columntransformer',\n",
       "                 ColumnTransformer(remainder='passthrough',\n",
       "                                   transformers=[('unorder_cate_cols',\n",
       "                                                  Pipeline(steps=[('onehotencoder',\n",
       "                                                                   OneHotEncoder(handle_unknown='ignore'))]),\n",
       "                                                  ['sex', 'region'])])),\n",
       "                ('standardscaler', StandardScaler()),\n",
       "                ('linearregression', LinearRegression())])"
      ]
     },
     "execution_count": 23,
     "metadata": {},
     "output_type": "execute_result"
    }
   ],
   "source": [
    "warnings.filterwarnings(\"ignore\")\n",
    "linear_model =LinearRegression()\n",
    "linear_pipeline = make_pipeline(col_adderdropper,col_transform, StandardScaler(), linear_model)\n",
    "linear_train_X_df = train_X.append(test_X)\n",
    "linear_train_y_sr = train_y.append(test_y)\n",
    "linear_pipeline.fit(linear_train_X_df,linear_train_y_sr)"
   ]
  },
  {
   "cell_type": "markdown",
   "metadata": {},
   "source": [
    "- Đọc file test"
   ]
  },
  {
   "cell_type": "markdown",
   "metadata": {},
   "source": [
    "### b. So sánh kết quả predict với kết quả thực trên tập test"
   ]
  },
  {
   "cell_type": "code",
   "execution_count": 25,
   "metadata": {},
   "outputs": [
    {
     "data": {
      "text/html": [
       "<div>\n",
       "<style scoped>\n",
       "    .dataframe tbody tr th:only-of-type {\n",
       "        vertical-align: middle;\n",
       "    }\n",
       "\n",
       "    .dataframe tbody tr th {\n",
       "        vertical-align: top;\n",
       "    }\n",
       "\n",
       "    .dataframe thead th {\n",
       "        text-align: right;\n",
       "    }\n",
       "</style>\n",
       "<table border=\"1\" class=\"dataframe\">\n",
       "  <thead>\n",
       "    <tr style=\"text-align: right;\">\n",
       "      <th></th>\n",
       "      <th>Predict</th>\n",
       "      <th>Actual</th>\n",
       "    </tr>\n",
       "  </thead>\n",
       "  <tbody>\n",
       "    <tr>\n",
       "      <th>275</th>\n",
       "      <td>24025.05704</td>\n",
       "      <td>13747.87235</td>\n",
       "    </tr>\n",
       "    <tr>\n",
       "      <th>187</th>\n",
       "      <td>4635.63693</td>\n",
       "      <td>3554.20300</td>\n",
       "    </tr>\n",
       "    <tr>\n",
       "      <th>297</th>\n",
       "      <td>878.07795</td>\n",
       "      <td>3378.91000</td>\n",
       "    </tr>\n",
       "    <tr>\n",
       "      <th>186</th>\n",
       "      <td>5956.32814</td>\n",
       "      <td>20277.80751</td>\n",
       "    </tr>\n",
       "    <tr>\n",
       "      <th>240</th>\n",
       "      <td>10196.30221</td>\n",
       "      <td>13204.28565</td>\n",
       "    </tr>\n",
       "    <tr>\n",
       "      <th>207</th>\n",
       "      <td>816.98976</td>\n",
       "      <td>4296.27120</td>\n",
       "    </tr>\n",
       "    <tr>\n",
       "      <th>112</th>\n",
       "      <td>14426.87989</td>\n",
       "      <td>13019.16105</td>\n",
       "    </tr>\n",
       "    <tr>\n",
       "      <th>309</th>\n",
       "      <td>5155.40072</td>\n",
       "      <td>14133.03775</td>\n",
       "    </tr>\n",
       "    <tr>\n",
       "      <th>62</th>\n",
       "      <td>15568.26290</td>\n",
       "      <td>27941.28758</td>\n",
       "    </tr>\n",
       "    <tr>\n",
       "      <th>121</th>\n",
       "      <td>10367.63626</td>\n",
       "      <td>7261.74100</td>\n",
       "    </tr>\n",
       "    <tr>\n",
       "      <th>168</th>\n",
       "      <td>34134.29179</td>\n",
       "      <td>39556.49450</td>\n",
       "    </tr>\n",
       "    <tr>\n",
       "      <th>106</th>\n",
       "      <td>9467.95034</td>\n",
       "      <td>7731.42710</td>\n",
       "    </tr>\n",
       "    <tr>\n",
       "      <th>323</th>\n",
       "      <td>5927.96473</td>\n",
       "      <td>3659.34600</td>\n",
       "    </tr>\n",
       "    <tr>\n",
       "      <th>78</th>\n",
       "      <td>6004.03169</td>\n",
       "      <td>4349.46200</td>\n",
       "    </tr>\n",
       "    <tr>\n",
       "      <th>290</th>\n",
       "      <td>3816.32592</td>\n",
       "      <td>2205.98080</td>\n",
       "    </tr>\n",
       "  </tbody>\n",
       "</table>\n",
       "</div>"
      ],
      "text/plain": [
       "         Predict       Actual\n",
       "275  24025.05704  13747.87235\n",
       "187   4635.63693   3554.20300\n",
       "297    878.07795   3378.91000\n",
       "186   5956.32814  20277.80751\n",
       "240  10196.30221  13204.28565\n",
       "207    816.98976   4296.27120\n",
       "112  14426.87989  13019.16105\n",
       "309   5155.40072  14133.03775\n",
       "62   15568.26290  27941.28758\n",
       "121  10367.63626   7261.74100\n",
       "168  34134.29179  39556.49450\n",
       "106   9467.95034   7731.42710\n",
       "323   5927.96473   3659.34600\n",
       "78    6004.03169   4349.46200\n",
       "290   3816.32592   2205.98080"
      ]
     },
     "execution_count": 25,
     "metadata": {},
     "output_type": "execute_result"
    }
   ],
   "source": [
    "linear_preds = linear_pipeline.predict(X_df_test).round(5)\n",
    "# So sánh kết quả predict với kết quả actual\n",
    "linear_preds_df = pd.DataFrame(linear_preds, index=y_sr_test.index).rename(columns={0: 'Predict'})\n",
    "linear_preds_df = linear_preds_df.assign(Actual = y_sr_test)\n",
    "linear_preds_df.sample(15)"
   ]
  },
  {
   "cell_type": "markdown",
   "metadata": {},
   "source": [
    "### c. Độ chính xác "
   ]
  },
  {
   "cell_type": "code",
   "execution_count": 51,
   "metadata": {
    "scrolled": true
   },
   "outputs": [
    {
     "name": "stdout",
     "output_type": "stream",
     "text": [
      "Độ chính xác:  76.39518336880413\n"
     ]
    }
   ],
   "source": [
    "linear_score=compute_rr(y_sr_test, linear_preds, baseline_preds) * 100\n",
    "print(\"Độ chính xác: \",linear_score)"
   ]
  },
  {
   "cell_type": "markdown",
   "metadata": {},
   "source": [
    "## 2. Linear Regression với Gradient Decent"
   ]
  },
  {
   "cell_type": "markdown",
   "metadata": {},
   "source": [
    "- Hàm Linear"
   ]
  },
  {
   "cell_type": "code",
   "execution_count": 40,
   "metadata": {},
   "outputs": [],
   "source": [
    "class GDLinearRegression:\n",
    "    def __init__(self, lr, step):\n",
    "        '''\n",
    "        Khởi tạo learning rate và số lượng step update weigh\n",
    "        '''\n",
    "        self.lr = lr\n",
    "        self.step = step\n",
    "\n",
    "    def fit(self, X, y):\n",
    "        ''' \n",
    "        Train the model với đầu vào là tập train data X cùng nhãn Y\n",
    "        X là ma trận MxN trong đó M là số lượng điểm dữ liệu, mỗi điểm dữ liệu có N chiều.\n",
    "        Trường hợp dữ liệu 1 chiều thì X là vector cột Mx1\n",
    "        '''\n",
    "        # lấy ra số lượng điểm train_size và số chiều dữ liệu n_features\n",
    "        self.n_features = X.shape[1] if len(X.shape) > 1 else 1 \n",
    "        train_size = len(X) # số lượng sample\n",
    "        \n",
    "        # chuẩn hóa lại định dạng dữ liệu\n",
    "        X = X.reshape(-1, self.n_features)\n",
    "        y= pd.DataFrame(y.values.reshape([-1, 1]))\n",
    "        \n",
    "        # ta muốn thực hiện dự đoán y = X.T*W + bias, ta đưa bias vào W (W|bias) và 1 cột toàn 1 vào X (X|one),\n",
    "        # lúc đó việc tính toán thuận tiện hơn y = (X|one).T*(W|bias) => đây là trick để tính toán cho nhanh\n",
    "        one = np.ones([train_size, 1])\n",
    "        X = np.concatenate([X, one], 1)\n",
    "        \n",
    "        # tạo weight chính là parameters ta sẽ optimize trong quá trình train\n",
    "        self.weight = np.zeros([self.n_features + 1, 1])\n",
    "        print('x shape: ', X.shape, '- y shape: ', y.shape, '- weight shape: ', self.weight.shape, 'train_size: ', train_size)\n",
    "        \n",
    "        # mảng lưu lại toàn bộ giá trị loss trong quá trình train\n",
    "        self.train_loss = []\n",
    "        \n",
    "        # train\n",
    "        for i in range(self.step):\n",
    "            \n",
    "            loss = np.sum((y - np.dot(X, self.weight)) ** 2)\n",
    "            delta = np.dot(X.T, ( np.dot(X, self.weight) - y))\n",
    "            \n",
    "            # update weight\n",
    "            self.weight = self.weight - (self.lr/train_size) * delta\n",
    "            \n",
    "            # tính trung bình loss\n",
    "            loss = loss/train_size\n",
    "            self.train_loss.append(loss.item())\n",
    "    \n",
    "    def predict(self, X):\n",
    "        '''\n",
    "        Thực hiện dự đoán\n",
    "        '''\n",
    "        # chuẩn hóa format dữ liệu như ta đã làm trong lúc train\n",
    "        X = X.reshape(-1, self.n_features)\n",
    "        \n",
    "        # thêm cột one như ta đã làm trong lúc train\n",
    "        one = np.ones([len(X), 1])\n",
    "        X = np.concatenate([X, one], 1)\n",
    "        \n",
    "        # thực hiện dự đoán, đơn giản là nhân ma trận\n",
    "        y_hat = np.dot(X, self.weight)\n",
    "        \n",
    "        return np.squeeze(y_hat)\n",
    "    \n",
    "    def print_weight(self):\n",
    "        '''\n",
    "        In weigt đã học được\n",
    "        '''\n",
    "        print(self.weight)\n",
    "        \n",
    "    def get_train_loss(self):\n",
    "        '''\n",
    "        Trả về train loss đã lưu trong quá trình train\n",
    "        '''\n",
    "        return self.train_loss"
   ]
  },
  {
   "cell_type": "markdown",
   "metadata": {},
   "source": [
    "### a. Tạo pipeline cho mô hình, huấn luyện cho mô hình và tìm tham số tốt nhất"
   ]
  },
  {
   "cell_type": "code",
   "execution_count": 41,
   "metadata": {},
   "outputs": [
    {
     "name": "stdout",
     "output_type": "stream",
     "text": [
      "x shape:  (702, 11) - y shape:  (702, 1) - weight shape:  (11, 1) train_size:  702\n",
      "x shape:  (702, 11) - y shape:  (702, 1) - weight shape:  (11, 1) train_size:  702\n",
      "x shape:  (702, 11) - y shape:  (702, 1) - weight shape:  (11, 1) train_size:  702\n",
      "x shape:  (702, 11) - y shape:  (702, 1) - weight shape:  (11, 1) train_size:  702\n",
      "x shape:  (702, 11) - y shape:  (702, 1) - weight shape:  (11, 1) train_size:  702\n",
      "x shape:  (702, 11) - y shape:  (702, 1) - weight shape:  (11, 1) train_size:  702\n",
      "x shape:  (702, 11) - y shape:  (702, 1) - weight shape:  (11, 1) train_size:  702\n",
      "x shape:  (702, 11) - y shape:  (702, 1) - weight shape:  (11, 1) train_size:  702\n",
      "x shape:  (702, 11) - y shape:  (702, 1) - weight shape:  (11, 1) train_size:  702\n",
      "x shape:  (702, 11) - y shape:  (702, 1) - weight shape:  (11, 1) train_size:  702\n",
      "x shape:  (702, 11) - y shape:  (702, 1) - weight shape:  (11, 1) train_size:  702\n",
      "x shape:  (702, 11) - y shape:  (702, 1) - weight shape:  (11, 1) train_size:  702\n",
      "x shape:  (702, 11) - y shape:  (702, 1) - weight shape:  (11, 1) train_size:  702\n",
      "x shape:  (702, 11) - y shape:  (702, 1) - weight shape:  (11, 1) train_size:  702\n",
      "x shape:  (702, 11) - y shape:  (702, 1) - weight shape:  (11, 1) train_size:  702\n",
      "x shape:  (702, 11) - y shape:  (702, 1) - weight shape:  (11, 1) train_size:  702\n"
     ]
    }
   ],
   "source": [
    "warnings.filterwarnings(\"ignore\")\n",
    "GDLR_model = GDLinearRegression(0.1,1000)\n",
    "GDLR_pipeline = make_pipeline(col_adderdropper,col_transform, StandardScaler(), GDLR_model)\n",
    "\n",
    "# Thử nghiệm với các giá trị khác nhau của các siêu tham số\n",
    "# và chọn ra các giá trị tốt nhất\n",
    "train_errs = []\n",
    "val_errs = []\n",
    "lrs = [0.001, 0.1,0.5, 1]\n",
    "steps=[10,50,100,1000]\n",
    "best_val_err = float('inf'); best_alpha = None; best_hidden_layer=None;\n",
    "for lr in lrs:\n",
    "    for step in steps:\n",
    "        GDLR_pipeline[3].lr=lr\n",
    "        GDLR_pipeline[3].step=step\n",
    "        GDLR_pipeline.fit(train_X, train_y)\n",
    "        train_errs.append(100 - compute_rr(train_y, GDLR_pipeline.predict(train_X), baseline_preds) * 100)\n",
    "        val_errs.append(100 - compute_rr(test_y, GDLR_pipeline.predict(test_X), baseline_preds) * 100)\n",
    "\n",
    "        if val_errs[-1] < best_val_err:\n",
    "            best_val_err = val_errs[-1]\n",
    "            best_lr = lr\n",
    "            best_step=step"
   ]
  },
  {
   "cell_type": "markdown",
   "metadata": {},
   "source": [
    "- Tham số tốt nhất"
   ]
  },
  {
   "cell_type": "code",
   "execution_count": 42,
   "metadata": {
    "scrolled": false
   },
   "outputs": [
    {
     "name": "stdout",
     "output_type": "stream",
     "text": [
      "best_lr :  0.1\n",
      "best_step :  1000\n"
     ]
    }
   ],
   "source": [
    "print(\"best_lr : \", best_lr)\n",
    "print(\"best_step : \" ,best_step)"
   ]
  },
  {
   "cell_type": "markdown",
   "metadata": {},
   "source": [
    "### b. Tạo pipeline và huấn luyện mô hình bằng tham số tốt nhất "
   ]
  },
  {
   "cell_type": "code",
   "execution_count": 43,
   "metadata": {},
   "outputs": [],
   "source": [
    "warnings.filterwarnings(\"ignore\")\n",
    "GDLR_model_best = GDLinearRegression(best_lr, best_step)\n",
    "GDLR_pipeline = make_pipeline(col_adderdropper, col_transform, StandardScaler(), GDLR_model_best)"
   ]
  },
  {
   "cell_type": "code",
   "execution_count": 44,
   "metadata": {
    "scrolled": true
   },
   "outputs": [
    {
     "name": "stdout",
     "output_type": "stream",
     "text": [
      "x shape:  (1003, 11) - y shape:  (1003, 1) - weight shape:  (11, 1) train_size:  1003\n"
     ]
    },
    {
     "data": {
      "text/html": [
       "<style>div.sk-top-container {color: black;background-color: white;}div.sk-toggleable {background-color: white;}label.sk-toggleable__label {cursor: pointer;display: block;width: 100%;margin-bottom: 0;padding: 0.2em 0.3em;box-sizing: border-box;text-align: center;}div.sk-toggleable__content {max-height: 0;max-width: 0;overflow: hidden;text-align: left;background-color: #f0f8ff;}div.sk-toggleable__content pre {margin: 0.2em;color: black;border-radius: 0.25em;background-color: #f0f8ff;}input.sk-toggleable__control:checked~div.sk-toggleable__content {max-height: 200px;max-width: 100%;overflow: auto;}div.sk-estimator input.sk-toggleable__control:checked~label.sk-toggleable__label {background-color: #d4ebff;}div.sk-label input.sk-toggleable__control:checked~label.sk-toggleable__label {background-color: #d4ebff;}input.sk-hidden--visually {border: 0;clip: rect(1px 1px 1px 1px);clip: rect(1px, 1px, 1px, 1px);height: 1px;margin: -1px;overflow: hidden;padding: 0;position: absolute;width: 1px;}div.sk-estimator {font-family: monospace;background-color: #f0f8ff;margin: 0.25em 0.25em;border: 1px dotted black;border-radius: 0.25em;box-sizing: border-box;}div.sk-estimator:hover {background-color: #d4ebff;}div.sk-parallel-item::after {content: \"\";width: 100%;border-bottom: 1px solid gray;flex-grow: 1;}div.sk-label:hover label.sk-toggleable__label {background-color: #d4ebff;}div.sk-serial::before {content: \"\";position: absolute;border-left: 1px solid gray;box-sizing: border-box;top: 2em;bottom: 0;left: 50%;}div.sk-serial {display: flex;flex-direction: column;align-items: center;background-color: white;}div.sk-item {z-index: 1;}div.sk-parallel {display: flex;align-items: stretch;justify-content: center;background-color: white;}div.sk-parallel-item {display: flex;flex-direction: column;position: relative;background-color: white;}div.sk-parallel-item:first-child::after {align-self: flex-end;width: 50%;}div.sk-parallel-item:last-child::after {align-self: flex-start;width: 50%;}div.sk-parallel-item:only-child::after {width: 0;}div.sk-dashed-wrapped {border: 1px dashed gray;margin: 0.2em;box-sizing: border-box;padding-bottom: 0.1em;background-color: white;position: relative;}div.sk-label label {font-family: monospace;font-weight: bold;background-color: white;display: inline-block;line-height: 1.2em;}div.sk-label-container {position: relative;z-index: 2;text-align: center;}div.sk-container {display: inline-block;position: relative;}</style><div class=\"sk-top-container\"><div class=\"sk-container\"><div class=\"sk-item sk-dashed-wrapped\"><div class=\"sk-label-container\"><div class=\"sk-label sk-toggleable\"><input class=\"sk-toggleable__control sk-hidden--visually\" id=\"d324f430-28ff-49c1-8a0a-fac9bc6fc338\" type=\"checkbox\" ><label class=\"sk-toggleable__label\" for=\"d324f430-28ff-49c1-8a0a-fac9bc6fc338\">Pipeline</label><div class=\"sk-toggleable__content\"><pre>Pipeline(steps=[('coladderdropper', ColAdderDropper()),\n",
       "                ('columntransformer',\n",
       "                 ColumnTransformer(remainder='passthrough',\n",
       "                                   transformers=[('unorder_cate_cols',\n",
       "                                                  Pipeline(steps=[('onehotencoder',\n",
       "                                                                   OneHotEncoder(handle_unknown='ignore'))]),\n",
       "                                                  ['sex', 'region'])])),\n",
       "                ('standardscaler', StandardScaler()),\n",
       "                ('gdlinearregression',\n",
       "                 <__main__.GDLinearRegression object at 0x000001D3AEFAB0A0>)])</pre></div></div></div><div class=\"sk-serial\"><div class=\"sk-item\"><div class=\"sk-estimator sk-toggleable\"><input class=\"sk-toggleable__control sk-hidden--visually\" id=\"ed69bcb2-a124-4809-840a-e843615be088\" type=\"checkbox\" ><label class=\"sk-toggleable__label\" for=\"ed69bcb2-a124-4809-840a-e843615be088\">ColAdderDropper</label><div class=\"sk-toggleable__content\"><pre>ColAdderDropper()</pre></div></div></div><div class=\"sk-item sk-dashed-wrapped\"><div class=\"sk-label-container\"><div class=\"sk-label sk-toggleable\"><input class=\"sk-toggleable__control sk-hidden--visually\" id=\"bfae22d1-620e-4803-9542-da170bc446b6\" type=\"checkbox\" ><label class=\"sk-toggleable__label\" for=\"bfae22d1-620e-4803-9542-da170bc446b6\">columntransformer: ColumnTransformer</label><div class=\"sk-toggleable__content\"><pre>ColumnTransformer(remainder='passthrough',\n",
       "                  transformers=[('unorder_cate_cols',\n",
       "                                 Pipeline(steps=[('onehotencoder',\n",
       "                                                  OneHotEncoder(handle_unknown='ignore'))]),\n",
       "                                 ['sex', 'region'])])</pre></div></div></div><div class=\"sk-parallel\"><div class=\"sk-parallel-item\"><div class=\"sk-item\"><div class=\"sk-label-container\"><div class=\"sk-label sk-toggleable\"><input class=\"sk-toggleable__control sk-hidden--visually\" id=\"a1a36d70-6951-426b-b80a-88a6a7ae88a8\" type=\"checkbox\" ><label class=\"sk-toggleable__label\" for=\"a1a36d70-6951-426b-b80a-88a6a7ae88a8\">unorder_cate_cols</label><div class=\"sk-toggleable__content\"><pre>['sex', 'region']</pre></div></div></div><div class=\"sk-serial\"><div class=\"sk-item\"><div class=\"sk-serial\"><div class=\"sk-item\"><div class=\"sk-estimator sk-toggleable\"><input class=\"sk-toggleable__control sk-hidden--visually\" id=\"32146865-9325-4daa-89f0-2c0b9ba5f42d\" type=\"checkbox\" ><label class=\"sk-toggleable__label\" for=\"32146865-9325-4daa-89f0-2c0b9ba5f42d\">OneHotEncoder</label><div class=\"sk-toggleable__content\"><pre>OneHotEncoder(handle_unknown='ignore')</pre></div></div></div></div></div></div></div></div></div></div><div class=\"sk-item\"><div class=\"sk-estimator sk-toggleable\"><input class=\"sk-toggleable__control sk-hidden--visually\" id=\"9f1251d1-d97a-494f-9b1a-42009ccfb43d\" type=\"checkbox\" ><label class=\"sk-toggleable__label\" for=\"9f1251d1-d97a-494f-9b1a-42009ccfb43d\">StandardScaler</label><div class=\"sk-toggleable__content\"><pre>StandardScaler()</pre></div></div></div><div class=\"sk-item\"><div class=\"sk-estimator sk-toggleable\"><input class=\"sk-toggleable__control sk-hidden--visually\" id=\"ce90bce3-968b-4747-acd3-2a61df274ed2\" type=\"checkbox\" ><label class=\"sk-toggleable__label\" for=\"ce90bce3-968b-4747-acd3-2a61df274ed2\">GDLinearRegression</label><div class=\"sk-toggleable__content\"><pre><__main__.GDLinearRegression object at 0x000001D3AEFAB0A0></pre></div></div></div></div></div></div></div>"
      ],
      "text/plain": [
       "Pipeline(steps=[('coladderdropper', ColAdderDropper()),\n",
       "                ('columntransformer',\n",
       "                 ColumnTransformer(remainder='passthrough',\n",
       "                                   transformers=[('unorder_cate_cols',\n",
       "                                                  Pipeline(steps=[('onehotencoder',\n",
       "                                                                   OneHotEncoder(handle_unknown='ignore'))]),\n",
       "                                                  ['sex', 'region'])])),\n",
       "                ('standardscaler', StandardScaler()),\n",
       "                ('gdlinearregression',\n",
       "                 <__main__.GDLinearRegression object at 0x000001D3AEFAB0A0>)])"
      ]
     },
     "execution_count": 44,
     "metadata": {},
     "output_type": "execute_result"
    }
   ],
   "source": [
    "warnings.filterwarnings(\"ignore\")\n",
    "GDLR_train_X_df = train_X.append(test_X)\n",
    "GDLR_train_y_sr = train_y.append(test_y)\n",
    "GDLR_pipeline.fit(GDLR_train_X_df, GDLR_train_y_sr)"
   ]
  },
  {
   "cell_type": "markdown",
   "metadata": {},
   "source": [
    "### c. So sánh giá trị dự đoán tập test so với thực tế "
   ]
  },
  {
   "cell_type": "code",
   "execution_count": 47,
   "metadata": {
    "scrolled": true
   },
   "outputs": [
    {
     "data": {
      "text/html": [
       "<div>\n",
       "<style scoped>\n",
       "    .dataframe tbody tr th:only-of-type {\n",
       "        vertical-align: middle;\n",
       "    }\n",
       "\n",
       "    .dataframe tbody tr th {\n",
       "        vertical-align: top;\n",
       "    }\n",
       "\n",
       "    .dataframe thead th {\n",
       "        text-align: right;\n",
       "    }\n",
       "</style>\n",
       "<table border=\"1\" class=\"dataframe\">\n",
       "  <thead>\n",
       "    <tr style=\"text-align: right;\">\n",
       "      <th></th>\n",
       "      <th>Predict</th>\n",
       "      <th>Actual</th>\n",
       "    </tr>\n",
       "  </thead>\n",
       "  <tbody>\n",
       "    <tr>\n",
       "      <th>0</th>\n",
       "      <td>8618.422692</td>\n",
       "      <td>9095.06825</td>\n",
       "    </tr>\n",
       "    <tr>\n",
       "      <th>1</th>\n",
       "      <td>7553.169400</td>\n",
       "      <td>5272.17580</td>\n",
       "    </tr>\n",
       "    <tr>\n",
       "      <th>2</th>\n",
       "      <td>37488.304316</td>\n",
       "      <td>29330.98315</td>\n",
       "    </tr>\n",
       "    <tr>\n",
       "      <th>3</th>\n",
       "      <td>8678.596154</td>\n",
       "      <td>9301.89355</td>\n",
       "    </tr>\n",
       "    <tr>\n",
       "      <th>4</th>\n",
       "      <td>27476.070898</td>\n",
       "      <td>33750.29180</td>\n",
       "    </tr>\n",
       "    <tr>\n",
       "      <th>...</th>\n",
       "      <td>...</td>\n",
       "      <td>...</td>\n",
       "    </tr>\n",
       "    <tr>\n",
       "      <th>330</th>\n",
       "      <td>13328.579079</td>\n",
       "      <td>13217.09450</td>\n",
       "    </tr>\n",
       "    <tr>\n",
       "      <th>331</th>\n",
       "      <td>15350.853922</td>\n",
       "      <td>11944.59435</td>\n",
       "    </tr>\n",
       "    <tr>\n",
       "      <th>332</th>\n",
       "      <td>7451.236129</td>\n",
       "      <td>14358.36437</td>\n",
       "    </tr>\n",
       "    <tr>\n",
       "      <th>333</th>\n",
       "      <td>26416.273275</td>\n",
       "      <td>32548.34050</td>\n",
       "    </tr>\n",
       "    <tr>\n",
       "      <th>334</th>\n",
       "      <td>9629.679343</td>\n",
       "      <td>5699.83750</td>\n",
       "    </tr>\n",
       "  </tbody>\n",
       "</table>\n",
       "<p>335 rows × 2 columns</p>\n",
       "</div>"
      ],
      "text/plain": [
       "          Predict       Actual\n",
       "0     8618.422692   9095.06825\n",
       "1     7553.169400   5272.17580\n",
       "2    37488.304316  29330.98315\n",
       "3     8678.596154   9301.89355\n",
       "4    27476.070898  33750.29180\n",
       "..            ...          ...\n",
       "330  13328.579079  13217.09450\n",
       "331  15350.853922  11944.59435\n",
       "332   7451.236129  14358.36437\n",
       "333  26416.273275  32548.34050\n",
       "334   9629.679343   5699.83750\n",
       "\n",
       "[335 rows x 2 columns]"
      ]
     },
     "execution_count": 47,
     "metadata": {},
     "output_type": "execute_result"
    }
   ],
   "source": [
    "GDLR_predict=GDLR_pipeline.predict(X_df_test)\n",
    "GDLR_preds_df = pd.DataFrame(GDLR_predict).rename(columns={0: 'Predict'})\n",
    "GDLR_preds_df = GDLR_preds_df.assign(Actual = y_sr_test)\n",
    "GDLR_preds_df"
   ]
  },
  {
   "cell_type": "markdown",
   "metadata": {},
   "source": [
    "### d. Độ chính xác mô hình"
   ]
  },
  {
   "cell_type": "code",
   "execution_count": 49,
   "metadata": {
    "scrolled": true
   },
   "outputs": [
    {
     "name": "stdout",
     "output_type": "stream",
     "text": [
      "Độ chính xác linear Regression với Gradient Decent:  76.39518336884825\n"
     ]
    }
   ],
   "source": [
    "GDLR_score=compute_rr(y_sr_test, GDLR_predict, baseline_preds) * 100\n",
    "print(\"Độ chính xác linear Regression với Gradient Decent: \",GDLR_score)"
   ]
  },
  {
   "cell_type": "markdown",
   "metadata": {},
   "source": [
    "# + MÔ HÌNH NÂNG CAO"
   ]
  },
  {
   "cell_type": "markdown",
   "metadata": {},
   "source": [
    "-  DO ĐÂY LÀ **BÀI TOÁN HỒI QUY** NÊN CÁC MÔ HÌNH MÁY HỌC ĐƯỢC XÉT:\n",
    "    - `RandomForestRegressor`\n",
    "    - `MLPRegressor`"
   ]
  },
  {
   "cell_type": "markdown",
   "metadata": {},
   "source": [
    "## 1. Mô hình `MLPRegressor`\n",
    "\n",
    "Ta sẽ sử dụng mô hình Neural Net để phân lớp. Bạn sẽ tạo ra một pipeline từ đầu đến cuối bao gồm: các bước tiền xử lý ở trên + Neural Net (với các siêu tham số  `activation='logistic', solver='lbfgs', random_state=0, max_iter=2500`).\n",
    "\n",
    "- Siêu tham số alpha với 5 giá trị khác nhau.\n",
    "- Tham số hidden_layer_sizes với 6 giá trị khác nhau.\n",
    "\n",
    "Tìm các giá trị best_alpha, best_hidden_layer."
   ]
  },
  {
   "cell_type": "code",
   "execution_count": 27,
   "metadata": {},
   "outputs": [
    {
     "data": {
      "text/plain": [
       "'Finish!'"
      ]
     },
     "execution_count": 27,
     "metadata": {},
     "output_type": "execute_result"
    }
   ],
   "source": [
    "warnings.filterwarnings(\"ignore\")\n",
    "neural_net_model = MLPRegressor(activation='logistic', solver='lbfgs', random_state=0, max_iter=2500)\n",
    "MLP_pipeline = make_pipeline(col_adderdropper,col_transform, StandardScaler(), neural_net_model)\n",
    "\n",
    "# Thử nghiệm với các giá trị khác nhau của các siêu tham số\n",
    "# và chọn ra các giá trị tốt nhất\n",
    "train_errs = []\n",
    "val_errs = []\n",
    "alphas = [1, 10, 100,500,800]\n",
    "hidden_layer_sizes=[80,100,120,130,140,150]\n",
    "best_val_err = float('inf'); best_alpha = None; best_hidden_layer=None;\n",
    "for hidden_layer in hidden_layer_sizes:\n",
    "    for alpha in alphas:\n",
    "        MLP_pipeline.set_params(mlpregressor__alpha=alpha, mlpregressor__hidden_layer_sizes=hidden_layer)\n",
    "        MLP_pipeline.fit(train_X, train_y)\n",
    "        train_errs.append(100 - compute_rr(train_y, MLP_pipeline.predict(train_X), baseline_preds) * 100)\n",
    "        val_errs.append(100 - compute_rr(test_y,MLP_pipeline.predict(test_X), baseline_preds) * 100)\n",
    "\n",
    "        if val_errs[-1] < best_val_err:\n",
    "            best_val_err = val_errs[-1]\n",
    "            best_alpha = alpha\n",
    "            best_hidden_layer=hidden_layer\n",
    "            \n",
    "'Finish!'"
   ]
  },
  {
   "cell_type": "markdown",
   "metadata": {},
   "source": [
    "### a. Trực quan hóa kết quả độ lỗi theo các tham số khác nhau trên tập train và tập validation"
   ]
  },
  {
   "cell_type": "code",
   "execution_count": 28,
   "metadata": {},
   "outputs": [
    {
     "data": {
      "image/png": "[encoded data removed]",
      "text/plain": [
       "<Figure size 720x360 with 2 Axes>"
      ]
     },
     "metadata": {
      "needs_background": "light"
     },
     "output_type": "display_data"
    }
   ],
   "source": [
    "\n",
    "train_errs_df = pd.DataFrame(data=np.array(train_errs).reshape(len(alphas), -1),\n",
    "                             index=alphas, columns=hidden_layer_sizes)\n",
    "val_errs_df = pd.DataFrame(data=np.array(val_errs).reshape(len(alphas), -1), \n",
    "                           index=alphas, columns=hidden_layer_sizes)\n",
    "min_err = min(min(train_errs), min(val_errs))\n",
    "max_err = max(max(train_errs), max(val_errs))\n",
    "plt.figure(figsize=(10, 5))\n",
    "plt.subplot(1, 2, 1)\n",
    "sns.heatmap(train_errs_df, vmin=min_err, vmax=max_err, square=True, annot=True, \n",
    "            cbar=False, fmt='.1f', cmap='Reds')\n",
    "plt.title('train errors'); plt.xlabel('hidden_layer_sizes'); plt.ylabel('alpha')\n",
    "plt.subplot(1, 2, 2)\n",
    "sns.heatmap(val_errs_df, vmin=min_err, vmax=max_err, square=True, annot=True, \n",
    "            cbar=False, fmt='.1f', cmap='Reds')\n",
    "plt.title('validation errors'); plt.xlabel('hidden_layer_sizes'); plt.ylabel('alpha');"
   ]
  },
  {
   "cell_type": "markdown",
   "metadata": {},
   "source": [
    "### b. In các giá trị tốt nhất vừa tìm được"
   ]
  },
  {
   "cell_type": "code",
   "execution_count": 29,
   "metadata": {},
   "outputs": [
    {
     "name": "stdout",
     "output_type": "stream",
     "text": [
      "best_val_err :  15.828756946870897\n",
      "best_alpha :  100\n",
      "best_hidden_layer 100\n"
     ]
    }
   ],
   "source": [
    "print(\"best_val_err : \", best_val_err)\n",
    "print(\"best_alpha : \" ,best_alpha)\n",
    "print(\"best_hidden_layer\",best_hidden_layer)"
   ]
  },
  {
   "cell_type": "markdown",
   "metadata": {},
   "source": [
    "- Qua mô hình MLPRegresor ta có độ lỗi trên tập validation nhỏ nhất là 15.88%"
   ]
  },
  {
   "cell_type": "markdown",
   "metadata": {},
   "source": [
    "## 2. Mô hình `RandomforestRegressor`"
   ]
  },
  {
   "cell_type": "markdown",
   "metadata": {},
   "source": [
    "- Tham số: random_state=0\n",
    "- Siêu tham số max_depth với 5 giá trị khác nhau.\n",
    "- Tham số n_estimators với 5 giá trị khác nhau.\n",
    "\n",
    "Tìm các giá trị best_max_depth, best_n_estimators."
   ]
  },
  {
   "cell_type": "code",
   "execution_count": 30,
   "metadata": {},
   "outputs": [
    {
     "data": {
      "text/plain": [
       "'Finish!'"
      ]
     },
     "execution_count": 30,
     "metadata": {},
     "output_type": "execute_result"
    }
   ],
   "source": [
    "warnings.filterwarnings(\"ignore\")\n",
    "RandomForest_model = RandomForestRegressor(random_state=0)\n",
    "RFR_pipeline = make_pipeline(col_adderdropper, col_transform, StandardScaler(), RandomForest_model)\n",
    "\n",
    "# Thử nghiệm với các giá trị khác nhau của các siêu tham số\n",
    "# và chọn ra các giá trị tốt nhất\n",
    "train_errs = []\n",
    "val_errs = []\n",
    "max_depth = [16, 32, 64, 128, 256]\n",
    "n_estimators=[20,50,80,100,120,130]\n",
    "best_val_err = float('inf'); best_max_depth = None; best_n_estimators=None;\n",
    "for depth in max_depth:\n",
    "    for estimators in n_estimators:\n",
    "        RFR_pipeline.set_params(randomforestregressor__max_depth = depth, randomforestregressor__n_estimators = estimators)\n",
    "        RFR_pipeline.fit(train_X, train_y)\n",
    "        train_errs.append(100 - compute_rr(train_y, RFR_pipeline.predict(train_X), baseline_preds) * 100)\n",
    "        val_errs.append(100 - compute_rr(test_y, RFR_pipeline.predict(test_X), baseline_preds) * 100)\n",
    "\n",
    "        if val_errs[-1] < best_val_err:\n",
    "            best_val_err = val_errs[-1]\n",
    "            best_max_depth = depth\n",
    "            best_n_estimators = estimators\n",
    "            \n",
    "'Finish!'"
   ]
  },
  {
   "cell_type": "markdown",
   "metadata": {},
   "source": [
    "### a. Trực quan hóa kết quả độ lỗi theo các tham số khác nhau trên tập train và tập validation"
   ]
  },
  {
   "cell_type": "code",
   "execution_count": 31,
   "metadata": {},
   "outputs": [
    {
     "data": {
      "image/png": "[encoded data removed]",
      "text/plain": [
       "<Figure size 720x360 with 2 Axes>"
      ]
     },
     "metadata": {
      "needs_background": "light"
     },
     "output_type": "display_data"
    }
   ],
   "source": [
    "train_errs_df = pd.DataFrame(data=np.array(train_errs).reshape(len(alphas), -1),\n",
    "                             index=max_depth, columns=n_estimators)\n",
    "val_errs_df = pd.DataFrame(data=np.array(val_errs).reshape(len(alphas), -1), \n",
    "                           index=max_depth, columns=n_estimators)\n",
    "min_err = min(min(train_errs), min(val_errs))\n",
    "max_err = max(max(train_errs), max(val_errs))\n",
    "plt.figure(figsize=(10, 5))\n",
    "plt.subplot(1, 2, 1)\n",
    "sns.heatmap(train_errs_df, vmin=min_err, vmax=max_err, square=True, annot=True, \n",
    "            cbar=False, fmt='.1f', cmap='Reds')\n",
    "plt.title('train errors'); plt.xlabel('n_estimators'); plt.ylabel('max_depth')\n",
    "plt.subplot(1, 2, 2)\n",
    "sns.heatmap(val_errs_df, vmin=min_err, vmax=max_err, square=True, annot=True, \n",
    "            cbar=False, fmt='.1f', cmap='Reds')\n",
    "plt.title('validation errors'); plt.xlabel('n_estimators'); plt.ylabel('max_depth');"
   ]
  },
  {
   "cell_type": "markdown",
   "metadata": {},
   "source": [
    "### b. In các giá trị tốt nhất vừa tìm được"
   ]
  },
  {
   "cell_type": "code",
   "execution_count": 32,
   "metadata": {},
   "outputs": [
    {
     "name": "stdout",
     "output_type": "stream",
     "text": [
      "best_val_err :  15.116219181481853\n",
      "best_alpha :  32\n",
      "best_hidden_layer 80\n"
     ]
    }
   ],
   "source": [
    "print(\"best_val_err : \", best_val_err)\n",
    "print(\"best_alpha : \" ,best_max_depth)\n",
    "print(\"best_hidden_layer\",best_n_estimators)"
   ]
  },
  {
   "cell_type": "markdown",
   "metadata": {},
   "source": [
    "- Qua mô hình RandomForestRegressor ta có độ lỗi trên tập validation nhỏ nhất là 15.11%"
   ]
  },
  {
   "cell_type": "markdown",
   "metadata": {},
   "source": [
    "# 3. Đánh giá độ lỗi và chọn mô hình phù hợp cho máy học nâng cao.\n"
   ]
  },
  {
   "cell_type": "markdown",
   "metadata": {},
   "source": [
    "- Cả mô hình `RandomForestRegressor` và `MLPRegression` cho kết quả khả quan trên tập validation, tuy nhiên kết quả vẫn còn khá chủ quan vì việc lựa chọn các siêu tham số đều được làm bằng tay.\n",
    "- Cả 2 mô hình đều chạy khá ổn, tuy nhiên chọn mô hình `randomforestregression` vì kết quả độ lỗi có vẻ tốt hơn."
   ]
  },
  {
   "cell_type": "markdown",
   "metadata": {},
   "source": [
    "## a. Train lại bằng mô hình `RandomForestRegressor` với các siêu tham số tối ưu tìm được trên tập train + validation."
   ]
  },
  {
   "cell_type": "code",
   "execution_count": 33,
   "metadata": {},
   "outputs": [
    {
     "data": {
      "text/html": [
       "<style>div.sk-top-container {color: black;background-color: white;}div.sk-toggleable {background-color: white;}label.sk-toggleable__label {cursor: pointer;display: block;width: 100%;margin-bottom: 0;padding: 0.2em 0.3em;box-sizing: border-box;text-align: center;}div.sk-toggleable__content {max-height: 0;max-width: 0;overflow: hidden;text-align: left;background-color: #f0f8ff;}div.sk-toggleable__content pre {margin: 0.2em;color: black;border-radius: 0.25em;background-color: #f0f8ff;}input.sk-toggleable__control:checked~div.sk-toggleable__content {max-height: 200px;max-width: 100%;overflow: auto;}div.sk-estimator input.sk-toggleable__control:checked~label.sk-toggleable__label {background-color: #d4ebff;}div.sk-label input.sk-toggleable__control:checked~label.sk-toggleable__label {background-color: #d4ebff;}input.sk-hidden--visually {border: 0;clip: rect(1px 1px 1px 1px);clip: rect(1px, 1px, 1px, 1px);height: 1px;margin: -1px;overflow: hidden;padding: 0;position: absolute;width: 1px;}div.sk-estimator {font-family: monospace;background-color: #f0f8ff;margin: 0.25em 0.25em;border: 1px dotted black;border-radius: 0.25em;box-sizing: border-box;}div.sk-estimator:hover {background-color: #d4ebff;}div.sk-parallel-item::after {content: \"\";width: 100%;border-bottom: 1px solid gray;flex-grow: 1;}div.sk-label:hover label.sk-toggleable__label {background-color: #d4ebff;}div.sk-serial::before {content: \"\";position: absolute;border-left: 1px solid gray;box-sizing: border-box;top: 2em;bottom: 0;left: 50%;}div.sk-serial {display: flex;flex-direction: column;align-items: center;background-color: white;}div.sk-item {z-index: 1;}div.sk-parallel {display: flex;align-items: stretch;justify-content: center;background-color: white;}div.sk-parallel-item {display: flex;flex-direction: column;position: relative;background-color: white;}div.sk-parallel-item:first-child::after {align-self: flex-end;width: 50%;}div.sk-parallel-item:last-child::after {align-self: flex-start;width: 50%;}div.sk-parallel-item:only-child::after {width: 0;}div.sk-dashed-wrapped {border: 1px dashed gray;margin: 0.2em;box-sizing: border-box;padding-bottom: 0.1em;background-color: white;position: relative;}div.sk-label label {font-family: monospace;font-weight: bold;background-color: white;display: inline-block;line-height: 1.2em;}div.sk-label-container {position: relative;z-index: 2;text-align: center;}div.sk-container {display: inline-block;position: relative;}</style><div class=\"sk-top-container\"><div class=\"sk-container\"><div class=\"sk-item sk-dashed-wrapped\"><div class=\"sk-label-container\"><div class=\"sk-label sk-toggleable\"><input class=\"sk-toggleable__control sk-hidden--visually\" id=\"17fe0ac8-80b6-4e9d-a7aa-68f984158bbd\" type=\"checkbox\" ><label class=\"sk-toggleable__label\" for=\"17fe0ac8-80b6-4e9d-a7aa-68f984158bbd\">Pipeline</label><div class=\"sk-toggleable__content\"><pre>Pipeline(steps=[('coladderdropper', ColAdderDropper()),\n",
       "                ('columntransformer',\n",
       "                 ColumnTransformer(remainder='passthrough',\n",
       "                                   transformers=[('unorder_cate_cols',\n",
       "                                                  Pipeline(steps=[('onehotencoder',\n",
       "                                                                   OneHotEncoder(handle_unknown='ignore'))]),\n",
       "                                                  ['sex', 'region'])])),\n",
       "                ('standardscaler', StandardScaler()),\n",
       "                ('randomforestregressor',\n",
       "                 RandomForestRegressor(max_depth=32, n_estimators=80,\n",
       "                                       random_state=0))])</pre></div></div></div><div class=\"sk-serial\"><div class=\"sk-item\"><div class=\"sk-estimator sk-toggleable\"><input class=\"sk-toggleable__control sk-hidden--visually\" id=\"64f01303-d2b3-44ed-ab0a-b78ec54c84ff\" type=\"checkbox\" ><label class=\"sk-toggleable__label\" for=\"64f01303-d2b3-44ed-ab0a-b78ec54c84ff\">ColAdderDropper</label><div class=\"sk-toggleable__content\"><pre>ColAdderDropper()</pre></div></div></div><div class=\"sk-item sk-dashed-wrapped\"><div class=\"sk-label-container\"><div class=\"sk-label sk-toggleable\"><input class=\"sk-toggleable__control sk-hidden--visually\" id=\"d730e78c-fa19-4fb9-8cc1-4a697c1b0e30\" type=\"checkbox\" ><label class=\"sk-toggleable__label\" for=\"d730e78c-fa19-4fb9-8cc1-4a697c1b0e30\">columntransformer: ColumnTransformer</label><div class=\"sk-toggleable__content\"><pre>ColumnTransformer(remainder='passthrough',\n",
       "                  transformers=[('unorder_cate_cols',\n",
       "                                 Pipeline(steps=[('onehotencoder',\n",
       "                                                  OneHotEncoder(handle_unknown='ignore'))]),\n",
       "                                 ['sex', 'region'])])</pre></div></div></div><div class=\"sk-parallel\"><div class=\"sk-parallel-item\"><div class=\"sk-item\"><div class=\"sk-label-container\"><div class=\"sk-label sk-toggleable\"><input class=\"sk-toggleable__control sk-hidden--visually\" id=\"01d01cc2-5e42-4f2e-b943-3b03bbf03dc8\" type=\"checkbox\" ><label class=\"sk-toggleable__label\" for=\"01d01cc2-5e42-4f2e-b943-3b03bbf03dc8\">unorder_cate_cols</label><div class=\"sk-toggleable__content\"><pre>['sex', 'region']</pre></div></div></div><div class=\"sk-serial\"><div class=\"sk-item\"><div class=\"sk-serial\"><div class=\"sk-item\"><div class=\"sk-estimator sk-toggleable\"><input class=\"sk-toggleable__control sk-hidden--visually\" id=\"5b70496a-8368-4ec5-a348-a8365c4f8774\" type=\"checkbox\" ><label class=\"sk-toggleable__label\" for=\"5b70496a-8368-4ec5-a348-a8365c4f8774\">OneHotEncoder</label><div class=\"sk-toggleable__content\"><pre>OneHotEncoder(handle_unknown='ignore')</pre></div></div></div></div></div></div></div></div></div></div><div class=\"sk-item\"><div class=\"sk-estimator sk-toggleable\"><input class=\"sk-toggleable__control sk-hidden--visually\" id=\"f3674def-8ba1-4c1b-bf1e-5b963bcbb094\" type=\"checkbox\" ><label class=\"sk-toggleable__label\" for=\"f3674def-8ba1-4c1b-bf1e-5b963bcbb094\">StandardScaler</label><div class=\"sk-toggleable__content\"><pre>StandardScaler()</pre></div></div></div><div class=\"sk-item\"><div class=\"sk-estimator sk-toggleable\"><input class=\"sk-toggleable__control sk-hidden--visually\" id=\"a87e0d40-baf3-4f0f-9ed0-15a996692a7b\" type=\"checkbox\" ><label class=\"sk-toggleable__label\" for=\"a87e0d40-baf3-4f0f-9ed0-15a996692a7b\">RandomForestRegressor</label><div class=\"sk-toggleable__content\"><pre>RandomForestRegressor(max_depth=32, n_estimators=80, random_state=0)</pre></div></div></div></div></div></div></div>"
      ],
      "text/plain": [
       "Pipeline(steps=[('coladderdropper', ColAdderDropper()),\n",
       "                ('columntransformer',\n",
       "                 ColumnTransformer(remainder='passthrough',\n",
       "                                   transformers=[('unorder_cate_cols',\n",
       "                                                  Pipeline(steps=[('onehotencoder',\n",
       "                                                                   OneHotEncoder(handle_unknown='ignore'))]),\n",
       "                                                  ['sex', 'region'])])),\n",
       "                ('standardscaler', StandardScaler()),\n",
       "                ('randomforestregressor',\n",
       "                 RandomForestRegressor(max_depth=32, n_estimators=80,\n",
       "                                       random_state=0))])"
      ]
     },
     "execution_count": 33,
     "metadata": {},
     "output_type": "execute_result"
    }
   ],
   "source": [
    "warnings.filterwarnings(\"ignore\")\n",
    "full_train_X_df = train_X.append(test_X)\n",
    "full_train_y_sr = train_y.append(test_y)\n",
    "\n",
    "RFR_pipeline.set_params(randomforestregressor__max_depth = best_max_depth, randomforestregressor__n_estimators = best_n_estimators)\n",
    "RFR_pipeline.fit(full_train_X_df, full_train_y_sr)"
   ]
  },
  {
   "cell_type": "markdown",
   "metadata": {},
   "source": [
    "### b. So sánh kết quả predict với kết quả thực trên tập validation"
   ]
  },
  {
   "cell_type": "code",
   "execution_count": 36,
   "metadata": {},
   "outputs": [
    {
     "data": {
      "text/html": [
       "<div>\n",
       "<style scoped>\n",
       "    .dataframe tbody tr th:only-of-type {\n",
       "        vertical-align: middle;\n",
       "    }\n",
       "\n",
       "    .dataframe tbody tr th {\n",
       "        vertical-align: top;\n",
       "    }\n",
       "\n",
       "    .dataframe thead th {\n",
       "        text-align: right;\n",
       "    }\n",
       "</style>\n",
       "<table border=\"1\" class=\"dataframe\">\n",
       "  <thead>\n",
       "    <tr style=\"text-align: right;\">\n",
       "      <th></th>\n",
       "      <th>Predict</th>\n",
       "      <th>Actual</th>\n",
       "    </tr>\n",
       "  </thead>\n",
       "  <tbody>\n",
       "    <tr>\n",
       "      <th>204</th>\n",
       "      <td>2744.77647</td>\n",
       "      <td>2331.51900</td>\n",
       "    </tr>\n",
       "    <tr>\n",
       "      <th>311</th>\n",
       "      <td>23179.74905</td>\n",
       "      <td>30166.61817</td>\n",
       "    </tr>\n",
       "    <tr>\n",
       "      <th>991</th>\n",
       "      <td>15298.49975</td>\n",
       "      <td>18903.49141</td>\n",
       "    </tr>\n",
       "    <tr>\n",
       "      <th>485</th>\n",
       "      <td>13557.64802</td>\n",
       "      <td>12495.29085</td>\n",
       "    </tr>\n",
       "    <tr>\n",
       "      <th>493</th>\n",
       "      <td>20399.61942</td>\n",
       "      <td>20234.85475</td>\n",
       "    </tr>\n",
       "    <tr>\n",
       "      <th>632</th>\n",
       "      <td>7863.97841</td>\n",
       "      <td>7633.72060</td>\n",
       "    </tr>\n",
       "    <tr>\n",
       "      <th>483</th>\n",
       "      <td>5631.18727</td>\n",
       "      <td>4433.91590</td>\n",
       "    </tr>\n",
       "    <tr>\n",
       "      <th>654</th>\n",
       "      <td>24454.01968</td>\n",
       "      <td>24667.41900</td>\n",
       "    </tr>\n",
       "    <tr>\n",
       "      <th>650</th>\n",
       "      <td>18513.76433</td>\n",
       "      <td>17560.37975</td>\n",
       "    </tr>\n",
       "    <tr>\n",
       "      <th>807</th>\n",
       "      <td>5338.71695</td>\n",
       "      <td>5373.36425</td>\n",
       "    </tr>\n",
       "    <tr>\n",
       "      <th>689</th>\n",
       "      <td>14432.28698</td>\n",
       "      <td>13224.05705</td>\n",
       "    </tr>\n",
       "    <tr>\n",
       "      <th>776</th>\n",
       "      <td>11476.21754</td>\n",
       "      <td>11455.28000</td>\n",
       "    </tr>\n",
       "    <tr>\n",
       "      <th>740</th>\n",
       "      <td>2487.80847</td>\n",
       "      <td>1909.52745</td>\n",
       "    </tr>\n",
       "    <tr>\n",
       "      <th>145</th>\n",
       "      <td>6273.81428</td>\n",
       "      <td>6186.12700</td>\n",
       "    </tr>\n",
       "    <tr>\n",
       "      <th>331</th>\n",
       "      <td>10900.13682</td>\n",
       "      <td>10381.47870</td>\n",
       "    </tr>\n",
       "  </tbody>\n",
       "</table>\n",
       "</div>"
      ],
      "text/plain": [
       "         Predict       Actual\n",
       "204   2744.77647   2331.51900\n",
       "311  23179.74905  30166.61817\n",
       "991  15298.49975  18903.49141\n",
       "485  13557.64802  12495.29085\n",
       "493  20399.61942  20234.85475\n",
       "632   7863.97841   7633.72060\n",
       "483   5631.18727   4433.91590\n",
       "654  24454.01968  24667.41900\n",
       "650  18513.76433  17560.37975\n",
       "807   5338.71695   5373.36425\n",
       "689  14432.28698  13224.05705\n",
       "776  11476.21754  11455.28000\n",
       "740   2487.80847   1909.52745\n",
       "145   6273.81428   6186.12700\n",
       "331  10900.13682  10381.47870"
      ]
     },
     "execution_count": 36,
     "metadata": {},
     "output_type": "execute_result"
    }
   ],
   "source": [
    "RFR_preds = RFR_pipeline.predict(test_X).round(5)\n",
    "# So sánh kết quả predict với kết quả actual\n",
    "RFR_preds_df = pd.DataFrame(RFR_preds, index=test_y.index).rename(columns={0: 'Predict'})\n",
    "RFR_preds_df = RFR_preds_df.assign(Actual = test_y)\n",
    "RFR_preds_df.sample(15)"
   ]
  },
  {
   "cell_type": "markdown",
   "metadata": {},
   "source": [
    "## c. Tính độ chính xác trên tập test với mô hình `RandomForestRegressor`"
   ]
  },
  {
   "cell_type": "code",
   "execution_count": 37,
   "metadata": {},
   "outputs": [],
   "source": [
    "test_df = pd.read_csv('test.csv')\n",
    "y_sr_test = test_df[\"charges\"] # sr là viết tắt của series\n",
    "X_df_test = test_df.drop(\"charges\", axis=1)"
   ]
  },
  {
   "cell_type": "code",
   "execution_count": 52,
   "metadata": {
    "scrolled": true
   },
   "outputs": [
    {
     "name": "stdout",
     "output_type": "stream",
     "text": [
      "Độ chính xác:  85.03163260852679\n"
     ]
    }
   ],
   "source": [
    "RFR_score=compute_rr(y_sr_test, RFR_pipeline.predict(X_df_test), baseline_preds) * 100\n",
    "print(\"Độ chính xác: \",RFR_score)\n"
   ]
  },
  {
   "cell_type": "markdown",
   "metadata": {},
   "source": [
    "# V. Tổng kết"
   ]
  },
  {
   "cell_type": "markdown",
   "metadata": {},
   "source": [
    "## - Độ chính xác các mô hình"
   ]
  },
  {
   "cell_type": "code",
   "execution_count": 56,
   "metadata": {},
   "outputs": [
    {
     "name": "stdout",
     "output_type": "stream",
     "text": [
      "Độ chính xác\n",
      "Linear regression:                          76.39518336880413\n",
      "Linear regression sử dụng Gradient Decent:  76.39518336884825\n",
      "RandomForestRegressor:                      85.03163260852679\n"
     ]
    }
   ],
   "source": [
    "print(\"Độ chính xác\")\n",
    "print(\"Linear regression:                         \",linear_score)\n",
    "print(\"Linear regression sử dụng Gradient Decent: \",GDLR_score)\n",
    "print(\"RandomForestRegressor:                     \",RFR_score)"
   ]
  },
  {
   "cell_type": "markdown",
   "metadata": {},
   "source": [
    "#### Kết luận: Vậy qua các mô hình trên, ta tìm được mô hình tốt nhất cho việc huấn luyện cũng như dự đoán. Với mô hình `RandomForestRegressor` cho ra dự đoán với độ chính xác lên đến 85% (khá cao)."
   ]
  }
 ],
 "metadata": {
  "kernelspec": {
   "display_name": "Python 3",
   "language": "python",
   "name": "python3"
  },
  "language_info": {
   "codemirror_mode": {
    "name": "ipython",
    "version": 3
   },
   "file_extension": ".py",
   "mimetype": "text/x-python",
   "name": "python",
   "nbconvert_exporter": "python",
   "pygments_lexer": "ipython3",
   "version": "3.8.5"
  }
 },
 "nbformat": 4,
 "nbformat_minor": 4
}
